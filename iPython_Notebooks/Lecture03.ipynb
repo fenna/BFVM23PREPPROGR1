{
  "cells": [
    {
      "metadata": {
        "collapsed": true
      },
      "cell_type": "markdown",
      "source": "# Lecture 03: Code Reuse, Functions and Modules"
    },
    {
      "metadata": {},
      "cell_type": "markdown",
      "source": "## Chapters\nChapter 4: Code Reuse: Functions and Modules <br>\nAuthor: Ronald Wedema"
    },
    {
      "metadata": {},
      "cell_type": "markdown",
      "source": "## Functions: grouping code for reuse\nOnce programs start to get a bit more serieus the amount of code usually also grows. Many times we have code that does a specific thing. And when we want this piece of code to do it's work on another variable we could just copy paste the code and as such work on multiple variables. But this ofcourse leads to code that is not maintainable (if you made an error you need to fix it everywhere). Readability is also low on these kind of copy-pasted pieces of code. \n\nTo create readable and maintainable code that can also be used on different variables, we can make use of Python function. Functions are grouped pieces of code that are given a name. When refering to this name we actually run all the code that belongs to this function."
    },
    {
      "metadata": {},
      "cell_type": "markdown",
      "source": "In the next example the anatomy of the Python function will be shown. There a a few concepts that go with functions.\n\n- First all functions start with the word `def`\n- Next the keyword `def` is followed by a name given to the function\n- Note the `()` after a function name, this is the place were you can pass argument(s) to the function\n- After the `()`, a single `:` appears\n- The actual code of the function starts *indented* on a new line\n- To run the code in the function we refer to it's name (don't forget the parenthesis `()`)\n"
    },
    {
      "metadata": {
        "trusted": false
      },
      "cell_type": "code",
      "source": "# Here we define our function for reuse\ndef my_first_function():\n    print('In the function')\n\n\nprint('Before the function call')\n# call the function by using it's name\nmy_first_function()\nmy_first_function()\nprint('after the function call')",
      "execution_count": 41,
      "outputs": [
        {
          "name": "stdout",
          "output_type": "stream",
          "text": "Before the function call\nIn the function\nIn the function\nafter the function call\n"
        }
      ]
    },
    {
      "metadata": {},
      "cell_type": "markdown",
      "source": "In the previous example we first printed a message that we are before the function call, then we **called the function twice** and finally printed a message saying that we are now after the function.\n\nTip: it is always a good idea to give the function name a good describing name of what the function does."
    },
    {
      "metadata": {},
      "cell_type": "markdown",
      "source": "### Function arguments\nSo now we no know how to create a function and call it multiple times. What about the arguments that can be passed to the function?\n\nIn the next example we have a function that will print a variable. This variable is given as a argument to the function. The argument is also given a name that will be accessible in the function. The argument is named `y` here, anything passed to the function will be in this `y` variable. "
    },
    {
      "metadata": {
        "trusted": false
      },
      "cell_type": "code",
      "source": "def printX(y):\n    print(y)\n\n\nprintX(5)\nprintX(10)\nprintX('a long sequence of characters as argument')\nprintX([1,2,3,4,5])\nprint({1:'a', 2:'b', 3:'c'})",
      "execution_count": 42,
      "outputs": [
        {
          "name": "stdout",
          "output_type": "stream",
          "text": "5\n10\na long sequence of characters as argument\n[1, 2, 3, 4, 5]\n{1: 'a', 2: 'b', 3: 'c'}\n"
        }
      ]
    },
    {
      "metadata": {},
      "cell_type": "markdown",
      "source": "In the previous example we call the same function with many different datatypes. Can you name the different datatypes beeing passed as an argument?\n\nPython does not care what type is beeing passed as an argument, as long as the following code block can handle that type. We used a simple print statement as our code block that can handle all Python datatypes."
    },
    {
      "metadata": {},
      "cell_type": "markdown",
      "source": "Can you explain the next block of code?"
    },
    {
      "metadata": {
        "trusted": false
      },
      "cell_type": "code",
      "source": "def printX(y):\n    print(y)\n    \n\ny = 'Im a string in the y variable'\nprintX(y)\n\nx = 'Im a string in the x variable'\nprintX(x)\n\nyet_another_variable_containing_a_number = 7\nprintX(yet_another_variable_containing_a_number)",
      "execution_count": 43,
      "outputs": [
        {
          "name": "stdout",
          "output_type": "stream",
          "text": "Im a string in the y variable\nIm a string in the x variable\n7\n"
        }
      ]
    },
    {
      "metadata": {},
      "cell_type": "markdown",
      "source": "We can pass multiple arguments to a function, by specifying this in the function definition. In the next example we are defining a new function that will take two numbers, add these numbers and print the result."
    },
    {
      "metadata": {
        "trusted": false
      },
      "cell_type": "code",
      "source": "def add_two_numbers(number1, number2):\n    added_numbers = number1 + number2\n    print(added_numbers)\n    \n    \nadd_two_numbers(1,2)\nadd_two_numbers(2,3)\nadd_two_numbers(40,2)",
      "execution_count": 44,
      "outputs": [
        {
          "name": "stdout",
          "output_type": "stream",
          "text": "3\n5\n42\n"
        }
      ]
    },
    {
      "metadata": {},
      "cell_type": "markdown",
      "source": "What happens if we call the function with:\n    - one number?\n    - more than two numbers?\n    - not two numbers, but a number and a string?"
    },
    {
      "metadata": {
        "trusted": false
      },
      "cell_type": "code",
      "source": "add_two_numbers(5)",
      "execution_count": 45,
      "outputs": [
        {
          "ename": "TypeError",
          "evalue": "add_two_numbers() missing 1 required positional argument: 'number2'",
          "traceback": [
            "\u001b[0;31m---------------------------------------------------------------------------\u001b[0m",
            "\u001b[0;31mTypeError\u001b[0m                                 Traceback (most recent call last)",
            "\u001b[0;32m<ipython-input-45-cf1fdfad1c57>\u001b[0m in \u001b[0;36m<module>\u001b[0;34m()\u001b[0m\n\u001b[0;32m----> 1\u001b[0;31m \u001b[0madd_two_numbers\u001b[0m\u001b[0;34m(\u001b[0m\u001b[0;36m5\u001b[0m\u001b[0;34m)\u001b[0m\u001b[0;34m\u001b[0m\u001b[0m\n\u001b[0m",
            "\u001b[0;31mTypeError\u001b[0m: add_two_numbers() missing 1 required positional argument: 'number2'"
          ],
          "output_type": "error"
        }
      ]
    },
    {
      "metadata": {},
      "cell_type": "markdown",
      "source": "We get a type error saying that we are missing one of the arguments, namely the second one (number2)"
    },
    {
      "metadata": {
        "collapsed": true,
        "trusted": false
      },
      "cell_type": "code",
      "source": "add_two_numbers(5,5,5)",
      "execution_count": 46,
      "outputs": [
        {
          "ename": "TypeError",
          "evalue": "add_two_numbers() takes 2 positional arguments but 3 were given",
          "traceback": [
            "\u001b[0;31m---------------------------------------------------------------------------\u001b[0m",
            "\u001b[0;31mTypeError\u001b[0m                                 Traceback (most recent call last)",
            "\u001b[0;32m<ipython-input-46-cc038dca8d73>\u001b[0m in \u001b[0;36m<module>\u001b[0;34m()\u001b[0m\n\u001b[0;32m----> 1\u001b[0;31m \u001b[0madd_two_numbers\u001b[0m\u001b[0;34m(\u001b[0m\u001b[0;36m5\u001b[0m\u001b[0;34m,\u001b[0m\u001b[0;36m5\u001b[0m\u001b[0;34m,\u001b[0m\u001b[0;36m5\u001b[0m\u001b[0;34m)\u001b[0m\u001b[0;34m\u001b[0m\u001b[0m\n\u001b[0m",
            "\u001b[0;31mTypeError\u001b[0m: add_two_numbers() takes 2 positional arguments but 3 were given"
          ],
          "output_type": "error"
        }
      ]
    },
    {
      "metadata": {},
      "cell_type": "markdown",
      "source": "Again a type error is trown, but now specifying we have more than 2 arguments. "
    },
    {
      "metadata": {
        "trusted": false
      },
      "cell_type": "code",
      "source": "add_two_numbers(5,'hello')",
      "execution_count": 47,
      "outputs": [
        {
          "ename": "TypeError",
          "evalue": "unsupported operand type(s) for +: 'int' and 'str'",
          "traceback": [
            "\u001b[0;31m---------------------------------------------------------------------------\u001b[0m",
            "\u001b[0;31mTypeError\u001b[0m                                 Traceback (most recent call last)",
            "\u001b[0;32m<ipython-input-47-cdf9ee51429d>\u001b[0m in \u001b[0;36m<module>\u001b[0;34m()\u001b[0m\n\u001b[0;32m----> 1\u001b[0;31m \u001b[0madd_two_numbers\u001b[0m\u001b[0;34m(\u001b[0m\u001b[0;36m5\u001b[0m\u001b[0;34m,\u001b[0m\u001b[0;34m'hello'\u001b[0m\u001b[0;34m)\u001b[0m\u001b[0;34m\u001b[0m\u001b[0m\n\u001b[0m",
            "\u001b[0;32m<ipython-input-44-7bbb72243abe>\u001b[0m in \u001b[0;36madd_two_numbers\u001b[0;34m(number1, number2)\u001b[0m\n\u001b[1;32m      1\u001b[0m \u001b[0;32mdef\u001b[0m \u001b[0madd_two_numbers\u001b[0m\u001b[0;34m(\u001b[0m\u001b[0mnumber1\u001b[0m\u001b[0;34m,\u001b[0m \u001b[0mnumber2\u001b[0m\u001b[0;34m)\u001b[0m\u001b[0;34m:\u001b[0m\u001b[0;34m\u001b[0m\u001b[0m\n\u001b[0;32m----> 2\u001b[0;31m     \u001b[0madded_numbers\u001b[0m \u001b[0;34m=\u001b[0m \u001b[0mnumber1\u001b[0m \u001b[0;34m+\u001b[0m \u001b[0mnumber2\u001b[0m\u001b[0;34m\u001b[0m\u001b[0m\n\u001b[0m\u001b[1;32m      3\u001b[0m     \u001b[0mprint\u001b[0m\u001b[0;34m(\u001b[0m\u001b[0madded_numbers\u001b[0m\u001b[0;34m)\u001b[0m\u001b[0;34m\u001b[0m\u001b[0m\n\u001b[1;32m      4\u001b[0m \u001b[0;34m\u001b[0m\u001b[0m\n\u001b[1;32m      5\u001b[0m \u001b[0;34m\u001b[0m\u001b[0m\n",
            "\u001b[0;31mTypeError\u001b[0m: unsupported operand type(s) for +: 'int' and 'str'"
          ],
          "output_type": "error"
        }
      ]
    },
    {
      "metadata": {},
      "cell_type": "markdown",
      "source": "In this case we are trying two add a int and a string which will throw a TypeError."
    },
    {
      "metadata": {},
      "cell_type": "markdown",
      "source": "### Function return\nVariables created in a function are only accessible in that function. For example in the `add_two_numbers()` function. The variable `added_numbers` can only be used by code also in that function. If we try to access the `added_numbers` variable outside the function we will get an error. "
    },
    {
      "metadata": {
        "trusted": false
      },
      "cell_type": "code",
      "source": "add_two_numbers(5,6)\nprint('after the function call')\nprint(added_numbers)",
      "execution_count": 48,
      "outputs": [
        {
          "name": "stdout",
          "output_type": "stream",
          "text": "11\nafter the function call\n"
        },
        {
          "ename": "NameError",
          "evalue": "name 'added_numbers' is not defined",
          "traceback": [
            "\u001b[0;31m---------------------------------------------------------------------------\u001b[0m",
            "\u001b[0;31mNameError\u001b[0m                                 Traceback (most recent call last)",
            "\u001b[0;32m<ipython-input-48-7680cc4f570e>\u001b[0m in \u001b[0;36m<module>\u001b[0;34m()\u001b[0m\n\u001b[1;32m      1\u001b[0m \u001b[0madd_two_numbers\u001b[0m\u001b[0;34m(\u001b[0m\u001b[0;36m5\u001b[0m\u001b[0;34m,\u001b[0m\u001b[0;36m6\u001b[0m\u001b[0;34m)\u001b[0m\u001b[0;34m\u001b[0m\u001b[0m\n\u001b[1;32m      2\u001b[0m \u001b[0mprint\u001b[0m\u001b[0;34m(\u001b[0m\u001b[0;34m'after the function call'\u001b[0m\u001b[0;34m)\u001b[0m\u001b[0;34m\u001b[0m\u001b[0m\n\u001b[0;32m----> 3\u001b[0;31m \u001b[0mprint\u001b[0m\u001b[0;34m(\u001b[0m\u001b[0madded_numbers\u001b[0m\u001b[0;34m)\u001b[0m\u001b[0;34m\u001b[0m\u001b[0m\n\u001b[0m",
            "\u001b[0;31mNameError\u001b[0m: name 'added_numbers' is not defined"
          ],
          "output_type": "error"
        }
      ]
    },
    {
      "metadata": {},
      "cell_type": "markdown",
      "source": "The 11 is printed inside from the function. When we again want to print the result of the addition outside the function an error is trown. The `NameError` trown indicating that the name `added_numbers` is not defined. To use variables outside of the function they are created in we have to use `return` and catch what has been returned in a new variable when we call the function."
    },
    {
      "metadata": {
        "trusted": false
      },
      "cell_type": "code",
      "source": "def return_added_numbers(x,y):\n    added = x + y\n    return added\n\n\ncatched_added_numbers = return_added_numbers(5,5)\nprint(catched_added_numbers)\n",
      "execution_count": 49,
      "outputs": [
        {
          "name": "stdout",
          "output_type": "stream",
          "text": "10\n"
        }
      ]
    },
    {
      "metadata": {},
      "cell_type": "markdown",
      "source": "If you return more than one variable from a function they will be returned inside of a tuple"
    },
    {
      "metadata": {
        "trusted": false
      },
      "cell_type": "code",
      "source": "def return_added_numbers_and_muliplication(x, y):\n    added = x + y\n    multiplication = x * y\n    return added, multiplication\n\nreturned_values_as_tuple = return_added_numbers_and_muliplication(3, 8)\nprint(type(returned_values_as_tuple))\nprint(returned_values_as_tuple[0], \"\\n\", returned_values_as_tuple[1])",
      "execution_count": 50,
      "outputs": [
        {
          "name": "stdout",
          "output_type": "stream",
          "text": "<class 'tuple'>\n11 \n 24\n"
        }
      ]
    },
    {
      "metadata": {},
      "cell_type": "markdown",
      "source": "There is a trick to have the unpack the values from the tuple and place them in variables. When catching the values use the same number of variables (seperated by comma's) as beeing returned by the function. See the next example where we call the same function as above but now use two variables to save the result from the function in.  "
    },
    {
      "metadata": {
        "trusted": false
      },
      "cell_type": "code",
      "source": "returned_first_value, returned_second_value = return_added_numbers_and_muliplication(3,8)\nprint(returned_first_value)\nprint(returned_second_value)\n",
      "execution_count": 51,
      "outputs": [
        {
          "name": "stdout",
          "output_type": "stream",
          "text": "11\n24\n"
        }
      ]
    },
    {
      "metadata": {},
      "cell_type": "markdown",
      "source": "### Default function arguments\nIf we call a function that takes arguments, we have to give variables to the function that will take the place of these arguments. In some cases it can be handy to have default values for function arguments as shown in the next example. Watch closelly what happens if: we call the function with no arguments, or omitted one of the two."
    },
    {
      "metadata": {
        "trusted": false
      },
      "cell_type": "code",
      "source": "def function_with_default_arguments(x=5, y=2):\n    return x + y\n\n\nresult_from_function_with_default_arguments = function_with_default_arguments()\nprint(result_from_function_with_default_arguments)\n\nresult_from_function_with_default_arguments = function_with_default_arguments(2)\nprint(result_from_function_with_default_arguments)\n\nresult_from_function_with_default_arguments = function_with_default_arguments(5)\nprint(result_from_function_with_default_arguments)\n\nresult_from_function_with_default_arguments = function_with_default_arguments(3, 3)\nprint(result_from_function_with_default_arguments)",
      "execution_count": 52,
      "outputs": [
        {
          "name": "stdout",
          "output_type": "stream",
          "text": "7\n4\n7\n6\n"
        }
      ]
    },
    {
      "metadata": {},
      "cell_type": "markdown",
      "source": "Note: how only the first default argument is replaced if we call the function with one argument. Pyhton replaces the arguments positional by variables used when calling the function."
    },
    {
      "metadata": {},
      "cell_type": "markdown",
      "source": "### Named function arguments\nThere is another way to call function and pass arguments and that is by using the names of the arguments specified by the function. In this way the arguments passed do not have to be in the correct order (as in positional arguments passing)\n"
    },
    {
      "metadata": {
        "trusted": false
      },
      "cell_type": "code",
      "source": "def function_with_named_arguments(x=5, y=2):\n    return x + y\n\n\nprint(function_with_default_arguments(y=3))\nprint(function_with_default_arguments(y=3, x=10))\nprint(function_with_default_arguments(x=6))\n\nprint(function_with_default_arguments(4,6))",
      "execution_count": 53,
      "outputs": []
    },
    {
      "metadata": {},
      "cell_type": "markdown",
      "source": "Note that in the last invocation of the function we did not use the named arguments and Python switched back to positional arguments."
    },
    {
      "metadata": {},
      "cell_type": "markdown",
      "source": "### Documentation\nTo help your fellow programmers understand and maintain your written code, it is always good to add descriptions to your code specifying what the role of your code is. This can be done using so called **docstrings**. These are strings enclosed by triple double qoutes `\"\"\"help text\"\"\"`. Triple double qoutes are the only qoutes that allow you to write multi line strings. These help messages are also shown when you call `help()` on functions.\n\n"
    },
    {
      "metadata": {
        "trusted": false
      },
      "cell_type": "code",
      "source": "def function_with_help(x,y):\n    \"\"\"\n    This function adds two numbers\n    :return: added numbers\n    \"\"\"\n    \n    return x + y\n\nhelp(function_with_help)",
      "execution_count": 54,
      "outputs": [
        {
          "name": "stdout",
          "output_type": "stream",
          "text": "Help on function function_with_help in module __main__:\n\nfunction_with_help(x, y)\n    This function adds two numbers\n    :return: added numbers\n\n"
        }
      ]
    },
    {
      "metadata": {},
      "cell_type": "markdown",
      "source": "### Modules\nWhen functions are grouped together into a single file with the extension .py we call it a module. This module can be imported by someone else allowing it to be used. \n\nPython comes default with a set of prebuilt modules, these are available for you to import. \nLets take a look at one of the modules from this standard library.  To use a module we first have to import it. \n\nThere are several options to import from modules:\n\n- import datetime\n\t- all functionality is available through datetime.\n- from datetime import *\n\t- make everything from import directly available\n- from datetime import date\n\t- only specific parts are imported\n- from datetime import date as other_date\n\t- rename specific parts of the import\n\nThe differences in the above import are in what we import from a module and how we need to access the imported code."
    },
    {
      "metadata": {
        "trusted": false
      },
      "cell_type": "code",
      "source": "import datetime\nprint(datetime.date.today())",
      "execution_count": 8,
      "outputs": [
        {
          "name": "stdout",
          "output_type": "stream",
          "text": "2019-02-26\n"
        }
      ]
    },
    {
      "metadata": {
        "trusted": false
      },
      "cell_type": "code",
      "source": "from datetime import *\nprint(date.today())",
      "execution_count": 11,
      "outputs": [
        {
          "name": "stdout",
          "output_type": "stream",
          "text": "2019-02-26\n"
        }
      ]
    },
    {
      "metadata": {
        "trusted": false
      },
      "cell_type": "code",
      "source": "from datetime import date\nprint(date.today())",
      "execution_count": 10,
      "outputs": [
        {
          "name": "stdout",
          "output_type": "stream",
          "text": "2019-02-26\n"
        }
      ]
    },
    {
      "metadata": {
        "trusted": false
      },
      "cell_type": "code",
      "source": "from datetime import date as other_date\nprint(other_date.today())",
      "execution_count": 13,
      "outputs": [
        {
          "name": "stdout",
          "output_type": "stream",
          "text": "2019-02-26\n"
        }
      ]
    },
    {
      "metadata": {},
      "cell_type": "markdown",
      "source": "### PEP8\nTo make code more readable and have a clear format, there are several rules that are documented in the Python Enhancement Protocol (PEP8). It is to etensive to discuss here, but please have a look at the document: https://www.python.org/dev/peps/pep-0008/\n\nPEP8 code checking is build in in many integrated development environments (IDE) like Pycharm. Pycharm will highlight python code that is not PEP8.\n\nCode can also be checked on compliance to the PEP8 rules on our system using the `pylint3` commandline tool. When checking your code you invoke the pylint3 program and give it the name of your saved python script as argument: `pylint3 my_awesome_code.py`. Pylint3 will spit out warnings and errors on the different levels of PEP8. A final score is given that marks the quality of the code. If you change code and rerun pylint3 it will show if the code has improved or not."
    },
    {
      "metadata": {},
      "cell_type": "markdown",
      "source": "## Exercise: \nCreate a new module named rev_comp.py. Within this module create 3 functions:\n\n- A function that will ask a user for input and returns this as a string\n- A function that takes a DNA sequence as argument and reverses this sequence. The reversed sequence should be returned\n- A function that when given a DNA sequence wil return it's complement\n\nThe functions should have documentation on what it does and what the expected input/output is. Try to solve any PEP8 errors you get in Pycharm.\n\nCreate a new module in which you import functions from rev_comp.py. In this new module (using the imported functions) ask a user for input, reverse the sequence and make it complement. Finally, the reversed complemented sequence should be printed. "
    },
    {
      "metadata": {},
      "cell_type": "markdown",
      "source": "Solutions to the Exercise of this lecture can be found here:"
    }
  ],
  "metadata": {
    "kernelspec": {
      "name": "python2",
      "display_name": "Python 2",
      "language": "python"
    },
    "language_info": {
      "mimetype": "text/x-python",
      "nbconvert_exporter": "python",
      "name": "python",
      "pygments_lexer": "ipython2",
      "version": "2.7.15",
      "file_extension": ".py",
      "codemirror_mode": {
        "version": 2,
        "name": "ipython"
      }
    }
  },
  "nbformat": 4,
  "nbformat_minor": 1
}