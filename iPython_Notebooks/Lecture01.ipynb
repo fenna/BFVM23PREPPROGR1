{
  "cells": [
    {
      "metadata": {
        "collapsed": true
      },
      "cell_type": "markdown",
      "source": "# Lecture 01: Variable assignment, Lists, Object Methods and Control Flow"
    },
    {
      "metadata": {},
      "cell_type": "markdown",
      "source": "## Chapters\nChapter 1: The Basics: Getting Started Quickly  <br>\nAuthor: Ronald Wedema"
    },
    {
      "metadata": {},
      "cell_type": "markdown",
      "source": "## Assigning variables\nIn Python assigning data means that you use the **assignment operator** (**=**) to store some data into a variable. As the word variable allready implies, the content can change."
    },
    {
      "metadata": {},
      "cell_type": "markdown",
      "source": "Here is a example of variable assignment:"
    },
    {
      "metadata": {
        "trusted": true
      },
      "cell_type": "code",
      "source": "x = 1\nprint(x)\nprint(type(x))\n",
      "execution_count": 4,
      "outputs": [
        {
          "name": "stdout",
          "output_type": "stream",
          "text": "1\n<class 'int'>\n"
        }
      ]
    },
    {
      "metadata": {},
      "cell_type": "markdown",
      "source": "In the above example we not only assigned a whole number (int) using the assignment operator. We also used the Python buildin **print()** method to print the content to screen. Lastly, we showed what the type of the variable is using the type() method. \n\nHere are some other examples of variable assignments. Each time showing the type of the variable."
    },
    {
      "metadata": {
        "trusted": true
      },
      "cell_type": "code",
      "source": "x = \"Hello world!\"\nprint(x)\nprint(type(x))",
      "execution_count": 5,
      "outputs": [
        {
          "name": "stdout",
          "output_type": "stream",
          "text": "Hello world!\n<class 'str'>\n"
        }
      ]
    },
    {
      "metadata": {
        "trusted": true
      },
      "cell_type": "code",
      "source": "x = [10]\nprint(x)\nprint(type(x))",
      "execution_count": 6,
      "outputs": [
        {
          "name": "stdout",
          "output_type": "stream",
          "text": "[10]\n<class 'list'>\n"
        }
      ]
    },
    {
      "metadata": {},
      "cell_type": "markdown",
      "source": "In the previous example, the same variable **x** is used to first save a string (type **str**) and later save a list (type **list**) with a single digit. The content of **x** changes from a str to a list. Note: the **qoutes** around the string, the qoutes can be single or double. Lists are indicated by the **[]**."
    },
    {
      "metadata": {},
      "cell_type": "markdown",
      "source": "## Python strings\nA word or multiple words are called **strings** in Python. Strings can be created by using different qoutes: single, double or even tripple around the words. In the next examples string assignment is shown:"
    },
    {
      "metadata": {
        "trusted": true
      },
      "cell_type": "code",
      "source": "single_word_string = 'foo'\nprint(single_word_string)",
      "execution_count": 7,
      "outputs": [
        {
          "name": "stdout",
          "output_type": "stream",
          "text": "foo\n"
        }
      ]
    },
    {
      "metadata": {
        "trusted": true
      },
      "cell_type": "code",
      "source": "single_qouted_string = 'In single qoutes you can use \" as part of the string'\nprint(single_qouted_string)",
      "execution_count": 8,
      "outputs": [
        {
          "name": "stdout",
          "output_type": "stream",
          "text": "In single qoutes you can use \" as part of the string\n"
        }
      ]
    },
    {
      "metadata": {
        "trusted": true
      },
      "cell_type": "code",
      "source": "double_qouted_string = \"In between double qoutes 'single' qoutes can be used\"\nprint(double_qouted_string)",
      "execution_count": 9,
      "outputs": [
        {
          "name": "stdout",
          "output_type": "stream",
          "text": "In between double qoutes 'single' qoutes can be used\n"
        }
      ]
    },
    {
      "metadata": {
        "trusted": true
      },
      "cell_type": "code",
      "source": "multi_line_string = \"\"\"To have a string that contains multiple lines\nyou have to use \ntriple double qoutes\n\"\"\"\nprint(multi_line_string)",
      "execution_count": 10,
      "outputs": [
        {
          "name": "stdout",
          "output_type": "stream",
          "text": "To have a string that contains multiple lines\nyou have to use \ntriple double qoutes\n\n"
        }
      ]
    },
    {
      "metadata": {},
      "cell_type": "markdown",
      "source": "String can be combined using the **+** operator and this is called **string concatenatation**"
    },
    {
      "metadata": {
        "trusted": true
      },
      "cell_type": "code",
      "source": "first_word = 'Hello '\nsecond_word = 'world'\ncombined_words = first_word + second_word\nprint(combined_words)",
      "execution_count": 11,
      "outputs": [
        {
          "name": "stdout",
          "output_type": "stream",
          "text": "Hello world\n"
        }
      ]
    },
    {
      "metadata": {},
      "cell_type": "markdown",
      "source": "## String slicing\nCharacters in a string can be accessed using **indexing** (more on indexing in the second lecture). Every character in a string has a position starting from **0**. Using the variable name and an index we can get the character at that position. To do this we need to place the index in between brackets **\\[\\]**"
    },
    {
      "metadata": {
        "trusted": true
      },
      "cell_type": "code",
      "source": "first_letter = combined_words[0]\nprint(first_letter)",
      "execution_count": 12,
      "outputs": [
        {
          "name": "stdout",
          "output_type": "stream",
          "text": "H\n"
        }
      ]
    },
    {
      "metadata": {},
      "cell_type": "markdown",
      "source": "We can also specify a **range** of positions to retrieve from the string using the following bracket notation: **[start:stop:step]**. "
    },
    {
      "metadata": {
        "trusted": true
      },
      "cell_type": "code",
      "source": "first_word = combined_words[0:5]\nprint(first_word)",
      "execution_count": 13,
      "outputs": [
        {
          "name": "stdout",
          "output_type": "stream",
          "text": "Hello\n"
        }
      ]
    },
    {
      "metadata": {
        "trusted": true
      },
      "cell_type": "code",
      "source": "second_word = combined_words[6:11]\nprint(second_word)",
      "execution_count": 14,
      "outputs": [
        {
          "name": "stdout",
          "output_type": "stream",
          "text": "world\n"
        }
      ]
    },
    {
      "metadata": {},
      "cell_type": "markdown",
      "source": "If you omit the start Python will start from the beginning and not specifying an end will let Python continue to the last position. "
    },
    {
      "metadata": {
        "trusted": true
      },
      "cell_type": "code",
      "source": "first_word = combined_words[:5]\nprint(first_word)",
      "execution_count": 15,
      "outputs": [
        {
          "name": "stdout",
          "output_type": "stream",
          "text": "Hello\n"
        }
      ]
    },
    {
      "metadata": {
        "trusted": true
      },
      "cell_type": "code",
      "source": "second_word = combined_words[6:]\nprint(second_word)",
      "execution_count": 16,
      "outputs": [
        {
          "name": "stdout",
          "output_type": "stream",
          "text": "world\n"
        }
      ]
    },
    {
      "metadata": {},
      "cell_type": "markdown",
      "source": "Using the step in the slice has as effect that every position at the step interval will be retrieved. In the next example the start and stop are left blank which indicating we want to start at the beginnning and continue to the end."
    },
    {
      "metadata": {
        "trusted": true
      },
      "cell_type": "code",
      "source": "every_second_character = combined_words[::2]\nprint(every_second_character)",
      "execution_count": 17,
      "outputs": [
        {
          "name": "stdout",
          "output_type": "stream",
          "text": "Hlowrd\n"
        }
      ]
    },
    {
      "metadata": {},
      "cell_type": "markdown",
      "source": "One extra neat trick we can do with string slicing is the use of **negative indices**. When a negative index is used it means start from the end. By using a **negative step** we can reverse the string."
    },
    {
      "metadata": {
        "trusted": true
      },
      "cell_type": "code",
      "source": "reversed_combined_words = combined_words[::-1]\nprint(reversed_combined_words)",
      "execution_count": 18,
      "outputs": [
        {
          "name": "stdout",
          "output_type": "stream",
          "text": "dlrow olleH\n"
        }
      ]
    },
    {
      "metadata": {},
      "cell_type": "markdown",
      "source": "## String methods\nEverything in Python is an **object** (More on objects in lecture 5) An object has content and methods that can operate on that content. A string is no exception and is also a Python object. The content of the string object is/are the word(s). To use a method of an object we have to use the **dot operator **. We can show which methods are available for any given object by using the Python buildin **dir()** method or **help()** if we want to have more information."
    },
    {
      "metadata": {
        "trusted": true
      },
      "cell_type": "code",
      "source": "DNA = \"ATGC\"\nprint(dir(DNA))",
      "execution_count": 17,
      "outputs": [
        {
          "name": "stdout",
          "output_type": "stream",
          "text": "['__add__', '__class__', '__contains__', '__delattr__', '__dir__', '__doc__', '__eq__', '__format__', '__ge__', '__getattribute__', '__getitem__', '__getnewargs__', '__gt__', '__hash__', '__init__', '__init_subclass__', '__iter__', '__le__', '__len__', '__lt__', '__mod__', '__mul__', '__ne__', '__new__', '__reduce__', '__reduce_ex__', '__repr__', '__rmod__', '__rmul__', '__setattr__', '__sizeof__', '__str__', '__subclasshook__', 'capitalize', 'casefold', 'center', 'count', 'encode', 'endswith', 'expandtabs', 'find', 'format', 'format_map', 'index', 'isalnum', 'isalpha', 'isdecimal', 'isdigit', 'isidentifier', 'islower', 'isnumeric', 'isprintable', 'isspace', 'istitle', 'isupper', 'join', 'ljust', 'lower', 'lstrip', 'maketrans', 'partition', 'replace', 'rfind', 'rindex', 'rjust', 'rpartition', 'rsplit', 'rstrip', 'split', 'splitlines', 'startswith', 'strip', 'swapcase', 'title', 'translate', 'upper', 'zfill']\n"
        }
      ]
    },
    {
      "metadata": {},
      "cell_type": "markdown",
      "source": "We could also use **dir()** directly on the str object itself by typing **dir(str)**. But we leave that for you to try out. To get a bit more information on how to actually use the str methods we can use the **help()** method to get information on all or just a single method. To get information on all just type **help(str)**, but for now we will focus on a single method. To get help on a single method we have to use help() and pass the method we want help on using the **dot notation(**). The method we will focus on is the **replace()** method. "
    },
    {
      "metadata": {
        "trusted": true
      },
      "cell_type": "code",
      "source": "help(DNA.replace)",
      "execution_count": 18,
      "outputs": [
        {
          "name": "stdout",
          "output_type": "stream",
          "text": "Help on built-in function replace:\n\nreplace(...) method of builtins.str instance\n    S.replace(old, new[, count]) -> str\n    \n    Return a copy of S with all occurrences of substring\n    old replaced by new.  If the optional argument count is\n    given, only the first count occurrences are replaced.\n\n"
        }
      ]
    },
    {
      "metadata": {},
      "cell_type": "markdown",
      "source": "Lets say we want to convert our DNA string to a RNA string (T->U). We could use the **replace()** method to accomplish this. From the help of the replace method we can see that we need to specify the old substring (T) and what it should become (U)."
    },
    {
      "metadata": {
        "trusted": true
      },
      "cell_type": "code",
      "source": "print(DNA.replace(\"T\", \"U\"))",
      "execution_count": 19,
      "outputs": [
        {
          "name": "stdout",
          "output_type": "stream",
          "text": "AUGC\n"
        }
      ]
    },
    {
      "metadata": {},
      "cell_type": "markdown",
      "source": "**Note: strings are immutable, meaning after they are created we cannot change them anymore.** There are more inmutable data types, which you will learn about in lecture2."
    },
    {
      "metadata": {
        "trusted": true
      },
      "cell_type": "code",
      "source": "print(DNA)",
      "execution_count": 20,
      "outputs": [
        {
          "name": "stdout",
          "output_type": "stream",
          "text": "ATGC\n"
        }
      ]
    },
    {
      "metadata": {},
      "cell_type": "markdown",
      "source": "As you can see in the above code example, when **x** is printed, it still contains the **old DNA string**. To save the replace() method operation **you have to save the output of the operation** into a variable."
    },
    {
      "metadata": {
        "trusted": true
      },
      "cell_type": "code",
      "source": "RNA = DNA.replace(\"T\", \"U\")\nprint(DNA)\nprint(RNA)",
      "execution_count": 21,
      "outputs": [
        {
          "name": "stdout",
          "output_type": "stream",
          "text": "ATGC\nAUGC\n"
        }
      ]
    },
    {
      "metadata": {},
      "cell_type": "markdown",
      "source": "Some other usefull str methods are: **str.upper**, **str.lower** and **str.find** and **str.index**. These methods will respectively turn the string to uppercase, lowercase and the last two methods can be used to return an index of a certain substring. The difference in **find()** and **index()** is that if nothing is found, find() will **return** an **-1** and index() will **raise** a **ValueError** (more on exceptions in lecture...). Given the DNA and RNA strings from above, we will show the usage of these str methods()"
    },
    {
      "metadata": {
        "trusted": true
      },
      "cell_type": "code",
      "source": "print(DNA.lower())\nprint(RNA.lower())",
      "execution_count": 22,
      "outputs": [
        {
          "name": "stdout",
          "output_type": "stream",
          "text": "atgc\naugc\n"
        }
      ]
    },
    {
      "metadata": {
        "trusted": true
      },
      "cell_type": "code",
      "source": "print(DNA.find(\"T\"))",
      "execution_count": 23,
      "outputs": [
        {
          "name": "stdout",
          "output_type": "stream",
          "text": "1\n"
        }
      ]
    },
    {
      "metadata": {
        "trusted": true
      },
      "cell_type": "code",
      "source": "print(DNA.lower().find(\"t\"))",
      "execution_count": 24,
      "outputs": [
        {
          "name": "stdout",
          "output_type": "stream",
          "text": "1\n"
        }
      ]
    },
    {
      "metadata": {
        "trusted": true
      },
      "cell_type": "code",
      "source": "print(DNA.index(\"GC\"))",
      "execution_count": 25,
      "outputs": []
    },
    {
      "metadata": {
        "trusted": true
      },
      "cell_type": "code",
      "source": "print(DNA.index(\"GCT\"))",
      "execution_count": 26,
      "outputs": [
        {
          "ename": "ValueError",
          "evalue": "substring not found",
          "traceback": [
            "\u001b[0;31m---------------------------------------------------------------------------\u001b[0m",
            "\u001b[0;31mValueError\u001b[0m                                Traceback (most recent call last)",
            "\u001b[0;32m<ipython-input-26-70d4b0455487>\u001b[0m in \u001b[0;36m<module>\u001b[0;34m()\u001b[0m\n\u001b[0;32m----> 1\u001b[0;31m \u001b[0mprint\u001b[0m\u001b[0;34m(\u001b[0m\u001b[0mDNA\u001b[0m\u001b[0;34m.\u001b[0m\u001b[0mindex\u001b[0m\u001b[0;34m(\u001b[0m\u001b[0;34m\"GCT\"\u001b[0m\u001b[0;34m)\u001b[0m\u001b[0;34m)\u001b[0m\u001b[0;34m\u001b[0m\u001b[0m\n\u001b[0m",
            "\u001b[0;31mValueError\u001b[0m: substring not found"
          ],
          "output_type": "error"
        }
      ]
    },
    {
      "metadata": {},
      "cell_type": "markdown",
      "source": "## Control flow\nIn programming we want to be able to check the content of variables and be able to make decisions based on that content. For example: if we want to change a DNA string to RNA, we need to be sure that we do not allready have a RNA string."
    },
    {
      "metadata": {},
      "cell_type": "markdown",
      "source": "### if statement\nIf statements can be used to decide if a variable fits a given condition and execute a piece of code when it does. All the code that should be executed needs to be **indented** with **4 spaces** (or a tab). \n\nThe basic syntax of an if statement is:\n```\nif condition:\n    indented code block\n```\n\nThe conditional tests that can be used are: \n- == ; equals\n- != ; not equals\n- > ; greater than\n- < ; less than\n- >= ; greater than or equal\n- <= ; less than or equal"
    },
    {
      "metadata": {
        "trusted": true
      },
      "cell_type": "code",
      "source": "number = 5\n\nif number == 5:\n    print(\"Number is 5\")\n    \nprint(\"After the if\")",
      "execution_count": 19,
      "outputs": [
        {
          "name": "stdout",
          "output_type": "stream",
          "text": "Number is 5\nAfter the if\n"
        }
      ]
    },
    {
      "metadata": {},
      "cell_type": "markdown",
      "source": "In the above code we first created a variable named **number** and we **assigned** (using the assignment operator) the **value 5** to it. <br>\nNext, we started the **if** statement and added our **condition** that **evaluates** to **true** if our number **is equal to 5**. <br>\nFinally, the block that should be **executed** (the print statement) when the condition is true is **indendent** with **4 spaces**. <br>\nThe code continues again starting from the margin.<br><br>\n"
    },
    {
      "metadata": {
        "trusted": true
      },
      "cell_type": "code",
      "source": "number = 6\n\nif number == 5:\n    print(\"Number is 5\")\n    \nprint(\"After the if\")",
      "execution_count": 20,
      "outputs": [
        {
          "name": "stdout",
          "output_type": "stream",
          "text": "After the if\n"
        }
      ]
    },
    {
      "metadata": {},
      "cell_type": "markdown",
      "source": "In the above code block we changed the number to 6. If we run this piece of code the **condition** in the if statement **tests to false 5**, because 6 is not equal to 5. The code block indented does not get executed and the code continues to run until the line starting in the margin."
    },
    {
      "metadata": {
        "trusted": true
      },
      "cell_type": "code",
      "source": "if number == 5:\n    print(\"Number is 5\")",
      "execution_count": 1,
      "outputs": [
        {
          "output_type": "error",
          "ename": "NameError",
          "evalue": "name 'number' is not defined",
          "traceback": [
            "\u001b[0;31m---------------------------------------------------------------------------\u001b[0m",
            "\u001b[0;31mNameError\u001b[0m                                 Traceback (most recent call last)",
            "\u001b[0;32m<ipython-input-1-55b953e4984b>\u001b[0m in \u001b[0;36m<module>\u001b[0;34m()\u001b[0m\n\u001b[0;32m----> 1\u001b[0;31m \u001b[0;32mif\u001b[0m \u001b[0mnumber\u001b[0m \u001b[0;34m==\u001b[0m \u001b[0;36m5\u001b[0m\u001b[0;34m:\u001b[0m\u001b[0;34m\u001b[0m\u001b[0m\n\u001b[0m\u001b[1;32m      2\u001b[0m     \u001b[0mprint\u001b[0m\u001b[0;34m(\u001b[0m\u001b[0;34m\"Number is 5\"\u001b[0m\u001b[0;34m)\u001b[0m\u001b[0;34m\u001b[0m\u001b[0m\n",
            "\u001b[0;31mNameError\u001b[0m: name 'number' is not defined"
          ]
        }
      ]
    },
    {
      "metadata": {},
      "cell_type": "markdown",
      "source": "**Note:** the **:** after the if statement! **code after a semicolon should be indented**, forgetting the indentation will raise an invalid syntax error."
    },
    {
      "metadata": {},
      "cell_type": "markdown",
      "source": "### if..else..\nThe if statement has an additional **else** that can be used to **execute** a code block when the if condition **evaluates to false**.\n\nThe if..else.. syntax now looks like:\n```\nif condition:\n    indented code block1\nelse:\n    indented code block2\n```\n"
    },
    {
      "metadata": {
        "trusted": true
      },
      "cell_type": "code",
      "source": "if number < 5:\n    print(\"Number is more than 5\")\nelse:\n    print(\"Not a number that is less than 5\")",
      "execution_count": 22,
      "outputs": [
        {
          "name": "stdout",
          "output_type": "stream",
          "text": "Not a number that is less than 5\n"
        }
      ]
    },
    {
      "metadata": {},
      "cell_type": "markdown",
      "source": "### if..elif..else..\nTo test multiple conditions we can use the if..**elif**..else.. statement. If we now add the elif statement we come to the following structure:\n```\nif condition:\n    indented code block1\nelif condition1:\n    indented code block2\nelse:\n    indented code block3\n```\n\nThere can be multiple **elif** statements following an if. In the next example we test if a grade for an exam fits a condition, when the condition evaluates to true the code block following the condition is executed."
    },
    {
      "metadata": {
        "trusted": true
      },
      "cell_type": "code",
      "source": "grade = 8\nif grade < 5.5:\n    print(\"Bummer, unsufficient!\")\nelif grade >= 5.5 and grade <= 6:\n    print(\"Needs a bit of work\")\nelif grade > 6 and grade < 8:\n    print(\"Getting there\")\nelse:\n    print(\"Top job!\")",
      "execution_count": 23,
      "outputs": [
        {
          "name": "stdout",
          "output_type": "stream",
          "text": "Top job!\n"
        }
      ]
    },
    {
      "metadata": {},
      "cell_type": "markdown",
      "source": "Note in the above example code the use of the **and** logical operator, when used the condition on **both ends** of the **and should evaluate to true**. <br>\nThere is also the **or** logical operator, than **one** of the **sides** should **evaluate to true**."
    },
    {
      "metadata": {},
      "cell_type": "markdown",
      "source": "Finally, now that we know that we can use indentation to indicate a block of code, we can use this indentation to have nested if statements. <br>\nEach if statement can have it's own if..elif..else.. structure."
    },
    {
      "metadata": {
        "trusted": true
      },
      "cell_type": "code",
      "source": "number = 5\nif number >= 0:\n    if number == 0:\n        print(\"Zero\")\n    else:\n        print(\"Positive number\")\nelse:\n    print(\"Negative number\")",
      "execution_count": 24,
      "outputs": [
        {
          "name": "stdout",
          "output_type": "stream",
          "text": "Positive number\n"
        }
      ]
    },
    {
      "metadata": {},
      "cell_type": "markdown",
      "source": "## for loop\nExecuting code many times can be done naivelly by just typing the code (or copy pasting) many times. Luckily, Python comes with buildin functionallity that will allow us to **repeat code** many times. Even if we do not know on beforehand how many times a piece of code should be executed. Looping is usually caried out on strings, (lists, tuples and dictionaries can also be looped over, this is content of lecture2) but **any object that is iterable can be looped over**.\n\nThe basic syntax of a for loop is as following:\n```\nfor x in iterable:\n    code block to be executed on item\n```\n\n**x** is a placeholder that holds just **one** item of the iterable at the time. And every time the loop is repeated the **next item is placed in x**. We can give x any name we want, and it helps to name it accordingly to the type of value it will contain.\n\nIn the next example we use the for loop to loop over a DNA string, every time taking one character and placing this in the letter placeholder. In the indented block we print the content of the placeholder."
    },
    {
      "metadata": {
        "trusted": true
      },
      "cell_type": "code",
      "source": "DNA = 'ATGC'\nfor letter in DNA:\n    print(letter)",
      "execution_count": 25,
      "outputs": [
        {
          "name": "stdout",
          "output_type": "stream",
          "text": "A\nT\nG\nC\n"
        }
      ]
    },
    {
      "metadata": {},
      "cell_type": "markdown",
      "source": "Another example using a different iterable type (lists). Note that we used a different name for the placeholder. The result is exactly the same as in the previous example."
    },
    {
      "metadata": {
        "trusted": true
      },
      "cell_type": "code",
      "source": "myDNAList = ['A', 'T', 'G', 'C']\nfor character in myDNAList:\n    print(character)",
      "execution_count": 26,
      "outputs": [
        {
          "name": "stdout",
          "output_type": "stream",
          "text": "A\nT\nG\nC\n"
        }
      ]
    },
    {
      "metadata": {},
      "cell_type": "markdown",
      "source": "## Exercises:\nTime to put all our new coding skills to the test!\n\nCreate a programm  that will check if a given sequence is DNA (and not RNA) and if it is DNA will reverse the sequence.\nFinally the reversed sequence should be converted to RNA by replacing the T charachters to U.\n\nFor this exercise you may define your own DNA sequence and assign it to a variable. Or use the following DNA sequence \"ATGAGTAGGATAGGCTAGATGGCGATGAATT\"\n\nTip: think of the difference between DNA and RNA. How could you use this to check if a sequence is DNA and not RNA?"
    },
    {
      "metadata": {},
      "cell_type": "markdown",
      "source": "## Solutions\nSolutions are available using the following link."
    }
  ],
  "metadata": {
    "kernelspec": {
      "name": "python3",
      "display_name": "Python 3",
      "language": "python"
    },
    "language_info": {
      "mimetype": "text/x-python",
      "nbconvert_exporter": "python",
      "name": "python",
      "file_extension": ".py",
      "version": "3.5.4",
      "pygments_lexer": "ipython3",
      "codemirror_mode": {
        "version": 3,
        "name": "ipython"
      }
    }
  },
  "nbformat": 4,
  "nbformat_minor": 1
}