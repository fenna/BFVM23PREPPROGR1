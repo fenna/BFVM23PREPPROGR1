{
  "cells": [
    {
      "metadata": {},
      "cell_type": "markdown",
      "source": "# Lecture 06: Exception handling"
    },
    {
      "metadata": {},
      "cell_type": "markdown",
      "source": "# Chapters\nChapter 11: Exception Handling: What to do when things go wrong <br>\nAuthor: Jurre Hageman"
    },
    {
      "metadata": {},
      "cell_type": "markdown",
      "source": "## Overview"
    },
    {
      "metadata": {},
      "cell_type": "markdown",
      "source": "For this lesson, we will explore Pythons Exception Handling implementation. You will also learn about the stack trace, to raise exceptions and to catch them. "
    },
    {
      "metadata": {},
      "cell_type": "markdown",
      "source": "## Exceptions"
    },
    {
      "metadata": {},
      "cell_type": "markdown",
      "source": "By now, you will have seen many, many error messages when running one of your scripts. Lets first have a look at an exception:"
    },
    {
      "metadata": {
        "trusted": false
      },
      "cell_type": "code",
      "source": "numerator = 12\ndenominators = [1, 3, 4, 2, 5]\nfor denominator in denominators:\n    fraction = numerator / denominator\n    print(fraction)",
      "execution_count": 1,
      "outputs": [
        {
          "name": "stdout",
          "output_type": "stream",
          "text": "12.0\n4.0\n3.0\n6.0\n2.4\n"
        }
      ]
    },
    {
      "metadata": {},
      "cell_type": "markdown",
      "source": "All went well. But what if one of the denominators in the list is 0? This would be expected to cause an error.\nIndeed Python will raise an error in this situation:"
    },
    {
      "metadata": {
        "trusted": false
      },
      "cell_type": "code",
      "source": "numerator = 12\ndenominators = [1, 3, 0, 2, 5]\nfor denominator in denominators:\n    fraction = numerator / denominator\n    print(fraction)",
      "execution_count": 2,
      "outputs": [
        {
          "name": "stdout",
          "output_type": "stream",
          "text": "12.0\n4.0\n"
        },
        {
          "ename": "ZeroDivisionError",
          "evalue": "division by zero",
          "traceback": [
            "\u001b[0;31m---------------------------------------------------------------------------\u001b[0m",
            "\u001b[0;31mZeroDivisionError\u001b[0m                         Traceback (most recent call last)",
            "\u001b[0;32m<ipython-input-2-1e49d700729b>\u001b[0m in \u001b[0;36m<module>\u001b[0;34m()\u001b[0m\n\u001b[1;32m      2\u001b[0m \u001b[0mdenominators\u001b[0m \u001b[0;34m=\u001b[0m \u001b[0;34m[\u001b[0m\u001b[0;36m1\u001b[0m\u001b[0;34m,\u001b[0m \u001b[0;36m3\u001b[0m\u001b[0;34m,\u001b[0m \u001b[0;36m0\u001b[0m\u001b[0;34m,\u001b[0m \u001b[0;36m2\u001b[0m\u001b[0;34m,\u001b[0m \u001b[0;36m5\u001b[0m\u001b[0;34m]\u001b[0m\u001b[0;34m\u001b[0m\u001b[0m\n\u001b[1;32m      3\u001b[0m \u001b[0;32mfor\u001b[0m \u001b[0mdenominator\u001b[0m \u001b[0;32min\u001b[0m \u001b[0mdenominators\u001b[0m\u001b[0;34m:\u001b[0m\u001b[0;34m\u001b[0m\u001b[0m\n\u001b[0;32m----> 4\u001b[0;31m     \u001b[0mfraction\u001b[0m \u001b[0;34m=\u001b[0m \u001b[0mnumerator\u001b[0m \u001b[0;34m/\u001b[0m \u001b[0mdenominator\u001b[0m\u001b[0;34m\u001b[0m\u001b[0m\n\u001b[0m\u001b[1;32m      5\u001b[0m     \u001b[0mprint\u001b[0m\u001b[0;34m(\u001b[0m\u001b[0mfraction\u001b[0m\u001b[0;34m)\u001b[0m\u001b[0;34m\u001b[0m\u001b[0m\n",
            "\u001b[0;31mZeroDivisionError\u001b[0m: division by zero"
          ],
          "output_type": "error"
        }
      ]
    },
    {
      "metadata": {},
      "cell_type": "markdown",
      "source": " So how to finish your script and skip the 0? You might think of an elegant solution:"
    },
    {
      "metadata": {
        "trusted": false
      },
      "cell_type": "code",
      "source": "numerator = 12\ndenominators = [1, 3, 0, 2, 5]\nfor denominator in denominators:\n    if denominator != 0:\n        fraction = numerator / denominator\n        print(fraction)",
      "execution_count": 3,
      "outputs": [
        {
          "name": "stdout",
          "output_type": "stream",
          "text": "12.0\n4.0\n6.0\n2.4\n"
        }
      ]
    },
    {
      "metadata": {},
      "cell_type": "markdown",
      "source": "But it does not tell you if it encountered a zero. So you think of a better solution:"
    },
    {
      "metadata": {},
      "cell_type": "markdown",
      "source": "Or alternatively:"
    },
    {
      "metadata": {
        "trusted": false
      },
      "cell_type": "code",
      "source": "numerator = 12\ndenominators = [1, 3, 0, 2, 5]\nfor denominator in denominators:\n    if denominator == 0:\n        print(\"Oops that was a zero\")\n        continue\n    fraction = numerator / denominator\n    print(fraction)",
      "execution_count": 4,
      "outputs": [
        {
          "name": "stdout",
          "output_type": "stream",
          "text": "12.0\n4.0\nOops that was a zero\n6.0\n2.4\n"
        }
      ]
    },
    {
      "metadata": {},
      "cell_type": "markdown",
      "source": "But suppose that there is a string in the list:"
    },
    {
      "metadata": {
        "trusted": false
      },
      "cell_type": "code",
      "source": "numerator = 12\ndenominators = [1, 3, 0, \"2\", 5]\nfor denominator in denominators:\n    if denominator == 0:\n        print(\"Oops that was a zero\")\n        continue\n    fraction = numerator / denominator\n    print(fraction)",
      "execution_count": 5,
      "outputs": [
        {
          "name": "stdout",
          "output_type": "stream",
          "text": "12.0\n4.0\nOops that was a zero\n"
        },
        {
          "ename": "TypeError",
          "evalue": "unsupported operand type(s) for /: 'int' and 'str'",
          "traceback": [
            "\u001b[0;31m---------------------------------------------------------------------------\u001b[0m",
            "\u001b[0;31mTypeError\u001b[0m                                 Traceback (most recent call last)",
            "\u001b[0;32m<ipython-input-5-60d3764f2a01>\u001b[0m in \u001b[0;36m<module>\u001b[0;34m()\u001b[0m\n\u001b[1;32m      5\u001b[0m         \u001b[0mprint\u001b[0m\u001b[0;34m(\u001b[0m\u001b[0;34m\"Oops that was a zero\"\u001b[0m\u001b[0;34m)\u001b[0m\u001b[0;34m\u001b[0m\u001b[0m\n\u001b[1;32m      6\u001b[0m         \u001b[0;32mcontinue\u001b[0m\u001b[0;34m\u001b[0m\u001b[0m\n\u001b[0;32m----> 7\u001b[0;31m     \u001b[0mfraction\u001b[0m \u001b[0;34m=\u001b[0m \u001b[0mnumerator\u001b[0m \u001b[0;34m/\u001b[0m \u001b[0mdenominator\u001b[0m\u001b[0;34m\u001b[0m\u001b[0m\n\u001b[0m\u001b[1;32m      8\u001b[0m     \u001b[0mprint\u001b[0m\u001b[0;34m(\u001b[0m\u001b[0mfraction\u001b[0m\u001b[0;34m)\u001b[0m\u001b[0;34m\u001b[0m\u001b[0m\n",
            "\u001b[0;31mTypeError\u001b[0m: unsupported operand type(s) for /: 'int' and 'str'"
          ],
          "output_type": "error"
        }
      ]
    },
    {
      "metadata": {},
      "cell_type": "markdown",
      "source": "Now you have a TypeError. So you need to modify your code:"
    },
    {
      "metadata": {
        "trusted": false
      },
      "cell_type": "code",
      "source": "numerator = 12\ndenominators = [1, 3, 0, \"2\", 5]\nfor denominator in denominators:\n    if denominator == 0:\n        print(\"Oops that was a zero\")\n        continue\n    elif not type(denominator) == int:\n        print(\"Oops that was not an integer\")\n        continue\n    fraction = numerator / denominator\n    print(fraction)",
      "execution_count": 6,
      "outputs": [
        {
          "name": "stdout",
          "output_type": "stream",
          "text": "12.0\n4.0\nOops that was a zero\nOops that was not an integer\n2.4\n"
        }
      ]
    },
    {
      "metadata": {},
      "cell_type": "markdown",
      "source": "Your code becomes cluthered and difficult to read and maintain. And what if you would like code to be excecuted no matter what happens? Like closing a database connection or closing a file object? Python offers exception handling for this task. Here is the code using exceptions:"
    },
    {
      "metadata": {
        "trusted": false
      },
      "cell_type": "code",
      "source": "numerator = 12\ndenominators = [1, 3, 0, \"2\", 5]\nfor denominator in denominators:\n    try:\n        fraction = numerator / denominator\n    except:\n        print(\"Oops, I found an error\")",
      "execution_count": 7,
      "outputs": [
        {
          "name": "stdout",
          "output_type": "stream",
          "text": "Oops, I found an error\nOops, I found an error\n"
        }
      ]
    },
    {
      "metadata": {},
      "cell_type": "markdown",
      "source": "In the try block the devision is executed. If an error is encountered, the try block code execution is stopped and transferred towards the except block. Note that we do not have a specific error message. This is because you need to specify the exception. Be specific in your exceptions and NEVER do this:"
    },
    {
      "metadata": {
        "trusted": false
      },
      "cell_type": "code",
      "source": "numerator = 12\ndenominators = [1, 3, 0, \"2\", 5]\nfor denominator in denominators:\n    try:\n        fraction = numerator / denominator\n    except:\n        pass",
      "execution_count": 8,
      "outputs": []
    },
    {
      "metadata": {},
      "cell_type": "markdown",
      "source": "This will silently pass any type of error. You will have no clue what has happened. The following code shows you how to specify different type of exceptions:"
    },
    {
      "metadata": {
        "trusted": false
      },
      "cell_type": "code",
      "source": "numerator = 12\ndenominators = [1, 3, 0, \"2\", 5]\nfor denominator in denominators:\n    try:\n        fraction = numerator / denominator\n    except ZeroDivisionError:\n        print(\"Oops that was a zero\")\n    except TypeError:\n        print(\"Oops, that was not an integer\")",
      "execution_count": 9,
      "outputs": [
        {
          "name": "stdout",
          "output_type": "stream",
          "text": "Oops that was a zero\nOops, that was not an integer\n"
        }
      ]
    },
    {
      "metadata": {},
      "cell_type": "markdown",
      "source": "You can have as much except clauses as you like. Exceptions in Python are instances of a class that derives from BaseException. For an overview of the Exception hierarchy see: https://docs.python.org/3/library/exceptions.html. You can also write your own Exceptions and inhirit from the base class."
    },
    {
      "metadata": {},
      "cell_type": "markdown",
      "source": "It is also possible to combine except statements:"
    },
    {
      "metadata": {
        "trusted": false
      },
      "cell_type": "code",
      "source": "numerator = 12\ndenominators = [1, 3, 0, \"2\", 5]\nfor denominator in denominators:\n    try:\n        fraction = numerator / denominator\n    except (ZeroDivisionError, TypeError):\n        print(\"Oops that was either a zero or not an integer\")\n",
      "execution_count": 10,
      "outputs": [
        {
          "name": "stdout",
          "output_type": "stream",
          "text": "Oops that was either a zero or not an integer\nOops that was either a zero or not an integer\n"
        }
      ]
    },
    {
      "metadata": {},
      "cell_type": "markdown",
      "source": "It is also possible to catch an error and store it in a variable. This can be used to print a user friendly message of the error:"
    },
    {
      "metadata": {
        "trusted": false
      },
      "cell_type": "code",
      "source": "numerator = 12\ndenominators = [1, 3, 0, 5]\nfor denominator in denominators:\n    try:\n        fraction = numerator / denominator\n    except ZeroDivisionError as e:\n        print(\"Oops...\", e)\n",
      "execution_count": 28,
      "outputs": [
        {
          "name": "stdout",
          "output_type": "stream",
          "text": "Oops division by zero\n"
        }
      ]
    },
    {
      "metadata": {},
      "cell_type": "markdown",
      "source": "In addition, we can use the type function to pass e as an argument and print the \\__name\\__ property: type(e).\\__name\\__. This will print the error type:"
    },
    {
      "metadata": {
        "trusted": false
      },
      "cell_type": "code",
      "source": "numerator = 12\ndenominators = [1, 3, 0, 5]\nfor denominator in denominators:\n    try:\n        fraction = numerator / denominator\n    except ZeroDivisionError as e:\n        print(\"Oops...\", type(e).__name__)",
      "execution_count": 29,
      "outputs": [
        {
          "name": "stdout",
          "output_type": "stream",
          "text": "Oops... ZeroDivisionError\n"
        }
      ]
    },
    {
      "metadata": {},
      "cell_type": "markdown",
      "source": "## Raise an error"
    },
    {
      "metadata": {},
      "cell_type": "markdown",
      "source": "For debugging, it can be very handy to raise a specific error. A specific error can be raised using the raise statement. For example:"
    },
    {
      "metadata": {
        "trusted": false
      },
      "cell_type": "code",
      "source": "raise ZeroDivisionError",
      "execution_count": 13,
      "outputs": [
        {
          "ename": "ZeroDivisionError",
          "evalue": "",
          "traceback": [
            "\u001b[0;31m---------------------------------------------------------------------------\u001b[0m",
            "\u001b[0;31mZeroDivisionError\u001b[0m                         Traceback (most recent call last)",
            "\u001b[0;32m<ipython-input-13-c62fc6984c64>\u001b[0m in \u001b[0;36m<module>\u001b[0;34m()\u001b[0m\n\u001b[0;32m----> 1\u001b[0;31m \u001b[0;32mraise\u001b[0m \u001b[0mZeroDivisionError\u001b[0m\u001b[0;34m\u001b[0m\u001b[0m\n\u001b[0m",
            "\u001b[0;31mZeroDivisionError\u001b[0m: "
          ],
          "output_type": "error"
        }
      ]
    },
    {
      "metadata": {},
      "cell_type": "markdown",
      "source": "or without argument to reraise an exception:"
    },
    {
      "metadata": {
        "trusted": false
      },
      "cell_type": "code",
      "source": "try:\n    2/0\nexcept ZeroDivisionError as e:\n    print(\"The caused an error because of a: \", e)\n    raise #reraises the exception to stop the script",
      "execution_count": 14,
      "outputs": [
        {
          "name": "stdout",
          "output_type": "stream",
          "text": "The caused an error because of a:  division by zero\n"
        },
        {
          "ename": "ZeroDivisionError",
          "evalue": "division by zero",
          "traceback": [
            "\u001b[0;31m---------------------------------------------------------------------------\u001b[0m",
            "\u001b[0;31mZeroDivisionError\u001b[0m                         Traceback (most recent call last)",
            "\u001b[0;32m<ipython-input-14-97caed394828>\u001b[0m in \u001b[0;36m<module>\u001b[0;34m()\u001b[0m\n\u001b[1;32m      1\u001b[0m \u001b[0;32mtry\u001b[0m\u001b[0;34m:\u001b[0m\u001b[0;34m\u001b[0m\u001b[0m\n\u001b[0;32m----> 2\u001b[0;31m     \u001b[0;36m2\u001b[0m\u001b[0;34m/\u001b[0m\u001b[0;36m0\u001b[0m\u001b[0;34m\u001b[0m\u001b[0m\n\u001b[0m\u001b[1;32m      3\u001b[0m \u001b[0;32mexcept\u001b[0m \u001b[0mZeroDivisionError\u001b[0m \u001b[0;32mas\u001b[0m \u001b[0me\u001b[0m\u001b[0;34m:\u001b[0m\u001b[0;34m\u001b[0m\u001b[0m\n\u001b[1;32m      4\u001b[0m     \u001b[0mprint\u001b[0m\u001b[0;34m(\u001b[0m\u001b[0;34m\"The caused an error because of a: \"\u001b[0m\u001b[0;34m,\u001b[0m \u001b[0me\u001b[0m\u001b[0;34m)\u001b[0m\u001b[0;34m\u001b[0m\u001b[0m\n\u001b[1;32m      5\u001b[0m     \u001b[0;32mraise\u001b[0m \u001b[0;31m#reraises the exception to stop the script\u001b[0m\u001b[0;34m\u001b[0m\u001b[0m\n",
            "\u001b[0;31mZeroDivisionError\u001b[0m: division by zero"
          ],
          "output_type": "error"
        }
      ]
    },
    {
      "metadata": {},
      "cell_type": "markdown",
      "source": "## Finally... almost"
    },
    {
      "metadata": {},
      "cell_type": "markdown",
      "source": "One of the best parts of exception handling is the use of the optional finally statement: A finally clause is ALWAYS executed before leaving the try statement, whether an exception has occurred or not. Without a finally statement:"
    },
    {
      "metadata": {
        "trusted": false
      },
      "cell_type": "code",
      "source": "try: \n    fraction = 2 / 0\n    print('I will not be printed')\nexcept ZeroDivisionError:\n    print(\"Oops, that was a zero\")\nprint(\"I will be printed as the script continues\")",
      "execution_count": 38,
      "outputs": [
        {
          "name": "stdout",
          "output_type": "stream",
          "text": "Oops, that was a zero\nI will be printed as the script continues\n"
        }
      ]
    },
    {
      "metadata": {},
      "cell_type": "markdown",
      "source": "Now with a finally statement:"
    },
    {
      "metadata": {
        "trusted": false
      },
      "cell_type": "code",
      "source": "try: \n    fraction = 2 / 0\n    print('I will not be printed')\nexcept ZeroDivisionError:\n    print(\"Oops, that was a zero\")\nfinally:\n    print(\"I Will be printed, regardless of an error or not\")",
      "execution_count": 30,
      "outputs": [
        {
          "name": "stdout",
          "output_type": "stream",
          "text": "Oops, that was a zero\nI Will be printed, regardless of an error or not\n"
        }
      ]
    },
    {
      "metadata": {},
      "cell_type": "markdown",
      "source": "Without catching the error:"
    },
    {
      "metadata": {
        "trusted": false
      },
      "cell_type": "code",
      "source": "try: \n    fraction = 2 / 0\n    print('I will not be printed')\nfinally:\n    print(\"I Will be printed, regardless of an error or not.\")\n    print(\"Even in the case that the error is not caught\")",
      "execution_count": 31,
      "outputs": [
        {
          "name": "stdout",
          "output_type": "stream",
          "text": "I Will be printed, regardless of an error or not.\nEven in the case that the error is not caught\n"
        },
        {
          "ename": "ZeroDivisionError",
          "evalue": "division by zero",
          "traceback": [
            "\u001b[0;31m---------------------------------------------------------------------------\u001b[0m",
            "\u001b[0;31mZeroDivisionError\u001b[0m                         Traceback (most recent call last)",
            "\u001b[0;32m<ipython-input-31-d5d89ad8b14f>\u001b[0m in \u001b[0;36m<module>\u001b[0;34m()\u001b[0m\n\u001b[1;32m      1\u001b[0m \u001b[0;32mtry\u001b[0m\u001b[0;34m:\u001b[0m\u001b[0;34m\u001b[0m\u001b[0m\n\u001b[0;32m----> 2\u001b[0;31m     \u001b[0mfraction\u001b[0m \u001b[0;34m=\u001b[0m \u001b[0;36m2\u001b[0m \u001b[0;34m/\u001b[0m \u001b[0;36m0\u001b[0m\u001b[0;34m\u001b[0m\u001b[0m\n\u001b[0m\u001b[1;32m      3\u001b[0m     \u001b[0mprint\u001b[0m\u001b[0;34m(\u001b[0m\u001b[0;34m'I will not be printed'\u001b[0m\u001b[0;34m)\u001b[0m\u001b[0;34m\u001b[0m\u001b[0m\n\u001b[1;32m      4\u001b[0m \u001b[0;32mfinally\u001b[0m\u001b[0;34m:\u001b[0m\u001b[0;34m\u001b[0m\u001b[0m\n\u001b[1;32m      5\u001b[0m     \u001b[0mprint\u001b[0m\u001b[0;34m(\u001b[0m\u001b[0;34m\"I Will be printed, regardless of an error or not.\"\u001b[0m\u001b[0;34m)\u001b[0m\u001b[0;34m\u001b[0m\u001b[0m\n",
            "\u001b[0;31mZeroDivisionError\u001b[0m: division by zero"
          ],
          "output_type": "error"
        }
      ]
    },
    {
      "metadata": {},
      "cell_type": "markdown",
      "source": "The finally statement is especially handy for cleanup code. Close a file or close the connection to the database.        "
    },
    {
      "metadata": {},
      "cell_type": "markdown",
      "source": "## Write custom exceptions"
    },
    {
      "metadata": {},
      "cell_type": "markdown",
      "source": "You can write your own exceptions by inheriting from Python's built-in exception class. Suppose you're more a dog then a cat person. If you encounter a cat your script should terminate:"
    },
    {
      "metadata": {
        "trusted": false
      },
      "cell_type": "code",
      "source": "class foundCatError(Exception):\n    pass",
      "execution_count": 39,
      "outputs": []
    },
    {
      "metadata": {},
      "cell_type": "markdown",
      "source": "Although it looks like an empty class, its not:"
    },
    {
      "metadata": {
        "trusted": false
      },
      "cell_type": "code",
      "source": "class FoundCatError(Exception):\n    pass\n\nmy_object = FoundCatError()\nprint(dir(my_object))",
      "execution_count": 41,
      "outputs": [
        {
          "name": "stdout",
          "output_type": "stream",
          "text": "['__cause__', '__class__', '__context__', '__delattr__', '__dict__', '__dir__', '__doc__', '__eq__', '__format__', '__ge__', '__getattribute__', '__gt__', '__hash__', '__init__', '__init_subclass__', '__le__', '__lt__', '__module__', '__ne__', '__new__', '__reduce__', '__reduce_ex__', '__repr__', '__setattr__', '__setstate__', '__sizeof__', '__str__', '__subclasshook__', '__suppress_context__', '__traceback__', '__weakref__', 'args', 'with_traceback']\n"
        }
      ]
    },
    {
      "metadata": {},
      "cell_type": "markdown",
      "source": "This is because all properties and methods where inherited from the Exception base class. Now we can write a function that makes use of the new class:"
    },
    {
      "metadata": {
        "trusted": false
      },
      "cell_type": "code",
      "source": "def validate(item):\n    if item == 'cat':\n        raise FoundCatError(item)\n    else:\n        return item",
      "execution_count": 50,
      "outputs": []
    },
    {
      "metadata": {},
      "cell_type": "markdown",
      "source": "And we can test it:"
    },
    {
      "metadata": {
        "trusted": false
      },
      "cell_type": "code",
      "source": "animals = \"dog bird fish cat mouse rabbit\".split()\nfor animal in animals:\n    print(validate(animal))",
      "execution_count": 51,
      "outputs": [
        {
          "name": "stdout",
          "output_type": "stream",
          "text": "dog\nbird\nfish\n"
        },
        {
          "ename": "FoundCatError",
          "evalue": "cat",
          "traceback": [
            "\u001b[0;31m---------------------------------------------------------------------------\u001b[0m",
            "\u001b[0;31mFoundCatError\u001b[0m                             Traceback (most recent call last)",
            "\u001b[0;32m<ipython-input-51-897263a1d66c>\u001b[0m in \u001b[0;36m<module>\u001b[0;34m()\u001b[0m\n\u001b[1;32m      1\u001b[0m \u001b[0manimals\u001b[0m \u001b[0;34m=\u001b[0m \u001b[0;34m\"dog bird fish cat mouse rabbit\"\u001b[0m\u001b[0;34m.\u001b[0m\u001b[0msplit\u001b[0m\u001b[0;34m(\u001b[0m\u001b[0;34m)\u001b[0m\u001b[0;34m\u001b[0m\u001b[0m\n\u001b[1;32m      2\u001b[0m \u001b[0;32mfor\u001b[0m \u001b[0manimal\u001b[0m \u001b[0;32min\u001b[0m \u001b[0manimals\u001b[0m\u001b[0;34m:\u001b[0m\u001b[0;34m\u001b[0m\u001b[0m\n\u001b[0;32m----> 3\u001b[0;31m     \u001b[0mprint\u001b[0m\u001b[0;34m(\u001b[0m\u001b[0mvalidate\u001b[0m\u001b[0;34m(\u001b[0m\u001b[0manimal\u001b[0m\u001b[0;34m)\u001b[0m\u001b[0;34m)\u001b[0m\u001b[0;34m\u001b[0m\u001b[0m\n\u001b[0m",
            "\u001b[0;32m<ipython-input-50-85d4ee321f5a>\u001b[0m in \u001b[0;36mvalidate\u001b[0;34m(item)\u001b[0m\n\u001b[1;32m      1\u001b[0m \u001b[0;32mdef\u001b[0m \u001b[0mvalidate\u001b[0m\u001b[0;34m(\u001b[0m\u001b[0mitem\u001b[0m\u001b[0;34m)\u001b[0m\u001b[0;34m:\u001b[0m\u001b[0;34m\u001b[0m\u001b[0m\n\u001b[1;32m      2\u001b[0m     \u001b[0;32mif\u001b[0m \u001b[0mitem\u001b[0m \u001b[0;34m==\u001b[0m \u001b[0;34m'cat'\u001b[0m\u001b[0;34m:\u001b[0m\u001b[0;34m\u001b[0m\u001b[0m\n\u001b[0;32m----> 3\u001b[0;31m         \u001b[0;32mraise\u001b[0m \u001b[0mFoundCatError\u001b[0m\u001b[0;34m(\u001b[0m\u001b[0mitem\u001b[0m\u001b[0;34m)\u001b[0m\u001b[0;34m\u001b[0m\u001b[0m\n\u001b[0m\u001b[1;32m      4\u001b[0m     \u001b[0;32melse\u001b[0m\u001b[0;34m:\u001b[0m\u001b[0;34m\u001b[0m\u001b[0m\n\u001b[1;32m      5\u001b[0m         \u001b[0;32mreturn\u001b[0m \u001b[0mitem\u001b[0m\u001b[0;34m\u001b[0m\u001b[0m\n",
            "\u001b[0;31mFoundCatError\u001b[0m: cat"
          ],
          "output_type": "error"
        }
      ]
    },
    {
      "metadata": {},
      "cell_type": "markdown",
      "source": "And now you can use a try excep clause to catch the error:"
    },
    {
      "metadata": {
        "trusted": false
      },
      "cell_type": "code",
      "source": "animals = \"dog bird fish cat mouse rabbit\".split()\nfor animal in animals:\n    try:\n        print(validate(animal))\n    except FoundCatError as e:\n        print(\"OMG, I don't like cats but I found a\", e)",
      "execution_count": 56,
      "outputs": [
        {
          "name": "stdout",
          "output_type": "stream",
          "text": "dog\nbird\nfish\nOMG, I don't like cats but I found a cat\nmouse\nrabbit\n"
        }
      ]
    },
    {
      "metadata": {},
      "cell_type": "markdown",
      "source": "## The excersise"
    },
    {
      "metadata": {},
      "cell_type": "markdown",
      "source": "Take your DNA reverse complement script and introduce exception handling were appropriate. At least use it for the following:\n- Catch an exception upon a KeyError in the complement function\n- Catch an exception upon a FileNotFoundError in upon opening the file\n- Create a custum exception class and call it NotDnaBaseError. Put it in a module custom_error.py together with a function \"validate\" that validates the data. Make use of this custom exception class."
    },
    {
      "metadata": {},
      "cell_type": "markdown",
      "source": "## Solutions"
    },
    {
      "metadata": {},
      "cell_type": "markdown",
      "source": "Solutions for the excercises are given  below. Programming is like playing the piano: excercize, excercize, excercize. You learn most from typing each single word yourself. If you have no clue what to do you can have a look, but only after your first and second try!\n\n<p><a href=\"Here the solution\">the_file.py</a></p>\n\n"
    }
  ],
  "metadata": {
    "kernelspec": {
      "name": "python3",
      "display_name": "Python 3",
      "language": "python"
    },
    "language_info": {
      "mimetype": "text/x-python",
      "nbconvert_exporter": "python",
      "name": "python",
      "file_extension": ".py",
      "version": "3.5.4",
      "pygments_lexer": "ipython3",
      "codemirror_mode": {
        "version": 3,
        "name": "ipython"
      }
    }
  },
  "nbformat": 4,
  "nbformat_minor": 1
}