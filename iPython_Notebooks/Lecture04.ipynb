{
  "cells": [
    {
      "metadata": {},
      "cell_type": "markdown",
      "source": "# Lecture 04: Input and output"
    },
    {
      "metadata": {},
      "cell_type": "markdown",
      "source": "## Chapters\nChapter 6: Storing and manipulating data <br>\nAuthor: Jurre Hageman"
    },
    {
      "metadata": {},
      "cell_type": "markdown",
      "source": "## Overview"
    },
    {
      "metadata": {},
      "cell_type": "markdown",
      "source": "For this lesson, we will write a small program that implements the command-line program \"cat\".\ncat is a frequently used command on Unix-like operating systems. It can display text files, combine copies of different text files and create new text files.\n\nWe will write a small Python program that mimics the text display feature of the cat command. <br>\nIn addition, we will write a program that reads DNA from file, makes it reverse complement and writes the output to a text file"
    },
    {
      "metadata": {},
      "cell_type": "markdown",
      "source": "## A Python Cat Clone"
    },
    {
      "metadata": {},
      "cell_type": "markdown",
      "source": "cat is a small Unix utility that can display (among other things) text files. cat is written in C and the source code can be found <a href=\"https://git.savannah.gnu.org/cgit/coreutils.git/plain/src/cat.c\">here</a>. <br>\nHere you can see cat in action:"
    },
    {
      "metadata": {
        "trusted": false,
        "scrolled": true
      },
      "cell_type": "code",
      "source": "!cat input.txt",
      "execution_count": 1,
      "outputs": [
        {
          "name": "stdout",
          "output_type": "stream",
          "text": ">gi|5524211|gb|AAD44166.1| cytochrome b [Elephas maximus maximus]\r\nLCLYTHIGRNIYYGSYLYSETWNTGIMLLLITMATAFMGYVLPWGQMSFWGATVITNLFSAIPYIGTNLV\r\nEWIWGGFSVDKATLNRFFAFHFILPFTMVALAGVHLTFLHETGSNNPLGLTSDSDKIPFHPYYTIKDFLG\r\nLLILILLLLLLALLSPDMLGDPDNHMPADPLNTPLHIKPEWYFLFAYAILRSVPNKLGGVLALFLSIVIL\r\nGLMPFLHTSKHRSMMLRPLSQALFWTLTMDLLTLTWIGSQPVEYPYTIIGQMASILYFSIILAFLPIAGX\r\nIENY"
        }
      ]
    },
    {
      "metadata": {},
      "cell_type": "markdown",
      "source": "Here cat opens a file stream and displays the contents on screen. The file is an ASCII file in FASTA format and contains the sequence of the cytochrome b protein from the elephant."
    },
    {
      "metadata": {},
      "cell_type": "markdown",
      "source": "Unix and Windows use different type of line endings. While Unix like systems (such as Mac and Linux) use Line Feed (LF), Windows uses Cariage Return and Line Feed (CRLF). You can check the type of line ending using the file command (without the ! character):"
    },
    {
      "metadata": {
        "trusted": false
      },
      "cell_type": "code",
      "source": "!file input.txt",
      "execution_count": 2,
      "outputs": [
        {
          "name": "stdout",
          "output_type": "stream",
          "text": "input.txt: ASCII text\r\n"
        }
      ]
    },
    {
      "metadata": {},
      "cell_type": "markdown",
      "source": "Now we check another file:"
    },
    {
      "metadata": {
        "trusted": false
      },
      "cell_type": "code",
      "source": "!file input_windows_endings.txt",
      "execution_count": 3,
      "outputs": [
        {
          "name": "stdout",
          "output_type": "stream",
          "text": "input_windows_endings.txt: ASCII text, with CRLF line terminators\r\n"
        }
      ]
    },
    {
      "metadata": {},
      "cell_type": "markdown",
      "source": "As you can see, this file has CRLF endings. You can convert between these endings using dos2unix and unix2dos. See: https://sourceforge.net/projects/dos2unix/"
    },
    {
      "metadata": {},
      "cell_type": "markdown",
      "source": " Back to the excersise: We will use Python to make a cat clone."
    },
    {
      "metadata": {},
      "cell_type": "markdown",
      "source": "Let's first think of what the program should do:\n- it should open a file\n- it should loop through every line\n- it should print the content of the line to the screen\n- it should close the file"
    },
    {
      "metadata": {},
      "cell_type": "markdown",
      "source": "## Read file"
    },
    {
      "metadata": {},
      "cell_type": "markdown",
      "source": "As a start, we will write some code to print multiple items using a loop.\nThere are different types of loops. \nThe for loop in Python is used to avoid repetition of code.\nSuppose we have a collection of different items stored. We can store them in a list:"
    },
    {
      "metadata": {
        "trusted": false
      },
      "cell_type": "code",
      "source": "items = [\"This\", \"is\", \"a\", \"list\", \"with\", \"each\", \"item\", \"being\", \"a\", \"string\"]\nprint(items)",
      "execution_count": 4,
      "outputs": [
        {
          "name": "stdout",
          "output_type": "stream",
          "text": "['This', 'is', 'a', 'list', 'with', 'each', 'item', 'being', 'a', 'string']\n"
        }
      ]
    },
    {
      "metadata": {},
      "cell_type": "markdown",
      "source": "Like a list, a text file is also a collection of items. It is a collection of lines containing characters.\nTo loop through the collection we can use a for loop. In this way, each item will be printed:"
    },
    {
      "metadata": {
        "trusted": false
      },
      "cell_type": "code",
      "source": "items = [\"This\", \"is\", \"a\", \"list\", \"with\", \"each\", \"item\", \"being\", \"a\", \"string\"]\nfor item in items:\n    print(item)",
      "execution_count": 5,
      "outputs": [
        {
          "name": "stdout",
          "output_type": "stream",
          "text": "This\nis\na\nlist\nwith\neach\nitem\nbeing\na\nstring\n"
        }
      ]
    },
    {
      "metadata": {},
      "cell_type": "markdown",
      "source": "Item is now a placeholder that is overwritten for each consecutive loop. The first loop item refers to \"This\", the second loop to \"is\" etc.\nNote that item (singular) differs from items (plural). Items refers to the complete list while item is the placeholder in the for loop refering to each item of the list. \n\nThe next thing we would like to do is to open a file.\nFiles can be opened in Python using the open command.\nWe have a text file in the directory that is named <a href=\"HIER DE GOEDE LINK\">input.txt</a>. Make sure that you download this file in your working directory (the same directory in which you store your python file). \nUsing the following code we can generate a file object with the open file:"
    },
    {
      "metadata": {
        "trusted": false
      },
      "cell_type": "code",
      "source": "file_object = open(\"input.txt\")\nprint(file_object)",
      "execution_count": 6,
      "outputs": [
        {
          "name": "stdout",
          "output_type": "stream",
          "text": "<_io.TextIOWrapper name='input.txt' mode='r' encoding='UTF-8'>\n"
        }
      ]
    },
    {
      "metadata": {},
      "cell_type": "markdown",
      "source": "Printing the file object gives a bit of intimidating result. Do not let it intimidate you. It's just a file object in read mode with a certain encoding that can display the content.\nTo display the content we can loop through the file object in the following manner:"
    },
    {
      "metadata": {
        "trusted": false
      },
      "cell_type": "code",
      "source": "my_file = open(\"input.txt\")\nfor line in my_file:\n    print(line)\nmy_file.close()",
      "execution_count": 7,
      "outputs": [
        {
          "name": "stdout",
          "output_type": "stream",
          "text": ">gi|5524211|gb|AAD44166.1| cytochrome b [Elephas maximus maximus]\n\nLCLYTHIGRNIYYGSYLYSETWNTGIMLLLITMATAFMGYVLPWGQMSFWGATVITNLFSAIPYIGTNLV\n\nEWIWGGFSVDKATLNRFFAFHFILPFTMVALAGVHLTFLHETGSNNPLGLTSDSDKIPFHPYYTIKDFLG\n\nLLILILLLLLLALLSPDMLGDPDNHMPADPLNTPLHIKPEWYFLFAYAILRSVPNKLGGVLALFLSIVIL\n\nGLMPFLHTSKHRSMMLRPLSQALFWTLTMDLLTLTWIGSQPVEYPYTIIGQMASILYFSIILAFLPIAGX\n\nIENY\n"
        }
      ]
    },
    {
      "metadata": {},
      "cell_type": "markdown",
      "source": "The keyword \"line\" is now a placeholder for every line of the file. The first loop it refers to the first line, the second loop to the second.\nNote that a line break is introduced between each line. This is caused by the print function which normally introduces a line break after each printing event. This can be avoided by using the end='' statement:"
    },
    {
      "metadata": {
        "trusted": false
      },
      "cell_type": "code",
      "source": "mssg1 = \"Hello\"\nmssg2 = \"World\"\nprint(mssg1)\nprint(mssg2)\nprint(mssg1, end='')\nprint(mssg2, end='')",
      "execution_count": 8,
      "outputs": [
        {
          "name": "stdout",
          "output_type": "stream",
          "text": "Hello\nWorld\nHelloWorld"
        }
      ]
    },
    {
      "metadata": {},
      "cell_type": "markdown",
      "source": "To completely mimic the display feature in Python, the line breaks between lines should be avoided: "
    },
    {
      "metadata": {
        "trusted": false
      },
      "cell_type": "code",
      "source": "my_file = open(\"input.txt\")\nfor line in my_file:\n    print(line, end='')\nmy_file.close()",
      "execution_count": 9,
      "outputs": [
        {
          "name": "stdout",
          "output_type": "stream",
          "text": ">gi|5524211|gb|AAD44166.1| cytochrome b [Elephas maximus maximus]\nLCLYTHIGRNIYYGSYLYSETWNTGIMLLLITMATAFMGYVLPWGQMSFWGATVITNLFSAIPYIGTNLV\nEWIWGGFSVDKATLNRFFAFHFILPFTMVALAGVHLTFLHETGSNNPLGLTSDSDKIPFHPYYTIKDFLG\nLLILILLLLLLALLSPDMLGDPDNHMPADPLNTPLHIKPEWYFLFAYAILRSVPNKLGGVLALFLSIVIL\nGLMPFLHTSKHRSMMLRPLSQALFWTLTMDLLTLTWIGSQPVEYPYTIIGQMASILYFSIILAFLPIAGX\nIENY"
        }
      ]
    },
    {
      "metadata": {},
      "cell_type": "markdown",
      "source": "As you can see, the output is exactly as using cat:"
    },
    {
      "metadata": {
        "trusted": false
      },
      "cell_type": "code",
      "source": "!cat input.txt",
      "execution_count": 10,
      "outputs": [
        {
          "name": "stdout",
          "output_type": "stream",
          "text": ">gi|5524211|gb|AAD44166.1| cytochrome b [Elephas maximus maximus]\r\nLCLYTHIGRNIYYGSYLYSETWNTGIMLLLITMATAFMGYVLPWGQMSFWGATVITNLFSAIPYIGTNLV\r\nEWIWGGFSVDKATLNRFFAFHFILPFTMVALAGVHLTFLHETGSNNPLGLTSDSDKIPFHPYYTIKDFLG\r\nLLILILLLLLLALLSPDMLGDPDNHMPADPLNTPLHIKPEWYFLFAYAILRSVPNKLGGVLALFLSIVIL\r\nGLMPFLHTSKHRSMMLRPLSQALFWTLTMDLLTLTWIGSQPVEYPYTIIGQMASILYFSIILAFLPIAGX\r\nIENY"
        }
      ]
    },
    {
      "metadata": {},
      "cell_type": "markdown",
      "source": "## Reading your file in streaming mode"
    },
    {
      "metadata": {},
      "cell_type": "markdown",
      "source": "You may stumble upon the file.read() method which is used a lot. This might look convenient at first as you omit the for loop:"
    },
    {
      "metadata": {
        "trusted": false
      },
      "cell_type": "code",
      "source": "my_file = open('input.txt')\ncontent = my_file.read()\nprint(content)\nmy_file.close()",
      "execution_count": 11,
      "outputs": [
        {
          "name": "stdout",
          "output_type": "stream",
          "text": ">gi|5524211|gb|AAD44166.1| cytochrome b [Elephas maximus maximus]\nLCLYTHIGRNIYYGSYLYSETWNTGIMLLLITMATAFMGYVLPWGQMSFWGATVITNLFSAIPYIGTNLV\nEWIWGGFSVDKATLNRFFAFHFILPFTMVALAGVHLTFLHETGSNNPLGLTSDSDKIPFHPYYTIKDFLG\nLLILILLLLLLALLSPDMLGDPDNHMPADPLNTPLHIKPEWYFLFAYAILRSVPNKLGGVLALFLSIVIL\nGLMPFLHTSKHRSMMLRPLSQALFWTLTMDLLTLTWIGSQPVEYPYTIIGQMASILYFSIILAFLPIAGX\nIENY\n"
        }
      ]
    },
    {
      "metadata": {},
      "cell_type": "markdown",
      "source": "However, there is a major drawback using this approach. The memory consumed is considerably larger using this method:"
    },
    {
      "metadata": {
        "trusted": false
      },
      "cell_type": "code",
      "source": "import sys\nmy_file = open('input.txt')\ncontent = my_file.read()\nprint(sys.getsizeof(content), 'bytes')",
      "execution_count": 12,
      "outputs": [
        {
          "name": "stdout",
          "output_type": "stream",
          "text": "403 bytes\n"
        }
      ]
    },
    {
      "metadata": {},
      "cell_type": "markdown",
      "source": "Compare this to the memory used in streaming mode:"
    },
    {
      "metadata": {
        "trusted": false
      },
      "cell_type": "code",
      "source": "my_file = open('input.txt')\nfor line in my_file:\n    content = line\n    print(sys.getsizeof(content), 'bytes') #now you can do something line by line",
      "execution_count": 13,
      "outputs": [
        {
          "name": "stdout",
          "output_type": "stream",
          "text": "115 bytes\n120 bytes\n120 bytes\n120 bytes\n120 bytes\n53 bytes\n"
        }
      ]
    },
    {
      "metadata": {},
      "cell_type": "markdown",
      "source": "From the above code, you can see that the memory size is much smaller in streaming mode. Each loop, the line variable is overwritten. This saves memory, especially when using large files! Whenever possible, use streaming mode instead of the file.read() method."
    },
    {
      "metadata": {},
      "cell_type": "markdown",
      "source": "## Write file"
    },
    {
      "metadata": {},
      "cell_type": "markdown",
      "source": "So far we have opened a file and displayed its content.\nYou may also want to write something to a file. \nTo do so, first we have to open a new output file:"
    },
    {
      "metadata": {
        "trusted": false
      },
      "cell_type": "code",
      "source": "output_file = open(\"output.txt\", \"w\")\nprint(output_file)\noutput_file.close()",
      "execution_count": 14,
      "outputs": [
        {
          "name": "stdout",
          "output_type": "stream",
          "text": "<_io.TextIOWrapper name='output.txt' mode='w' encoding='UTF-8'>\n"
        }
      ]
    },
    {
      "metadata": {},
      "cell_type": "markdown",
      "source": "We have generated a file object and assigned it to the variable output_file.\nThe \"w\" argument informs the Python interpreter that the file object should be opened in write mode.\nThe default is read mode (\"r\") which does not need to be specified.\nTo write something to the file we can use the file.write() method."
    },
    {
      "metadata": {
        "trusted": false
      },
      "cell_type": "code",
      "source": "output_file = open(\"output.txt\", \"w\")\noutput_file.write(\"This is written to the file\" + '\\n')\noutput_file.write(\"End of message\" + '\\n')\noutput_file.close() # Do not forget to close the file. This is very important!\nprint('Done')",
      "execution_count": 15,
      "outputs": [
        {
          "name": "stdout",
          "output_type": "stream",
          "text": "Done\n"
        }
      ]
    },
    {
      "metadata": {},
      "cell_type": "markdown",
      "source": "Now we have a file in the same directory as the Python script.\nWe can open it to check if the content has been written to the file:"
    },
    {
      "metadata": {
        "trusted": false
      },
      "cell_type": "code",
      "source": "!cat output.txt",
      "execution_count": 16,
      "outputs": [
        {
          "name": "stdout",
          "output_type": "stream",
          "text": "This is written to the file\r\nEnd of message\r\n"
        }
      ]
    },
    {
      "metadata": {},
      "cell_type": "markdown",
      "source": "Instead of using write mode, which overwrites the file content each time that you open the file in 'w' mode we can also append to a file using the 'a' (append) mode:"
    },
    {
      "metadata": {
        "trusted": false
      },
      "cell_type": "code",
      "source": "output_file = open(\"output2.txt\", \"a\")\noutput_file.write(\"This is new text\" + '\\n')\noutput_file.close()",
      "execution_count": 17,
      "outputs": []
    },
    {
      "metadata": {},
      "cell_type": "markdown",
      "source": "Read content"
    },
    {
      "metadata": {
        "trusted": false
      },
      "cell_type": "code",
      "source": "!cat output2.txt",
      "execution_count": 18,
      "outputs": [
        {
          "name": "stdout",
          "output_type": "stream",
          "text": "This is new text\r\nThis is another line of text\r\nThis is YET another line of text\r\nThis is new text\r\nThis is another line of text\r\nThis is YET another line of text\r\nThis is new text\r\n"
        }
      ]
    },
    {
      "metadata": {},
      "cell_type": "markdown",
      "source": "Add a new line:"
    },
    {
      "metadata": {
        "trusted": false
      },
      "cell_type": "code",
      "source": "output_file = open(\"output2.txt\", \"a\")\noutput_file.write(\"This is another line of text\" + '\\n')\noutput_file.close()",
      "execution_count": 19,
      "outputs": []
    },
    {
      "metadata": {
        "trusted": false
      },
      "cell_type": "code",
      "source": "!cat output2.txt",
      "execution_count": 20,
      "outputs": [
        {
          "name": "stdout",
          "output_type": "stream",
          "text": "This is new text\r\nThis is another line of text\r\nThis is YET another line of text\r\nThis is new text\r\nThis is another line of text\r\nThis is YET another line of text\r\nThis is new text\r\nThis is another line of text\r\n"
        }
      ]
    },
    {
      "metadata": {},
      "cell_type": "markdown",
      "source": "## A safer method to open a file object"
    },
    {
      "metadata": {},
      "cell_type": "markdown",
      "source": "File objects need to be closed using the file.close() method. While this is not crucial for reading files, it is for writing. If you forget to close your file after write operations, this may cause data loss. Fortunately, Python offers a content managment protocol that automates the closing of the file. You can use the content management protocol using the with statement that acts as a wrapper to ensure that your file will always close. If you want to know more about the content management protocol (and maybe want to write your own context management class) see chapter 9 of your book. For know we limit ourself on the use of the with statement instead of explaining the internal details on how it works:"
    },
    {
      "metadata": {
        "trusted": false
      },
      "cell_type": "code",
      "source": "with open('output2.txt', 'a') as output_file:\n    output_file.write(\"This is YET another line of text\" + '\\n')",
      "execution_count": 21,
      "outputs": []
    },
    {
      "metadata": {
        "trusted": false
      },
      "cell_type": "code",
      "source": "!cat output2.txt",
      "execution_count": 22,
      "outputs": [
        {
          "name": "stdout",
          "output_type": "stream",
          "text": "This is new text\r\nThis is another line of text\r\nThis is YET another line of text\r\nThis is new text\r\nThis is another line of text\r\nThis is YET another line of text\r\nThis is new text\r\nThis is another line of text\r\nThis is YET another line of text\r\n"
        }
      ]
    },
    {
      "metadata": {},
      "cell_type": "markdown",
      "source": "Note that there is no file.close() statement. But can we still write to the file?"
    },
    {
      "metadata": {
        "trusted": false
      },
      "cell_type": "code",
      "source": "output_file.write(\"ok\")",
      "execution_count": 23,
      "outputs": [
        {
          "ename": "ValueError",
          "evalue": "I/O operation on closed file.",
          "traceback": [
            "\u001b[0;31m---------------------------------------------------------------------------\u001b[0m",
            "\u001b[0;31mValueError\u001b[0m                                Traceback (most recent call last)",
            "\u001b[0;32m<ipython-input-23-651b787f0b4d>\u001b[0m in \u001b[0;36m<module>\u001b[0;34m()\u001b[0m\n\u001b[0;32m----> 1\u001b[0;31m \u001b[0moutput_file\u001b[0m\u001b[0;34m.\u001b[0m\u001b[0mwrite\u001b[0m\u001b[0;34m(\u001b[0m\u001b[0;34m\"ok\"\u001b[0m\u001b[0;34m)\u001b[0m\u001b[0;34m\u001b[0m\u001b[0m\n\u001b[0m",
            "\u001b[0;31mValueError\u001b[0m: I/O operation on closed file."
          ],
          "output_type": "error"
        }
      ]
    },
    {
      "metadata": {},
      "cell_type": "markdown",
      "source": "As you can see, the last write operation failed because the file object was already closed. All thanks to the with statement. It is always a good idea to use the with statement when using files. "
    },
    {
      "metadata": {},
      "cell_type": "markdown",
      "source": "## Excercise: Read a sequence from a file and write the reverse, complement and reverse complement to a file."
    },
    {
      "metadata": {
        "collapsed": true
      },
      "cell_type": "markdown",
      "source": "Now we come to the final excersise:\nThe file: <a href=\"hier correcte link\">dna.fasta</a> is a FASTA file. The FASTA format is a text-based format for representing nucleotide sequences or peptide sequences, in which nucleotides or amino acids are represented using single-letter codes. \nThis is an example: <br>\n\\>My_dna_sequence <br>\natcaggatggggatggagagaggaccaaccac <br>\nacagagtagagagagaggagagagacaagata <br>\ntatatttttatacccaggagagacagatagag <br>\n\nTo open the file one could use the following code:"
    },
    {
      "metadata": {
        "trusted": false
      },
      "cell_type": "code",
      "source": "open_file = open(\"dna.fasta\")",
      "execution_count": null,
      "outputs": []
    },
    {
      "metadata": {},
      "cell_type": "markdown",
      "source": "We can check if the file object is created:"
    },
    {
      "metadata": {
        "trusted": false
      },
      "cell_type": "code",
      "source": "print(open_file)",
      "execution_count": null,
      "outputs": []
    },
    {
      "metadata": {},
      "cell_type": "markdown",
      "source": "The file object is created but this way is not a very flexible way to open files. \nIn this way, the file MUST be named \"dna.fasta\".\nThis is a nightmare for the user of the program. A much more flexible way is to use command line arguments.\nIn that way the program can be called including the name of the file as an argument.\nThis is exactly what cat does:"
    },
    {
      "metadata": {
        "trusted": false
      },
      "cell_type": "code",
      "source": "!cat dna.fasta",
      "execution_count": null,
      "outputs": []
    },
    {
      "metadata": {},
      "cell_type": "markdown",
      "source": "Here dna.fasta is a command line argument for the cat program."
    },
    {
      "metadata": {},
      "cell_type": "markdown",
      "source": "In this way, the user can display the content with any name.\nTo use command line arguments we need a specific Python library: `sys`.\n`sys` is a library that can handle command line argument using the `argv` attribute. `argv` returns a list of strings of the command line arguments.\nImport this module using the following code:"
    },
    {
      "metadata": {
        "trusted": false
      },
      "cell_type": "code",
      "source": "import sys",
      "execution_count": null,
      "outputs": []
    },
    {
      "metadata": {},
      "cell_type": "markdown",
      "source": "The sys.argv attribute returns a list of command line arguments. All list items are strings. The first item of the list will be the name of the file. The second item will be your first command line argument. You can catch all arguments as follows:"
    },
    {
      "metadata": {
        "trusted": false
      },
      "cell_type": "code",
      "source": "args = sys.argv # all items in a list",
      "execution_count": 24,
      "outputs": []
    },
    {
      "metadata": {},
      "cell_type": "markdown",
      "source": "Now we can catch a commandline argument with sys.argv as follows:"
    },
    {
      "metadata": {
        "trusted": false
      },
      "cell_type": "code",
      "source": "file_name = sys.argv[1] #second item from the list",
      "execution_count": null,
      "outputs": []
    },
    {
      "metadata": {},
      "cell_type": "markdown",
      "source": "The variable file_name refers now to the first command-line argument (that will be the file name).\nUse IDLE3 to write a program that:\n- will catch the filenames from the command line\n- reads the content of the file line by line\n- generates the reverse-complement of the dna string\n- writes the reverse-complement DNA to a user-defined output file\n- organise your code in functions. For simplicity, I did not use functions in this totorial but you should use functions for your script!\n\nNote that you cannot simply run the code via IDLE3, since it expects a command-line argument from the commandline. You have to save the file first and call from the command-line your python file and an argument. For example:\n\n>rev_comp_dna.py dna.fasta dna_rev_comp.fasta"
    },
    {
      "metadata": {},
      "cell_type": "markdown",
      "source": "## Solutions"
    },
    {
      "metadata": {},
      "cell_type": "markdown",
      "source": "Solutions for the excercises are given  below. Programming is like playing the piano: excercize, excercize, excercize. You learn most from typing each single word yourself. If you have no clue what to do you can have a look, but only after your first and second try!\n\n<p><a href=\"Here the solution\">rev_comp_dna.py</a></p>\n\n"
    }
  ],
  "metadata": {
    "kernelspec": {
      "name": "python3",
      "display_name": "Python 3",
      "language": "python"
    },
    "language_info": {
      "mimetype": "text/x-python",
      "nbconvert_exporter": "python",
      "name": "python",
      "pygments_lexer": "ipython3",
      "version": "3.5.4",
      "file_extension": ".py",
      "codemirror_mode": {
        "version": 3,
        "name": "ipython"
      }
    }
  },
  "nbformat": 4,
  "nbformat_minor": 1
}