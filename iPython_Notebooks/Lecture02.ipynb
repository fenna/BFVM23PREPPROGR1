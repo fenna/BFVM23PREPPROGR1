{
  "cells": [
    {
      "metadata": {},
      "cell_type": "markdown",
      "source": "# Lecture 02: List, Tuples and Dictionaries"
    },
    {
      "metadata": {},
      "cell_type": "markdown",
      "source": "## Chapters\nChapter 2: List Data: Working with Ordered Data <br>\nChapter 3: Structured Data: Working with Structured Data <br>\nAuthor: Jurre Hageman"
    },
    {
      "metadata": {},
      "cell_type": "markdown",
      "source": "## Working with lists"
    },
    {
      "metadata": {},
      "cell_type": "markdown",
      "source": "List are mutable and ordered collections\nThey have the following properties:\n- Lists are sequences of objects\n- They are in other languages also called sequences, vectors or arrays\n- They contain ordered series of objects: characters, strings, numbers, or any other Python object\n- They are quite similar to strings in many ways but with one important exception: they are mutable\n- Lists are created using square brackets, with elements separated by commas\n"
    },
    {
      "metadata": {},
      "cell_type": "markdown",
      "source": "Here is an example of a Python list:"
    },
    {
      "metadata": {
        "trusted": false
      },
      "cell_type": "code",
      "source": "molecules = ['DNA', 'RNA', 'Protein']\nprint(type(molecules))",
      "execution_count": 2,
      "outputs": [
        {
          "name": "stdout",
          "output_type": "stream",
          "text": "<class 'list'>\n"
        }
      ]
    },
    {
      "metadata": {},
      "cell_type": "markdown",
      "source": "As you can see, the data type is a list. In a list, you can combine any data type:"
    },
    {
      "metadata": {
        "trusted": false
      },
      "cell_type": "code",
      "source": "a_lot_of_types = [True, 1, 1.0, \"string\", ('strings', 'in', 'tuple'), ['strings', 'in', 'list']]\nfor i in a_lot_of_types: #walk through all items using a for loop\n    print(type(i))",
      "execution_count": 2,
      "outputs": [
        {
          "name": "stdout",
          "output_type": "stream",
          "text": "<class 'bool'>\n<class 'int'>\n<class 'float'>\n<class 'str'>\n<class 'tuple'>\n<class 'list'>\n"
        }
      ]
    },
    {
      "metadata": {},
      "cell_type": "markdown",
      "source": "They have an order. Like any other sequence in Python, lists have a 0-based index. You can select items by indexing:"
    },
    {
      "metadata": {
        "trusted": false
      },
      "cell_type": "code",
      "source": "print(molecules[0]) #First item\nprint(molecules[2]) #Second item",
      "execution_count": 3,
      "outputs": [
        {
          "name": "stdout",
          "output_type": "stream",
          "text": "DNA\nProtein\n"
        }
      ]
    },
    {
      "metadata": {},
      "cell_type": "markdown",
      "source": "List are dynamic: you can add, delete and change items:"
    },
    {
      "metadata": {
        "trusted": false
      },
      "cell_type": "code",
      "source": "names = ['Jan']\nprint(1, names)\nnames.append('Piet') #append item to the end\nprint(2, names)\nnames = names + ['Truus', 'Lieske', 'Kim', 'Janneke'] #concatenates two lists\nprint(3, names)\nnames.pop(0) #delete first item\nprint(4, names)\nnames.remove('Truus') #Remove item\nprint(5, names)\ndel names[2] #remove by index\nprint(6, names)\nnames[0] = 'Pieter' #replace item\nprint(7, names)",
      "execution_count": 4,
      "outputs": [
        {
          "name": "stdout",
          "output_type": "stream",
          "text": "1 ['Jan']\n2 ['Jan', 'Piet']\n3 ['Jan', 'Piet', 'Truus', 'Lieske', 'Kim', 'Janneke']\n4 ['Piet', 'Truus', 'Lieske', 'Kim', 'Janneke']\n5 ['Piet', 'Lieske', 'Kim', 'Janneke']\n6 ['Piet', 'Lieske', 'Janneke']\n7 ['Pieter', 'Lieske', 'Janneke']\n"
        }
      ]
    },
    {
      "metadata": {},
      "cell_type": "markdown",
      "source": "Like strings (or any other collection), you can slice a list. <br>\nSlicing works as slicing on strings: <br>\nThus: object[start:stop:step]"
    },
    {
      "metadata": {
        "trusted": false
      },
      "cell_type": "code",
      "source": "names = names + ['Mies', 'Roos', 'Gert']\nprint(names)\nprint(names[0:2])\nprint(names[::-1]) #slice that reverses the order\n#catch slice in variable:\nnew_list = names[4:] #Note that a slice ALWAYS returns the same data type\nprint(new_list) ",
      "execution_count": 5,
      "outputs": [
        {
          "name": "stdout",
          "output_type": "stream",
          "text": "['Pieter', 'Lieske', 'Janneke', 'Mies', 'Roos', 'Gert']\n['Pieter', 'Lieske']\n['Gert', 'Roos', 'Mies', 'Janneke', 'Lieske', 'Pieter']\n['Roos', 'Gert']\n"
        }
      ]
    },
    {
      "metadata": {},
      "cell_type": "markdown",
      "source": "list.append() is a list specific method. To find all methods on lists type:"
    },
    {
      "metadata": {
        "trusted": false
      },
      "cell_type": "code",
      "source": "print(dir(list))",
      "execution_count": 6,
      "outputs": [
        {
          "name": "stdout",
          "output_type": "stream",
          "text": "['__add__', '__class__', '__contains__', '__delattr__', '__delitem__', '__dir__', '__doc__', '__eq__', '__format__', '__ge__', '__getattribute__', '__getitem__', '__gt__', '__hash__', '__iadd__', '__imul__', '__init__', '__init_subclass__', '__iter__', '__le__', '__len__', '__lt__', '__mul__', '__ne__', '__new__', '__reduce__', '__reduce_ex__', '__repr__', '__reversed__', '__rmul__', '__setattr__', '__setitem__', '__sizeof__', '__str__', '__subclasshook__', 'append', 'clear', 'copy', 'count', 'extend', 'index', 'insert', 'pop', 'remove', 'reverse', 'sort']\n"
        }
      ]
    },
    {
      "metadata": {},
      "cell_type": "markdown",
      "source": "You can make nested lists (list of lists) which represents a table:"
    },
    {
      "metadata": {
        "trusted": false
      },
      "cell_type": "code",
      "source": "table = [[1, 2, 3],[4, 5, 6],[7, 8, 9]]",
      "execution_count": 7,
      "outputs": []
    },
    {
      "metadata": {},
      "cell_type": "markdown",
      "source": "To show that this actually represents a table:"
    },
    {
      "metadata": {
        "trusted": false
      },
      "cell_type": "code",
      "source": "for row in table:\n    print(row)",
      "execution_count": 8,
      "outputs": [
        {
          "name": "stdout",
          "output_type": "stream",
          "text": "[1, 2, 3]\n[4, 5, 6]\n[7, 8, 9]\n"
        }
      ]
    },
    {
      "metadata": {},
      "cell_type": "markdown",
      "source": "To get the item from the second column and the second row:"
    },
    {
      "metadata": {
        "trusted": false
      },
      "cell_type": "code",
      "source": "print(table[1][1])",
      "execution_count": 9,
      "outputs": [
        {
          "name": "stdout",
          "output_type": "stream",
          "text": "5\n"
        }
      ]
    },
    {
      "metadata": {},
      "cell_type": "markdown",
      "source": "Some usefull list methods are count and index:"
    },
    {
      "metadata": {
        "trusted": false
      },
      "cell_type": "code",
      "source": "print(1, names)\nnames.append('Lieske')\nprint(2, names)\nprint(3, names.count('Lieske'))\nprint(4, names.index('Janneke'))",
      "execution_count": 10,
      "outputs": [
        {
          "name": "stdout",
          "output_type": "stream",
          "text": "1 ['Pieter', 'Lieske', 'Janneke', 'Mies', 'Roos', 'Gert']\n2 ['Pieter', 'Lieske', 'Janneke', 'Mies', 'Roos', 'Gert', 'Lieske']\n3 2\n4 2\n"
        }
      ]
    },
    {
      "metadata": {},
      "cell_type": "markdown",
      "source": "And there are some usefull functions that work on lists (and any other iterable):"
    },
    {
      "metadata": {
        "trusted": false
      },
      "cell_type": "code",
      "source": "numbers = [12, 14, 7, 9]\nprint(1, min(numbers))\nprint(2, max(numbers))\nprint(3, len(numbers))\nprint(4, sum(numbers))\n",
      "execution_count": 11,
      "outputs": [
        {
          "name": "stdout",
          "output_type": "stream",
          "text": "1 7\n2 14\n3 4\n4 42\n"
        }
      ]
    },
    {
      "metadata": {},
      "cell_type": "markdown",
      "source": "### Warning with making a copy of a list"
    },
    {
      "metadata": {},
      "cell_type": "markdown",
      "source": "The following code will NOT make a copy of a list:"
    },
    {
      "metadata": {
        "trusted": false
      },
      "cell_type": "code",
      "source": "my_list = ['DNA', 'RNA']\nprint(1, my_list)\nmy_copy = my_list # This is not a copy but a reference to the same object in memory\nprint(2, my_copy)\nmy_copy.append('Protein')\nprint(3, my_list)\nprint(4, my_copy)\nprint(5, my_list == my_copy) #the content of the list is the same\nprint(6, my_list is my_copy) #but it is also the same object in memory!",
      "execution_count": 12,
      "outputs": [
        {
          "name": "stdout",
          "output_type": "stream",
          "text": "1 ['DNA', 'RNA']\n2 ['DNA', 'RNA']\n3 ['DNA', 'RNA', 'Protein']\n4 ['DNA', 'RNA', 'Protein']\n5 True\n6 True\n"
        }
      ]
    },
    {
      "metadata": {},
      "cell_type": "markdown",
      "source": "To make a real copy either slice the list or use the copy method"
    },
    {
      "metadata": {
        "trusted": false
      },
      "cell_type": "code",
      "source": "my_real_copy = my_list[:] #slices the the objects from my_list\nmy_second_real_copy = my_list.copy()\nprint(1, my_list == my_real_copy) #the content of the list is the same\nprint(2, my_list is my_real_copy) #but now it is NOT the same object in memory!\nmy_real_copy.append('Lipid')\nmy_second_real_copy.append('Carbohydrate')\nprint(3, my_list)\nprint(4, my_real_copy)\nprint(5, my_second_real_copy)\n",
      "execution_count": 13,
      "outputs": [
        {
          "name": "stdout",
          "output_type": "stream",
          "text": "1 True\n2 False\n3 ['DNA', 'RNA', 'Protein']\n4 ['DNA', 'RNA', 'Protein', 'Lipid']\n5 ['DNA', 'RNA', 'Protein', 'Carbohydrate']\n"
        }
      ]
    },
    {
      "metadata": {},
      "cell_type": "markdown",
      "source": "### From list to string"
    },
    {
      "metadata": {},
      "cell_type": "markdown",
      "source": "You can stringify a list using the ''.join() method (which is technically a string method):"
    },
    {
      "metadata": {
        "trusted": false
      },
      "cell_type": "code",
      "source": "print(1, my_list)\nstringified_list = ''.join(my_list)\nprint(2, stringified_list)\nstringified_list_commas = ','.join(my_list) #use , as a seperator\nprint(3, stringified_list_commas)",
      "execution_count": 14,
      "outputs": [
        {
          "name": "stdout",
          "output_type": "stream",
          "text": "1 ['DNA', 'RNA', 'Protein']\n2 DNARNAProtein\n3 DNA,RNA,Protein\n"
        }
      ]
    },
    {
      "metadata": {},
      "cell_type": "markdown",
      "source": "### String concatenation versus ''.join(list) "
    },
    {
      "metadata": {},
      "cell_type": "markdown",
      "source": "You probably already did some list concatenation. While this is fine for a small amount of repetitions, string concatenation is a bad thing to do when you need a massive number of concatenations. The reason for this is that strings are immutable. Python will make a new variable each time that you concatenate strings. Thus this approach is very heavy on memory and perfomance is much slower:"
    },
    {
      "metadata": {
        "trusted": false
      },
      "cell_type": "code",
      "source": "import time\nstart = time.time()\nmy_dna = 'A'\nfor i in range(100000):\n    my_dna += 'A' #do not do this\nend = time.time()\nprint('elapsed time:', (end - start) * 1000 , 'ms')",
      "execution_count": 15,
      "outputs": [
        {
          "name": "stdout",
          "output_type": "stream",
          "text": "elapsed time: 27.519941329956055 ms\n"
        }
      ]
    },
    {
      "metadata": {},
      "cell_type": "markdown",
      "source": "Now using the list approach:"
    },
    {
      "metadata": {
        "trusted": false
      },
      "cell_type": "code",
      "source": "import time\nstart = time.time()\nmy_dna = []\nfor i in range(100000):\n    my_dna.append('A')\n''.join(my_dna) #This line stringifies the list \nend = time.time()\nprint('elapsed time:', (end - start) * 1000 , 'ms')",
      "execution_count": 16,
      "outputs": [
        {
          "name": "stdout",
          "output_type": "stream",
          "text": "elapsed time: 18.935203552246094 ms\n"
        }
      ]
    },
    {
      "metadata": {},
      "cell_type": "markdown",
      "source": "As you can see, the second approach is considerably faster."
    },
    {
      "metadata": {},
      "cell_type": "markdown",
      "source": "## Tuples"
    },
    {
      "metadata": {},
      "cell_type": "markdown",
      "source": "Tuples are like lists but immutable. Like lists, tuples are ordered collections of objects. As they are immutable, tuples have less methods:"
    },
    {
      "metadata": {
        "trusted": false
      },
      "cell_type": "code",
      "source": "print(dir(tuple))",
      "execution_count": 17,
      "outputs": [
        {
          "name": "stdout",
          "output_type": "stream",
          "text": "['__add__', '__class__', '__contains__', '__delattr__', '__dir__', '__doc__', '__eq__', '__format__', '__ge__', '__getattribute__', '__getitem__', '__getnewargs__', '__gt__', '__hash__', '__init__', '__init_subclass__', '__iter__', '__le__', '__len__', '__lt__', '__mul__', '__ne__', '__new__', '__reduce__', '__reduce_ex__', '__repr__', '__rmul__', '__setattr__', '__sizeof__', '__str__', '__subclasshook__', 'count', 'index']\n"
        }
      ]
    },
    {
      "metadata": {},
      "cell_type": "markdown",
      "source": "Note that the only \"normal\" methods are count and index. Tuples are created using the () notation."
    },
    {
      "metadata": {
        "trusted": false
      },
      "cell_type": "code",
      "source": "my_tuple = ('DNA', 'Protein', 'RNA')",
      "execution_count": 18,
      "outputs": []
    },
    {
      "metadata": {},
      "cell_type": "markdown",
      "source": "Indexing en slicing is all fine: "
    },
    {
      "metadata": {
        "trusted": false
      },
      "cell_type": "code",
      "source": "print(my_tuple[1])\nprint(my_tuple[::-1]) #Note that a slice will always return the same datatype",
      "execution_count": 19,
      "outputs": [
        {
          "name": "stdout",
          "output_type": "stream",
          "text": "Protein\n('RNA', 'Protein', 'DNA')\n"
        }
      ]
    },
    {
      "metadata": {},
      "cell_type": "markdown",
      "source": "However, modification of a Tuple yields an error:"
    },
    {
      "metadata": {
        "trusted": false
      },
      "cell_type": "code",
      "source": "my_tuple[1] = 'Carbohydrate'",
      "execution_count": 20,
      "outputs": [
        {
          "ename": "TypeError",
          "evalue": "'tuple' object does not support item assignment",
          "traceback": [
            "\u001b[0;31m---------------------------------------------------------------------------\u001b[0m",
            "\u001b[0;31mTypeError\u001b[0m                                 Traceback (most recent call last)",
            "\u001b[0;32m<ipython-input-20-aba24bf93c38>\u001b[0m in \u001b[0;36m<module>\u001b[0;34m()\u001b[0m\n\u001b[0;32m----> 1\u001b[0;31m \u001b[0mmy_tuple\u001b[0m\u001b[0;34m[\u001b[0m\u001b[0;36m1\u001b[0m\u001b[0;34m]\u001b[0m \u001b[0;34m=\u001b[0m \u001b[0;34m'Carbohydrate'\u001b[0m\u001b[0;34m\u001b[0m\u001b[0m\n\u001b[0m",
            "\u001b[0;31mTypeError\u001b[0m: 'tuple' object does not support item assignment"
          ],
          "output_type": "error"
        }
      ]
    },
    {
      "metadata": {},
      "cell_type": "markdown",
      "source": "The use of tuples might seem obscure at first but later you will discover that they are very handy. The fact that they are immutable make them ideal as argument 'lists' for functions, to write data to databases and to use as keys in dictionaries (see later). The fact that tuples are immutable garuantees that your data will arrive safe and unmodified! "
    },
    {
      "metadata": {},
      "cell_type": "markdown",
      "source": "## Dictionaries"
    },
    {
      "metadata": {},
      "cell_type": "markdown",
      "source": "Dictionaries are tables of key/ value pairs. Unlike lists they hold associative data. It is only possible to get from a key to a value. Not the other way around. A dictionary is coded using the {} characters:"
    },
    {
      "metadata": {
        "trusted": false
      },
      "cell_type": "code",
      "source": "comp_bases = {'A': 'T', 'C':'G'}",
      "execution_count": null,
      "outputs": []
    },
    {
      "metadata": {},
      "cell_type": "markdown",
      "source": "You can access a value by providing the key:"
    },
    {
      "metadata": {
        "trusted": false
      },
      "cell_type": "code",
      "source": "print(comp_bases['A'])",
      "execution_count": null,
      "outputs": []
    },
    {
      "metadata": {},
      "cell_type": "markdown",
      "source": "To add items:"
    },
    {
      "metadata": {
        "trusted": false
      },
      "cell_type": "code",
      "source": "comp_bases['T'] = 'A' #this way\ncomp_bases.update({'G':'C'}) #or this way\nprint(comp_bases)",
      "execution_count": null,
      "outputs": []
    },
    {
      "metadata": {},
      "cell_type": "markdown",
      "source": "To delete items:"
    },
    {
      "metadata": {
        "trusted": false
      },
      "cell_type": "code",
      "source": "del comp_bases['A']\ndel comp_bases['T']\nprint(comp_bases)",
      "execution_count": null,
      "outputs": []
    },
    {
      "metadata": {},
      "cell_type": "markdown",
      "source": "Asking for a key that does not excists raises an error:"
    },
    {
      "metadata": {
        "trusted": false
      },
      "cell_type": "code",
      "source": "print(comp_bases['Q'])",
      "execution_count": null,
      "outputs": []
    },
    {
      "metadata": {},
      "cell_type": "markdown",
      "source": "You can prevent this using the dict.get() method: "
    },
    {
      "metadata": {
        "trusted": false
      },
      "cell_type": "code",
      "source": "print(comp_bases.get('Q')) #returns None if a key is not found and prevents an error",
      "execution_count": null,
      "outputs": []
    },
    {
      "metadata": {},
      "cell_type": "markdown",
      "source": "Keys need to be unique. Importantly, note that dictionaries lack order. It is not possible to have a normal dictionary ordered. Using the sorted function, you can get a sorted copy"
    },
    {
      "metadata": {
        "trusted": false
      },
      "cell_type": "code",
      "source": "codon_table = {'ttt': 'F', 'ttc': 'F', 'tta': 'L', 'ttg': 'L', 'tct': 'S', 'tcc': 'S', 'tca': 'S', 'tcg': 'S', 'tat': 'Y', 'tac': 'Y', 'taa': '*', 'tag': '*', 'tgt': 'C', 'tgc': 'C', 'tga': '*', 'tgg': 'W', 'ctt': 'L', 'ctc': 'L', 'cta': 'L', 'ctg': 'L', 'cct': 'P', 'ccc': 'P', 'cca': 'P', 'ccg': 'P', 'cat': 'H', 'cac': 'H', 'caa': 'Q', 'cag': 'Q', 'cgt': 'R', 'cgc': 'R', 'cga': 'R', 'cgg': 'R', 'att': 'I', 'atc': 'I', 'ata': 'I', 'atg': 'M', 'act': 'T', 'acc': 'T', 'aca': 'T', 'acg': 'T', 'aat': 'N', 'aac': 'N', 'aaa': 'K', 'aag': 'K', 'agt': 'S', 'agc': 'S', 'aga': 'R', 'agg': 'R', 'gtt': 'V', 'gtc': 'V', 'gta': 'V', 'gtg': 'V', 'gct': 'A', 'gcc': 'A', 'gca': 'A', 'gcg': 'A', 'gat': 'D', 'gac': 'D', 'gaa': 'E', 'gag': 'E', 'ggt': 'G', 'ggc': 'G', 'gga': 'G', 'ggg': 'G'}\nfor codon in sorted(codon_table):\n    print(codon, ':', codon_table[codon], end = ', ')",
      "execution_count": null,
      "outputs": []
    },
    {
      "metadata": {},
      "cell_type": "markdown",
      "source": "## Excercise:"
    },
    {
      "metadata": {},
      "cell_type": "markdown",
      "source": "Now we come to the final excersise: Code a program that will catch a DNA sequence from the user. You can get user input by:"
    },
    {
      "metadata": {
        "trusted": false
      },
      "cell_type": "code",
      "source": "dna_seq = input(\"please provide a seq: \")",
      "execution_count": 1,
      "outputs": [
        {
          "ename": "StdinNotImplementedError",
          "evalue": "raw_input was called, but this frontend does not support input requests.",
          "traceback": [
            "\u001b[0;31m---------------------------------------------------------------------------\u001b[0m",
            "\u001b[0;31mStdinNotImplementedError\u001b[0m                  Traceback (most recent call last)",
            "\u001b[0;32m<ipython-input-1-4d742ee09ac1>\u001b[0m in \u001b[0;36m<module>\u001b[0;34m()\u001b[0m\n\u001b[0;32m----> 1\u001b[0;31m \u001b[0mdna_seq\u001b[0m \u001b[0;34m=\u001b[0m \u001b[0minput\u001b[0m\u001b[0;34m(\u001b[0m\u001b[0;34m\"please provide a seq: \"\u001b[0m\u001b[0;34m)\u001b[0m\u001b[0;34m\u001b[0m\u001b[0m\n\u001b[0m",
            "\u001b[0;32m~/Documents/Hanze/Master_Ontwikkeling/Pre-informatica/PyEnv/lib/python3.6/site-packages/ipykernel/kernelbase.py\u001b[0m in \u001b[0;36mraw_input\u001b[0;34m(self, prompt)\u001b[0m\n\u001b[1;32m    697\u001b[0m         \u001b[0;32mif\u001b[0m \u001b[0;32mnot\u001b[0m \u001b[0mself\u001b[0m\u001b[0;34m.\u001b[0m\u001b[0m_allow_stdin\u001b[0m\u001b[0;34m:\u001b[0m\u001b[0;34m\u001b[0m\u001b[0m\n\u001b[1;32m    698\u001b[0m             raise StdinNotImplementedError(\n\u001b[0;32m--> 699\u001b[0;31m                 \u001b[0;34m\"raw_input was called, but this frontend does not support input requests.\"\u001b[0m\u001b[0;34m\u001b[0m\u001b[0m\n\u001b[0m\u001b[1;32m    700\u001b[0m             )\n\u001b[1;32m    701\u001b[0m         return self._input_request(str(prompt),\n",
            "\u001b[0;31mStdinNotImplementedError\u001b[0m: raw_input was called, but this frontend does not support input requests."
          ],
          "output_type": "error"
        }
      ]
    },
    {
      "metadata": {},
      "cell_type": "markdown",
      "source": "Now write code to print the following to the screen:\n\nThe original sequence in upper case\nThe reverse string in upper case\nThe complement string in upper case\nThe reverse-complement string in upper case.\n\nMake sure you use a stringified list instead of string concatenation. Also make use of a dictionary for complementary bases."
    },
    {
      "metadata": {},
      "cell_type": "markdown",
      "source": "## Solutions"
    },
    {
      "metadata": {},
      "cell_type": "markdown",
      "source": "Link with solution will be provided here"
    },
    {
      "metadata": {
        "trusted": false
      },
      "cell_type": "code",
      "source": "",
      "execution_count": null,
      "outputs": []
    }
  ],
  "metadata": {
    "kernelspec": {
      "name": "python3",
      "display_name": "Python 3",
      "language": "python"
    },
    "language_info": {
      "mimetype": "text/x-python",
      "nbconvert_exporter": "python",
      "name": "python",
      "file_extension": ".py",
      "version": "3.5.4",
      "pygments_lexer": "ipython3",
      "codemirror_mode": {
        "version": 3,
        "name": "ipython"
      }
    }
  },
  "nbformat": 4,
  "nbformat_minor": 2
}