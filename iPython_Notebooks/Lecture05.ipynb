{
  "cells": [
    {
      "metadata": {
        "collapsed": true
      },
      "cell_type": "markdown",
      "source": "# Lecture 05: A little bit of class"
    },
    {
      "metadata": {},
      "cell_type": "markdown",
      "source": "## Chapters\nChapter 8: A little bit of class: Abstracting Behavior and State  \nAuthor: Ronald Wedema"
    },
    {
      "metadata": {},
      "cell_type": "markdown",
      "source": "## Classes\nIn Python everything is an object and even without knowing it we have been using these\nobjects. We can recognize an object by the **dot** (**.**) notation that we have to use to get access to the functions and variables of an object. In object terminology a class function is called a method and a class variable is called an attribute.\n\nFor example, remember the string.upper() method? This is an example of calling the upper() method on the string object. We can see that we used the dot operator after the name of the object we want to use and that the method will work in the variables that are saved in the object (called the object state).\n\nIn general we can say that objects have a **state** (variables or **attributes** called in objects) and **behavior** (functions or **methods** calles in objects) that work on these variables).\n\nObjects are defined in so called **classes**. Which are the blueprint of the object to be created. Object can be called into live (object instantiation) by assigning this blueprint to a variable.\n\nThere are a few things that should be kept in mind when writing classes.\n \n- class names start with a capital letter and are camelcase\n- class definition start with the keyword class\n- After the class name there is a semicolon (:)\n\nLet's create a simple class definintion and call the object into life by assigning it to a variable.\n\n"
    },
    {
      "metadata": {
        "trusted": false
      },
      "cell_type": "code",
      "source": "class Firstobject:\n    objectVariable = 'This is a variable inside the object'\n\n\nmyFirstCreatedObject = Firstobject()\nprint(myFirstCreatedObject.objectVariable)",
      "execution_count": 1,
      "outputs": [
        {
          "name": "stdout",
          "output_type": "stream",
          "text": "This is a variable inside the object\n"
        }
      ]
    },
    {
      "metadata": {},
      "cell_type": "markdown",
      "source": "As we can see in the previous example, we access the object attribute (variable) by accessing it through the use of the dot (.). \nSo how is this any different than creating a function that returns a string?, well in the previous example we only added state to our object, but we can add behaviour aswell in the form of methods and this is where the power of **Object Oriented Programming** (OOP) lies. The combination of data and operations into a single package. If we just want to store data we could have used a list or a dictionary and if we would only like to perfom some action we could write a function, if on the other hand we would like to combine data and operations than we should think objects."
    },
    {
      "metadata": {
        "trusted": false
      },
      "cell_type": "code",
      "source": "class SecondObjectWithMethods:\n    objectVariable = 'This is a variable inside the object'\n\n    def objectMethod(self):\n        print(self.objectVariable)\n\n\nmySecondCreatedObject = SecondObjectWithMethods()\nmySecondCreatedObject.objectMethod()",
      "execution_count": 2,
      "outputs": [
        {
          "name": "stdout",
          "output_type": "stream",
          "text": "This is a variable inside the object\n"
        }
      ]
    },
    {
      "metadata": {},
      "cell_type": "markdown",
      "source": "In creating the object we see nothing special, just assign the class to a variable to bring the object into live. But what is that **self** argument doing in the `objectMethod` and again the **self** in the print statement when refering to the objectVariable (`self.objectVariable`)? \n\n**self** is a reference to the object created and is **always passed as the first argument of any object method** and this is how attributes of the object are kept local to that object. Instead of writing a function like: `def somefunction(): pass`, we now have to write the method like `def someObjectMethod(self)`. And when calling an attribute in the object we have to use self to acces it. This ensures that even when the method has finished (and all variables are removed by the garbage collector) the attribute still lives in on the object level and is accessible.\n\nThe strange thing is we do not need to pass self as an argument from outside the object. Look at the previous example and note that when the object is created we call the objectMethod using the dot notation and we did not pass self as the first argument. This is because the Python interpreter does this for you.\n\nThe same goes for calling a method from another method in the object, we have to use the self reference to point to the method, as is shown in the next example."
    },
    {
      "metadata": {
        "trusted": false
      },
      "cell_type": "code",
      "source": "class MethodCalling:\n    def method_one(self):\n        print('Inside method_one')\n    \n    def method_two(self):\n        self.method_one()\n\n\nObjectMethodCalling = MethodCalling()\nObjectMethodCalling.method_two()",
      "execution_count": 3,
      "outputs": [
        {
          "name": "stdout",
          "output_type": "stream",
          "text": "Inside method_one\n"
        }
      ]
    },
    {
      "metadata": {},
      "cell_type": "markdown",
      "source": "What happens if we create multiple objects of the same type (having the same class definition)."
    },
    {
      "metadata": {
        "trusted": false
      },
      "cell_type": "code",
      "source": "first = Firstobject()\nsecond = Firstobject()\nthirth = Firstobject()\n\nprint(first.objectVariable)\nprint(second.objectVariable)\nprint(thirth.objectVariable)",
      "execution_count": 4,
      "outputs": [
        {
          "name": "stdout",
          "output_type": "stream",
          "text": "This is a variable inside the object\nThis is a variable inside the object\nThis is a variable inside the object\n"
        }
      ]
    },
    {
      "metadata": {},
      "cell_type": "markdown",
      "source": "As expected each object contains exactly the same attribute. However there is something going on here, have a look at the example below and try to find out what has happend."
    },
    {
      "metadata": {
        "trusted": false
      },
      "cell_type": "code",
      "source": "first.objectVariable = 'Different string'\nprint(first.objectVariable)\nprint(second.objectVariable)\n\nFirstobject.objectVariable = 'Yet another different string'\nprint(first.objectVariable)\nprint(second.objectVariable)",
      "execution_count": 5,
      "outputs": [
        {
          "name": "stdout",
          "output_type": "stream",
          "text": "Different string\nThis is a variable inside the object\nDifferent string\nYet another different string\n"
        }
      ]
    },
    {
      "metadata": {},
      "cell_type": "markdown",
      "source": "TODO: explain namespace, class attributes vs instance attributes!"
    },
    {
      "metadata": {},
      "cell_type": "markdown",
      "source": "As we can see in the previous example there are quite a lot of (funny looking) methods we get for free. These methods are for you to implement and change default behaviour or just leave them as is. We will discuss a few handy methods that you should know of. Using these methods with the double underscore at the front and back of the method name is called **hooking**, and we are hooking (and overwritting) into the existing Python methods."
    },
    {
      "metadata": {},
      "cell_type": "markdown",
      "source": "## Inheritance\nPython objects can get methods from other objects by inheritance and by default every created object in Python inherits methods from the generic Python Object.\nWe can see this when we create an empty object and use `dir()` to show which methods and attributes are available."
    },
    {
      "metadata": {
        "trusted": false
      },
      "cell_type": "code",
      "source": "class EmptyObject:\n    pass\n\nNothingInHere = EmptyObject()\ndir(NothingInHere)",
      "execution_count": 6,
      "outputs": [
        {
          "data": {
            "text/plain": "['__class__',\n '__delattr__',\n '__dict__',\n '__dir__',\n '__doc__',\n '__eq__',\n '__format__',\n '__ge__',\n '__getattribute__',\n '__gt__',\n '__hash__',\n '__init__',\n '__init_subclass__',\n '__le__',\n '__lt__',\n '__module__',\n '__ne__',\n '__new__',\n '__reduce__',\n '__reduce_ex__',\n '__repr__',\n '__setattr__',\n '__sizeof__',\n '__str__',\n '__subclasshook__',\n '__weakref__']"
          },
          "execution_count": 6,
          "metadata": {},
          "output_type": "execute_result"
        }
      ]
    },
    {
      "metadata": {},
      "cell_type": "markdown",
      "source": "When you want to inherit the methods from another class you simply pass the class name to inherit from as argument to the new class definition. The previous example could also be written as in the  next example, but beacuse every class inherits by default from thePythin generic Object we omitted it in the previous example,"
    },
    {
      "metadata": {
        "trusted": false
      },
      "cell_type": "code",
      "source": "class EmptyObject(object):\n    pass\n\nStillNothingInHere = EmptyObject()\ndir(StillNothingInHere)",
      "execution_count": 7,
      "outputs": [
        {
          "data": {
            "text/plain": "['__class__',\n '__delattr__',\n '__dict__',\n '__dir__',\n '__doc__',\n '__eq__',\n '__format__',\n '__ge__',\n '__getattribute__',\n '__gt__',\n '__hash__',\n '__init__',\n '__init_subclass__',\n '__le__',\n '__lt__',\n '__module__',\n '__ne__',\n '__new__',\n '__reduce__',\n '__reduce_ex__',\n '__repr__',\n '__setattr__',\n '__sizeof__',\n '__str__',\n '__subclasshook__',\n '__weakref__']"
          },
          "execution_count": 7,
          "metadata": {},
          "output_type": "execute_result"
        }
      ]
    },
    {
      "metadata": {},
      "cell_type": "markdown",
      "source": "As we can see in the previous example there are quite a lot of (funny looking) methods we get for free. These methods are for you to implement and change default behaviour or just leave them as is. We will discuss a few handy methods that you should know of. Using these methods with the double underscore at the front and back of the method name is called **hooking**, and we are hooking (and overwritting) into the existing Python methods."
    },
    {
      "metadata": {},
      "cell_type": "markdown",
      "source": "### __init__\nThe first hook we use many times is the `__init__` method, this hook lets you initialise an object with a different state. The `__init__` method is the first thing that is called when an object is instantiated, and any arguments passed to the object are passed to the __init__ method."
    },
    {
      "metadata": {
        "trusted": false
      },
      "cell_type": "code",
      "source": "class InitTest():\n    def __init__(self, x, y):\n        self.x = x\n        self.y = y\n        self.added = self.x + self.y\n\ninit1 = InitTest(5,5)\nprint(init1.added)\ninit2 = InitTest(10,10)\nprint(init2.added)\ninit3 = InitTest()",
      "execution_count": 8,
      "outputs": [
        {
          "name": "stdout",
          "output_type": "stream",
          "text": "10\n20\n"
        },
        {
          "ename": "TypeError",
          "evalue": "__init__() missing 2 required positional arguments: 'x' and 'y'",
          "traceback": [
            "\u001b[0;31m---------------------------------------------------------------------------\u001b[0m",
            "\u001b[0;31mTypeError\u001b[0m                                 Traceback (most recent call last)",
            "\u001b[0;32m<ipython-input-8-81bde32113cb>\u001b[0m in \u001b[0;36m<module>\u001b[0;34m()\u001b[0m\n\u001b[1;32m      9\u001b[0m \u001b[0minit2\u001b[0m \u001b[0;34m=\u001b[0m \u001b[0mInitTest\u001b[0m\u001b[0;34m(\u001b[0m\u001b[0;36m10\u001b[0m\u001b[0;34m,\u001b[0m\u001b[0;36m10\u001b[0m\u001b[0;34m)\u001b[0m\u001b[0;34m\u001b[0m\u001b[0m\n\u001b[1;32m     10\u001b[0m \u001b[0mprint\u001b[0m\u001b[0;34m(\u001b[0m\u001b[0minit2\u001b[0m\u001b[0;34m.\u001b[0m\u001b[0madded\u001b[0m\u001b[0;34m)\u001b[0m\u001b[0;34m\u001b[0m\u001b[0m\n\u001b[0;32m---> 11\u001b[0;31m \u001b[0minit3\u001b[0m \u001b[0;34m=\u001b[0m \u001b[0mInitTest\u001b[0m\u001b[0;34m(\u001b[0m\u001b[0;34m)\u001b[0m\u001b[0;34m\u001b[0m\u001b[0m\n\u001b[0m",
            "\u001b[0;31mTypeError\u001b[0m: __init__() missing 2 required positional arguments: 'x' and 'y'"
          ],
          "output_type": "error"
        }
      ]
    },
    {
      "metadata": {},
      "cell_type": "markdown",
      "source": "We see that the first to object have the same `added` attribute, but the contect is different because of how we instantiatated the objects with the `__init__` method. If we do not provide the manditory arguments, we get an TypeError specifying we need to provide the two required positional arguments. Here we can also see that arguments passed to the object are passed to `__init__`."
    },
    {
      "metadata": {},
      "cell_type": "markdown",
      "source": "### repr\nAnother cool hook is the __repr__ hook, this hook lets you change how an object is represented. The __repr__ method is called when you print an object. By default printing an object gives you an unique identifier that actually links the object to a unique memory location where the object 'lives'. This is not always that informative and implementing this hook to give a better representation should always be done. Lets first see what happens if we do not change the default behaviour of the __repr__ method and that change it to something that is a bit more informative."
    },
    {
      "metadata": {
        "trusted": false
      },
      "cell_type": "code",
      "source": "class ReprTest:\n    def __init__(self, x):\n        self.x = x\n\nclass ReprTestOverwrite:\n    def __init__(self,x):\n        self.x = x\n        \n    def __repr__(self):\n        return (str(self.x))\n        \ndefaultRepr = ReprTest(5)\nprint(defaultRepr)\n\nimplementedRepr = ReprTestOverwrite(5)\nprint(implementedRepr)",
      "execution_count": 9,
      "outputs": [
        {
          "name": "stdout",
          "output_type": "stream",
          "text": "<__main__.ReprTest object at 0x10f67ab70>\n5\n"
        }
      ]
    },
    {
      "metadata": {},
      "cell_type": "markdown",
      "source": "We can see that if we do not change the __repr__ method we get the uniq id pointing to the memory location. In the implemented version we just return an string representation of the single attribute of the object, ofcourse the __repr__ method can be made as informative as needed by returning an overview of what is inside the object."
    },
    {
      "metadata": {},
      "cell_type": "markdown",
      "source": "**TODO**:\nadd more inheritance examples!"
    },
    {
      "metadata": {},
      "cell_type": "markdown",
      "source": "## Exercise\n\nLets bring all our new knowledge into practise and try to create a DNA manupilation class. Objects of this class should have the following properties.\n\n- A DNA sequence should be saved\n- The DNA sequence should be checked if it is valid DNA (having only A,T,C or G)\n- A method should exist that reverse complements the DNA sequence\n- Create a method that will transcribe the DNA to RNA\n- Create a method that will translate the RNA to Protein\n- When the object is printed it should show the DNA sequence and the reverse complement\n- Object should be created with passing an DNA sequence.\n\nShow that your class works by creating three different DNA objects and call the reverse complement method and print the objects."
    },
    {
      "metadata": {},
      "cell_type": "markdown",
      "source": "### Exercise solution\nSolutions to the exercise can be found in the 05_dna_convert_as_Object.py file"
    }
  ],
  "metadata": {
    "kernelspec": {
      "name": "python2",
      "display_name": "Python 2",
      "language": "python"
    },
    "language_info": {
      "mimetype": "text/x-python",
      "nbconvert_exporter": "python",
      "name": "python",
      "pygments_lexer": "ipython2",
      "version": "2.7.15",
      "file_extension": ".py",
      "codemirror_mode": {
        "version": 2,
        "name": "ipython"
      }
    }
  },
  "nbformat": 4,
  "nbformat_minor": 1
}