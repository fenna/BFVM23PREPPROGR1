{
 "cells": [
  {
   "cell_type": "markdown",
   "metadata": {
    "slideshow": {
     "slide_type": "slide"
    }
   },
   "source": [
    "# Introduction\n",
    "## Programming 0"
   ]
  },
  {
   "cell_type": "markdown",
   "metadata": {
    "slideshow": {
     "slide_type": "slide"
    }
   },
   "source": [
    "Ronald Wedema  \n",
    "Lettercode: WERD  \n",
    "Workdays: every day  \n",
    "Reachable: during office hours by mail  \n",
    "E-mail: r.wedema@pl.hanze.nl  \n",
    "\n",
    "Or just walk by: office: D1.12\n"
   ]
  },
  {
   "cell_type": "markdown",
   "metadata": {
    "slideshow": {
     "slide_type": "slide"
    }
   },
   "source": [
    "## What is programming?  \n",
    "\n",
    "- Telling a computer what to do\n",
    "- Learning a language\n",
    "- Lots of computations/calculations \n",
    "- Thinking of how to break down complex problems into small tasks\n",
    "- making many, many, many mistakes "
   ]
  },
  {
   "cell_type": "markdown",
   "metadata": {
    "slideshow": {
     "slide_type": "slide"
    }
   },
   "source": [
    "## What will you learn in programming 0\n",
    "\n",
    "- use/convert different datatypes\n",
    "- use the Python flow control logic\n",
    "- implement functions, make/use of modules and write text files\n",
    "- write and implement regular expressions using Python regex syntax\n",
    "- implement exceptions handling\n",
    "- write, document, test and maintain software products\n",
    "- translate a given problem into a robust and flexible objectoriented software design"
   ]
  },
  {
   "cell_type": "markdown",
   "metadata": {
    "slideshow": {
     "slide_type": "slide"
    }
   },
   "source": [
    "## and further...\n",
    "\n",
    "- Practise till your vingers bleed ;-)\n",
    "- ask questions\n",
    "- Perserve, beginning programming is the hardest part\n",
    "- Give feedback to others\n",
    "- Make errors (and solve them)\n",
    "- Learn\n",
    "- And have fun!\n",
    "\n"
   ]
  },
  {
   "cell_type": "markdown",
   "metadata": {
    "slideshow": {
     "slide_type": "slide"
    }
   },
   "source": [
    "![states of a programmer](figs/statesofprogrammer.jpg)"
   ]
  }
 ],
 "metadata": {
  "celltoolbar": "Slideshow",
  "kernelspec": {
   "display_name": "Python 3",
   "language": "python",
   "name": "python3"
  },
  "language_info": {
   "codemirror_mode": {
    "name": "ipython",
    "version": 3
   },
   "file_extension": ".py",
   "mimetype": "text/x-python",
   "name": "python",
   "nbconvert_exporter": "python",
   "pygments_lexer": "ipython3",
   "version": "3.7.4"
  }
 },
 "nbformat": 4,
 "nbformat_minor": 4
}
