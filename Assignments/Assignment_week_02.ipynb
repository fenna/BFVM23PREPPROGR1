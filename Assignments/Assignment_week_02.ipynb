{
 "cells": [
  {
   "cell_type": "markdown",
   "metadata": {},
   "source": [
    "# Week 02 Assignment genes expressed in the brain\n",
    "\n",
    "For the assignment of week 2 we will continue to work on the expression data from the human brain. The main goal is to analyze gene expression data from two different regions and identifying probes that are associated with specific regions. We can do this by calculating average expressions, identifying the best probes for each gene, filtering probes based on expression values in different regions, and finally reporting the results of the analysis.\n",
    "\n",
    "Learning outcomes:\n",
    "- know how to work with ordered data datatypes: list, tuple, set (dictionaries)\n",
    "- can use list comprehensions \n",
    "\n",
    "The assignment for this week is again divided up in several steps (some of which are overlapping with the previous assignment). The general layout of what the program should do for this week is:\n",
    "- Read the data\n",
    "- Prepare the data\n",
    "- Process the data\n",
    "- report on results of the analysis\n",
    "\n",
    "By now you will be familiar with the reading and preparing part of the data and we will add research questions for you to answer using Python and the new learning outcomes of this week.\n",
    "\n",
    "<div class=\"alert alert-info\">\n",
    "    **Note:** For this week you should not copy and paste your code for every step and add the appropriate code for the next step. Instead, you are going to write all code in just one code cell.\n",
    "</div>\n",
    "\n",
    "## Research questions/outcome\n",
    "1. The number of probes is larger than the number of genes. This is because there is a redundancy in the number of probes per gene. Select per gene the probe that has the highest average expression across the samples.\n",
    "2. Each probe_id has measures of 946 samples (locations). The metadata of the location can be found in the file `SampleAnnot.csv`, where each row (946 in total) corresponds with the sample (column) order in the `MicroarrayExpression.csv.` When comparing the \"lateral hypothalamic area, mammillary region\" and \"posterior hypothalamic area\" report what the unique probes per region are and also the probes that are shared between the two brain regions. Take only the probes that have an expression of greater or equal to 15. The structure acronyms are '\"LHM\" and '\"PHA'\" and can be found in the `SampleAnnot.csv` file.\n",
    "\n",
    "There are some coding requirements for this assignment and you should make sure that you use following techniques:\n",
    " - use a dictionary structure to store the probes per gene\n",
    " - create and use a listcomprehension (where appropriate)\n",
    " - use the methods of the set datatype to get the difference and shared probe ids between the two brain regions (check the https://docs.python.org/ about sets)\n",
    "\n",
    "\n",
    "Tips:\n",
    "- the number of probes per gene can be found when looking at the first and third column of the `Probes.csv` file. Make sure to skip the header. \n"
   ]
  },
  {
   "cell_type": "code",
   "execution_count": null,
   "metadata": {
    "vscode": {
     "languageId": "plaintext"
    }
   },
   "outputs": [],
   "source": [
    "\"\"\"\n",
    "Expected outcome\n",
    "\n",
    "Probes shared among regions lateral hypothalamic area, mammillary region and posterior hypothalamic area\n",
    "'1070089', '1020681', '1030946', '1016513', '1016649', '1059084', '1010881', \n",
    "'1063255', '1070086', '1014256', '1052463', '1025352', '1061573', '1070319', \n",
    "'1026787', '1059768', '1052214', '1050487', '1012449', '1047077', '1067606', \n",
    "'1070325', '1010358', '1020181', '1064858', '1032619', '1037294', '1060007', \n",
    "'1023782', '1049170', '1012544', '1028787', '1032860', '1063924', '1051987', \n",
    "'1025388', '1059652', '1011186', '1044443', '1065269', '1022439', '1068549', \n",
    "'1071058', '1070418', '1054481', '1018242', '1013992', '1029329', '1070545', \n",
    "'1054004', '1010528', '1021844', '1012031', '1070126', '1070083', '1070402', \n",
    "'1060237', '1064562', '1019316', '1055417', '1038805', '1014720', '1031691', \n",
    "'1059437', '1038771', '1067246', '1059432', '1051892', '1046515', '1033935', \n",
    "'1047449', '1011290', '1036892', '1051271', '1056447', '1032011', '1019312', \n",
    "'1017544', '1038329', '1037328', '1058849', '1010538', '1017932', '1019145'\n",
    "\n",
    "Probes unique in lateral hypothalamic area, mammillary region\n",
    "'1011847', '1049781', '1069841', '1050553', '1060239', '1062695', '1053768', '1065718'\n",
    "\n",
    "Probes unique in posterior hypothalamic area\n",
    "'1015889', '1052494', '1010461', '1054159', '1070709', '1023535', '1026328', '1046623', \n",
    "'1022359', '1051897', '1062126', '1050548', '1070807', '1012665', '1052078', '1070085', \n",
    "'1025870', '1016361', '1057541', '1033084', '1058619', '1058945'\n",
    "\"\"\""
   ]
  },
  {
   "cell_type": "markdown",
   "metadata": {},
   "source": [
    "## Bonus\n",
    "\n",
    "This bonus part is optional. Can you improve the code by using functions? "
   ]
  }
 ],
 "metadata": {
  "kernelspec": {
   "display_name": "Python 3 (ipykernel)",
   "language": "python",
   "name": "python3"
  },
  "language_info": {
   "codemirror_mode": {
    "name": "ipython",
    "version": 3
   },
   "file_extension": ".py",
   "mimetype": "text/x-python",
   "name": "python",
   "nbconvert_exporter": "python",
   "pygments_lexer": "ipython3",
   "version": "3.10.4"
  },
  "vscode": {
   "interpreter": {
    "hash": "b0fa6594d8f4cbf19f97940f81e996739fb7646882a419484c72d19e05852a7e"
   }
  }
 },
 "nbformat": 4,
 "nbformat_minor": 2
}
