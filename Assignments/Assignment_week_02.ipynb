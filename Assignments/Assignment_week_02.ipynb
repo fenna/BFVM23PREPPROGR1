{
 "cells": [
  {
   "cell_type": "markdown",
   "metadata": {},
   "source": [
    "# Week 02 Assignment genes expressed in the brain\n",
    "\n",
    "For the assignment of week 2 we will continue to work on the expression data from the human brain. The main goal is to analyze gene expression data from two different regions and identifying probes that are associated with specific regions. We can do this by calculating average expressions, identifying the best probes for each gene, filtering probes based on expression values in different regions, and finally reporting the results of the analysis.\n",
    "\n",
    "Learning outcomes:\n",
    "- know how to work with ordered data datatypes: list, tuple, set (dictionaries)\n",
    "- can use list comprehensions \n",
    "\n",
    "The assignment for this week is again divided up in several steps (some of which are overlapping with the previous assignment). The general layout of what the program should do for this week is:\n",
    "- Read the data\n",
    "- Prepare the data\n",
    "- Process the data\n",
    "- report on results of the analysis\n",
    "\n",
    "By now you will be familiar with the reading and preparing part of the data and we will add research questions for you to answer using Python and the new learning outcomes of this week.\n",
    "\n",
    "<div class=\"alert alert-info\">\n",
    "    **Note:** For this week you should not copy and paste your code for every step and add the appropriate code for the next step. Instead, you are going to write all code in just one code cell.\n",
    "</div>\n",
    "\n",
    "## Research questions/outcome\n",
    "1. The number of probes is larger than the number of genes. This is because there is a redundancy in the number of probes per gene. Select per gene the probe that has the highest average expression across the samples.\n",
    "2. Each probe_id has measures of 946 samples (locations). The metadata of the location can be found in the file `SampleAnnot.csv`, where each row (946 in total) corresponds with the sample (column) order in the `MicroarrayExpression.csv.` When comparing the \"lateral hypothalamic area, mammillary region\" and \"posterior hypothalamic area\" report what the unique probes per region are and also the probes that are shared between the two brain regions. Take only the probes that have an expression of greater or equal to 15. The structure acronyms are '\"LHM\" and '\"PHA'\" and can be found in the `SampleAnnot.csv` file.\n",
    "\n",
    "There are some coding requirements for this assignment and you should make sure that you use following techniques:\n",
    " - use a dictionary structure to store the probes per gene\n",
    " - create and use a listcomprehension (where appropriate)\n",
    " - use the methods of the set datatype to get the difference and shared probe ids between the two brain regions (check the https://docs.python.org/ about sets)\n",
    "\n",
    "\n",
    "Tips:\n",
    "- the number of probes per gene can be found when looking at the first and third column of the `Probes.csv` file. Make sure to skip the header. \n"
   ]
  },
  {
   "cell_type": "markdown",
   "metadata": {},
   "source": [
    "## Bonus\n",
    "\n",
    "This bonus part is optional. Can you improve the code by using functions? "
   ]
  }
 ],
 "metadata": {
  "kernelspec": {
   "display_name": "Python 3 (ipykernel)",
   "language": "python",
   "name": "python3"
  },
  "language_info": {
   "codemirror_mode": {
    "name": "ipython",
    "version": 3
   },
   "file_extension": ".py",
   "mimetype": "text/x-python",
   "name": "python",
   "nbconvert_exporter": "python",
   "pygments_lexer": "ipython3",
   "version": "3.10.4"
  },
  "vscode": {
   "interpreter": {
    "hash": "b0fa6594d8f4cbf19f97940f81e996739fb7646882a419484c72d19e05852a7e"
   }
  }
 },
 "nbformat": 4,
 "nbformat_minor": 2
}
