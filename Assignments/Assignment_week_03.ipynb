{
 "cells": [
  {
   "cell_type": "markdown",
   "metadata": {},
   "source": [
    "# Week 03 Assignment genes expressed in the brain\n",
    "\n",
    "This week we will not introduce new research questions for you to try to solve using Python. Instead, we are going to focus on writing maintanable and readable code.\n",
    "\n",
    "We have written our code as one big script (until now) defining any files we needed hardcoded inside our program and thus not being able to control the program from the outside. From this week forward all code should live inside functions and the functions should be controlled by using their arguments. In this way we can reuse code and even make our own (importable) modules that have certain functionality grouped.\n",
    "\n",
    "Besided grouping code in functions (making it more maintainable), the code should also be readable, for this we are going to adhere to the [PEP8 styling rules](https://peps.python.org/pep-0008/).\n",
    "\n",
    "Finally, our program should be started from the commandline using arguments that determine how our program works. This in contrast to writing it hardcoded. For this week, this will mean that the files that are needed and the cutoff value should be removed from the script itself and instead have to be passed as arguments when starting the script.\n",
    "\n",
    "### Learning outcomes:\n",
    "- know how to define and use functions; including arguments (default, **args, **kwargs) and return\n",
    "- Can use commandline arguments\n",
    "- Can write and import modules\n",
    "- Uses PEP8 standard correctly\n",
    "\n",
    "### Coding requirements:\n",
    "- write a Python script ending on `.py` (not a notebook), that can be called from the commandline while giving it all necessary information (files and cutoff)\n",
    "- when designing functions: keep them simple and have them (preferentially) do only one thing. What a function does should also be clear from the name. \n",
    "- Every function should have pydoc (see PEP8)\n",
    "- Give at least one function a default argument\n",
    "- Your program should follow the PEP8 standard. On our system you can use the commandline tool `pylint` to check this. Run it in the terminal by typing: `pylint name_of_your_program.py`. Visual Code has extensions (pylint, Flake8) that allow you to see the PEP8 warnings inside the IDE.\n",
    "- Place at least one function inside a different module and import it.\n"
   ]
  }
 ],
 "metadata": {
  "kernelspec": {
   "display_name": "Python 3 (ipykernel)",
   "language": "python",
   "name": "python3"
  },
  "language_info": {
   "codemirror_mode": {
    "name": "ipython",
    "version": 3
   },
   "file_extension": ".py",
   "mimetype": "text/x-python",
   "name": "python",
   "nbconvert_exporter": "python",
   "pygments_lexer": "ipython3",
   "version": "3.10.4"
  },
  "vscode": {
   "interpreter": {
    "hash": "b0fa6594d8f4cbf19f97940f81e996739fb7646882a419484c72d19e05852a7e"
   }
  }
 },
 "nbformat": 4,
 "nbformat_minor": 2
}
