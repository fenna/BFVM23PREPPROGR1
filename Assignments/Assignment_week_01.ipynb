{
 "cells": [
  {
   "cell_type": "markdown",
   "metadata": {},
   "source": [
    "# Week 01 Assignment genes expressed in the brain\n",
    "\n",
    "In the programmaning 0 course you will learn to develop Python program using basic Python concepts. By the end of this week you should be able to translate a simple datadriven question into a working Python program. \n",
    "\n",
    "Learning outcomes of this week are:\n",
    "- can use the Linux shell to navigate and do simple text processing\n",
    "- use the correct Python data types to store data\n",
    "- now how to use flow control\n",
    "- can read a text file into the Python environment\n",
    "\n",
    "\n",
    "For this course we will use data that was made available through the Allen Institute for Brain Science. For the assignment of week 1 we are going to have a look at microarray expression data taken from multiple locations (samples) in the brain of one individual. Please have a look at the experimental setup using the following link: [background reading](https://help.brain-map.org/download/attachments/2818165/WholeBrainMicroarray_WhitePaper.pdf?version=1&modificationDate=1433804560874&api=v2)\n",
    "\n",
    "The end goal of this week is a program that will read a file containing measured expression values from probes capturing active genes in the human brain. From all active genes in the brain we would like to know:\n",
    "- which gene has the highest maximum expression over all samples measured\n",
    "- which gene has the highest average expression over all samples \n",
    "\n",
    "\n",
    "> NOTE: All assignments should be done on our Linux systems, this to ensure that you have familiarized yourself with our systems. This prepares you for the rest of the courses of the master program.\n",
    "\n",
    "\n",
    "The assignment consists of 5 parts:\n",
    "- [Part 1: Getting the data](#Part-1:-Getting-the-data)\n",
    "- [Part 2: Reading the data](#Part-2:-Read-the-data)\n",
    "- [Part 3: Preparing the data](#Part-3:-Prepare-the-data)\n",
    "- [Part 4: Processing the data](#Part-4:-Process-the-data)\n",
    "- [Part 5: Integrating other datasources](#Part-5:-Integrate-other-sources-of-information)\n"
   ]
  },
  {
   "cell_type": "markdown",
   "metadata": {},
   "source": [
    "## Part 1: Getting the data\n",
    "Please download the zip file `H0351.2001` from https://human.brain-map.org/static/download   \n",
    "Unpack this file and place the content of the unpacked folder inside the `Data` folder of this repository."
   ]
  },
  {
   "cell_type": "markdown",
   "metadata": {},
   "source": [
    "## Part 1.1: Inspecting the data using the Linux command line\n",
    "Using the Linux terminal (top left corner -> Terminal Emulator or task bar at the bottom of your screen 2nd Icon):\n",
    "- navigate to the location where you placed the unpacked folder\n",
    "- read the `Readme.txt` and describe in your own words what the content is of the following files:\n",
    "    - `MicroarrayExpression.csv`\n",
    "    - `Probes.csv`\n",
    "\n",
    "For each file listed above, show the first 5 lines to the screen. Is it clear from the `Readme.txt` what you are looking at?\n",
    "\n",
    "> Tip: on our Debian linux systems the shell is `bash` and a quick google search with the term `bash commands` will show you many sites explaining the most used bash commands."
   ]
  },
  {
   "cell_type": "markdown",
   "metadata": {},
   "source": [
    "## Part 2: Read the data\n",
    "Write Python code that will read the `MicroarrayExpression.csv` file. \n",
    "\n",
    "`Print` the *first* line to the screen\n",
    "\n",
    "> Note: It is bad habbit to completely read a file into memory as this will keep many MB's or even GB's of space occupied. Instead, read a file line by line and process the content as each line is beeing read."
   ]
  },
  {
   "cell_type": "code",
   "execution_count": 2,
   "metadata": {},
   "outputs": [],
   "source": [
    "# YOUR CODE HERE\n"
   ]
  },
  {
   "cell_type": "markdown",
   "metadata": {},
   "source": [
    "## Part 3: Prepare the data\n",
    "Each line consists of 2 seperate parts, the first element of each line is the probe identifier and all other elements are measured microaray expression levels. For this part we want to have to **probe ID** and the **rest** seperated from each other and stored in **two variables**.\n",
    "\n",
    "Add the Python code that should be able to do so in the code block below.\n",
    "Again verify that the output is correct by printing the first line to the screen. Limit the number of expression values printed to screen to 10"
   ]
  },
  {
   "cell_type": "code",
   "execution_count": null,
   "metadata": {},
   "outputs": [],
   "source": [
    "# YOUR CODE HERE\n"
   ]
  },
  {
   "cell_type": "markdown",
   "metadata": {},
   "source": [
    "## Part 3.1: More data preperation\n",
    "To calculate the average and maximum of each probe, we first have to convert each expression to a suitable Python datatype.\n",
    "\n",
    "Implement the code that will do this in the code block below. Again just as above print from the first line the probe identifier and the first 10 (converted) measured expression values"
   ]
  },
  {
   "cell_type": "code",
   "execution_count": null,
   "metadata": {},
   "outputs": [],
   "source": [
    "# YOUR CODE HERE\n"
   ]
  },
  {
   "cell_type": "markdown",
   "metadata": {},
   "source": [
    "## Part 4: Process the data\n",
    "For each probe we would like to calculate the maximum value and the average value. Incorporate the Python code that will calculate these two values for every probe.\n",
    "\n",
    "Print from the first line the probe identifier and the calculated maximum and average expression value. Round the expression values to 3 decimal places."
   ]
  },
  {
   "cell_type": "code",
   "execution_count": null,
   "metadata": {},
   "outputs": [],
   "source": [
    "# YOUR CODE HERE\n"
   ]
  },
  {
   "cell_type": "markdown",
   "metadata": {},
   "source": [
    "## Part 4.1: Report on analysis\n",
    "Report on (print to screen):\n",
    "- the probe with the highest maximum expression value measures over all samples.\n",
    "- the probe with the highest average expression value over all samples."
   ]
  },
  {
   "cell_type": "code",
   "execution_count": 4,
   "metadata": {},
   "outputs": [],
   "source": [
    "# YOUR CODE HERE\n"
   ]
  },
  {
   "cell_type": "markdown",
   "metadata": {},
   "source": [
    "## Part 5: Integrate other sources of information\n",
    "\n",
    "By using the other available csv files. Can you report the **gene_name** of the probes having the highest overall and highest average value?"
   ]
  },
  {
   "cell_type": "code",
   "execution_count": 3,
   "metadata": {},
   "outputs": [],
   "source": [
    "# YOUR CODE HERE\n"
   ]
  }
 ],
 "metadata": {
  "kernelspec": {
   "display_name": "Python 3.9.10 64-bit",
   "language": "python",
   "name": "python3"
  },
  "language_info": {
   "codemirror_mode": {
    "name": "ipython",
    "version": 3
   },
   "file_extension": ".py",
   "mimetype": "text/x-python",
   "name": "python",
   "nbconvert_exporter": "python",
   "pygments_lexer": "ipython3",
   "version": "3.9.10"
  },
  "orig_nbformat": 4,
  "vscode": {
   "interpreter": {
    "hash": "b0fa6594d8f4cbf19f97940f81e996739fb7646882a419484c72d19e05852a7e"
   }
  }
 },
 "nbformat": 4,
 "nbformat_minor": 2
}
