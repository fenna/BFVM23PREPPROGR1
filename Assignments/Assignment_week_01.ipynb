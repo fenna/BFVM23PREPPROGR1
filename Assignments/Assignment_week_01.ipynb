{
 "cells": [
  {
   "cell_type": "markdown",
   "metadata": {},
   "source": [
    "# Week 01 Assignment genes expressed in the brain\n",
    "\n",
    "Welcome to the preparatory programming course! Here, you'll learn to develop software programs using the basics of Python. You'll explore Python's built-in functions to tackle assignments, giving you a solid grasp of how data manipulation works right from the ground up. Forget about fancy tools like pandas and numpy in this course – we're sticking to the simple yet powerful features of Python.\n",
    "\n",
    "By diving into these foundational Python concepts, you'll sharpen your skills for solving problems with logical thinking and turning those solutions into functional code. These skills are fundamental building blocks of programming, and you'll be mastering them in the coming 7 weeks. This first week we will look into reading and manipulating files. \n",
    "\n",
    "By the end of this week you should be able to translate a simple datadriven question into a working Python program. \n",
    "\n",
    "Learning outcomes of this week are:\n",
    "- can use the Linux shell to navigate and do simple text processing\n",
    "- use the correct Python data types to store data\n",
    "- know how to use flow control\n",
    "- can read a text file into the Python environment\n",
    "- can use f-string formatting\n",
    "\n",
    "\n",
    "For this course we will use data that was made available through the Allen Institute for Brain Science. For the assignment of week 1 we are going to have a look at microarray expression data taken from multiple locations (samples) in the brain of one individual. Please have a look at the experimental setup using the following link: [background reading](https://help.brain-map.org/download/attachments/2818165/WholeBrainMicroarray_WhitePaper.pdf?version=1&modificationDate=1433804560874&api=v2)\n",
    "\n",
    "If you are not familiar with microarray expression data and how it is generated you might want to watch this [background video](https://www.youtube.com/watch?v=xBr2qznEaqw)\n",
    "\n",
    "\n",
    "The end goal of this week is a program that will read a file containing measured expression values from probes capturing active genes in the human brain. From all active genes in the brain we would like to know:\n",
    "- which gene has the highest maximum expression over all samples measured\n",
    "- which gene has the highest average expression over all samples \n",
    "\n",
    "\n",
    "> NOTE: All assignments should be done on our Linux systems, this to ensure that you have familiarized yourself with our systems. This prepares you for the rest of the courses of the master program.\n",
    "\n",
    "\n",
    "The assignment consists of 5 parts:\n",
    "- [Part 1: Getting the data](#Part-1:-Getting-the-data)\n",
    "- [Part 2: Reading the data](#Part-2:-Read-the-data)\n",
    "- [Part 3: Preparing the data](#Part-3:-Prepare-the-data)\n",
    "- [Part 4: Processing the data](#Part-4:-Process-the-data)\n",
    "- [Part 5: Integrating other datasources](#Part-5:-Integrate-other-sources-of-information)\n",
    "- [Part 6: Bonus](#Part-6:-Bonus-(optional))\n"
   ]
  },
  {
   "cell_type": "markdown",
   "metadata": {},
   "source": [
    "## Part 1: Getting the data\n",
    "Please download the zip file `H0351.2001` from the Complete normalized microarray datasets at https://human.brain-map.org/static/download   \n",
    "Unpack this file and place the content of the unpacked folder inside the `Data` folder of this repository. It should contain the following files\n",
    "\n",
    "- Readme.txt\n",
    "- Ontology.csv\n",
    "- Probes.csv\n",
    "- PACall.csv\n",
    "- MicroarrayExpression.csv\n",
    "- SampleAnnot.csv"
   ]
  },
  {
   "cell_type": "markdown",
   "metadata": {},
   "source": [
    "## Part 1.1: Inspecting the data using the Linux command line\n",
    "Using the Linux terminal (top left corner -> Terminal Emulator or task bar at the bottom of your screen 2nd Icon):\n",
    "- navigate to the location where you placed the unpacked folder\n",
    "- read the `Readme.txt` from your linux terminal and describe in your own words what the content is of the files:\n",
    "    - `MicroarrayExpression.csv`\n",
    "    - `Probes.csv`\n",
    "- Make sure that you explain what probes and samples are in the context of the research and how the files are related to each other. If you are not familiar with microarray expression data and how it is generated you might want to watch this [video](https://www.youtube.com/watch?v=xBr2qznEaqw)\n",
    "\n",
    "For each file listed above, show the first 5 lines to the screen. Is it clear from the `Readme.txt` what you are looking at?\n",
    "\n",
    "> Tip: on our Debian linux systems the shell is `bash` and a quick google search with the term `bash commands` will show you many sites explaining the most used bash commands."
   ]
  },
  {
   "cell_type": "code",
   "execution_count": 1,
   "metadata": {},
   "outputs": [],
   "source": [
    "# To remember for later how you did this in linux: YOUR LINUX CODE HERE"
   ]
  },
  {
   "cell_type": "code",
   "execution_count": 2,
   "metadata": {},
   "outputs": [],
   "source": [
    "# Use this cell to describe the files in words "
   ]
  },
  {
   "cell_type": "markdown",
   "metadata": {},
   "source": [
    "## Part 2: Read the data\n",
    "Write Python code that will read the `MicroarrayExpression.csv` file line by line. Remember: You can **not** use the `pandas` or `csv` library but yoiu have to use the built in Python funtion `with open()`. After that you `print` the *first* line to the screen\n",
    "\n",
    "> Note: It is bad habbit to completely read a file into memory as this will keep many MB's or even GB's of space occupied. Instead, read a file line by line and process the content as each line is being read.\n",
    "\n",
    "Expected outcome:\n",
    "\n",
    "1058685,3.6157916807089787,2.13807367935382,2.4805415023588107.....3.3062090302215705"
   ]
  },
  {
   "cell_type": "code",
   "execution_count": 3,
   "metadata": {},
   "outputs": [],
   "source": [
    "# YOUR PYTHON CODE HERE\n"
   ]
  },
  {
   "cell_type": "markdown",
   "metadata": {},
   "source": [
    "## Part 3: Prepare the data\n",
    "Each line consists of 2 seperate parts, the first element of each line is the probe identifier and all other elements are measured microaray expression levels. For this part we want to have to **probe IDs** and the **rest** seperated from each other and stored in **two variables**. Please use variables names according the [PEP8 style guide](https://pep8.org/#introduction)\n",
    "\n",
    "Add the Python code that should be able to do so in the code block below. You are allowed to copy the code from part 2 and modify the code in order to create and fill the two variables. \n",
    "Again verify that the output is correct by printing the first line to the screen. Limit the number of expression values printed to screen to 10\n",
    "\n",
    "Expected outcome (depending on the variable data types you choose) \n",
    "\n",
    "1058685 ['3.6157916807089787', '2.13807367935382', '2.4805415023588107', '2.96497183239022', '2.67980316976351', '1.8562381007421844', '2.28043513665554', '3.08085727123301', '2.62857527091796', '2.358911706578']"
   ]
  },
  {
   "cell_type": "code",
   "execution_count": 4,
   "metadata": {},
   "outputs": [],
   "source": [
    "# YOUR PYTHON CODE HERE\n"
   ]
  },
  {
   "cell_type": "markdown",
   "metadata": {},
   "source": [
    "## Part 3.1: More data preperation\n",
    "To calculate the average and maximum of each probe, we first have to convert each expression to a suitable Python data type.\n",
    "\n",
    "Implement the code that will do this in the code block below. You are allowed to copy the code from part 3 and modify the code in order to create and fill the two variables with the suitable data type. You can **not** use the libraries pandas or numpy for this. Again just as above print from the first line the probe identifier and the first 10 (converted) measured expression values\n",
    "\n",
    "Expected outcome (depending on the variable data type you choose): \n",
    "\n",
    "1058685 [3.6157916807089787, 2.13807367935382, 2.4805415023588107, 2.96497183239022, 2.67980316976351, 1.8562381007421844, 2.28043513665554, 3.08085727123301, 2.62857527091796, 2.358911706578]"
   ]
  },
  {
   "cell_type": "code",
   "execution_count": 5,
   "metadata": {},
   "outputs": [],
   "source": [
    "# YOUR PYTHON CODE HERE\n"
   ]
  },
  {
   "cell_type": "markdown",
   "metadata": {},
   "source": [
    "## Part 4: Process the data\n",
    "For each probe we would like to calculate the maximum value and the average value. Incorporate the Python code that will calculate these two values for every probe.\n",
    "\n",
    "Print from the first line the probe identifier and the calculated maximum and average expression value. Round the expression values to 3 decimal places. Tip: use fstring formatting.  \n",
    "\n",
    "Expected outcome (something similar to):\n",
    "\n",
    "probe: 1058685, max expression: 5.266, average expression: 3.171"
   ]
  },
  {
   "cell_type": "code",
   "execution_count": 6,
   "metadata": {},
   "outputs": [],
   "source": [
    "# YOUR PYTHON CODE HERE\n"
   ]
  },
  {
   "cell_type": "markdown",
   "metadata": {},
   "source": [
    "## Part 4.1: Report on analysis\n",
    "Report on (print to screen):\n",
    "- the probe with the highest maximum expression value measures over all samples and the highest average expression value over all samples.\n",
    "\n",
    "Expected outcome: \n",
    "\n",
    "There are multiple probes with a maximum expression of 18.3817518519472, the probe with the highest average expression is probe 1070089, which has also the maximum expression of 18.3817518519472. The expressions should be printed in 3 decimal"
   ]
  },
  {
   "cell_type": "code",
   "execution_count": 7,
   "metadata": {},
   "outputs": [],
   "source": [
    "# YOUR PYTHON CODE HERE\n"
   ]
  },
  {
   "cell_type": "markdown",
   "metadata": {},
   "source": [
    "## Part 5: Integrate other sources of information\n",
    "\n",
    "By using the other available csv files. Can you report the **gene_name** of the probe having the highest overall and highest average value? \n",
    "\n",
    "Expected outcome: probe: 1070089, gene name: \"AGILENT probe A_23_P317056 (non-RefSeq)\""
   ]
  },
  {
   "cell_type": "code",
   "execution_count": 8,
   "metadata": {},
   "outputs": [],
   "source": [
    "# YOUR PYTHON CODE HERE\n"
   ]
  },
  {
   "cell_type": "markdown",
   "metadata": {},
   "source": [
    "## Part 6: Bonus (optional)\n",
    "\n",
    "Can you report on the 5 genes that have the top 5 higest average expression value?\n",
    "\n"
   ]
  },
  {
   "cell_type": "code",
   "execution_count": 9,
   "metadata": {},
   "outputs": [],
   "source": [
    "# YOUR PYTHON CODE HERE\n"
   ]
  },
  {
   "cell_type": "markdown",
   "metadata": {},
   "source": [
    "# Conclusion\n",
    "\n",
    "We found genes that are highly expressed in this brain dataset. Overall, detecting highly expressed genes helps researchers uncover the players that drive cellular processes or disease mechanisms. This week you took the first step in this analyis. Well done! "
   ]
  }
 ],
 "metadata": {
  "kernelspec": {
   "display_name": "Python 3 (ipykernel)",
   "language": "python",
   "name": "python3"
  },
  "language_info": {
   "codemirror_mode": {
    "name": "ipython",
    "version": 3
   },
   "file_extension": ".py",
   "mimetype": "text/x-python",
   "name": "python",
   "nbconvert_exporter": "python",
   "pygments_lexer": "ipython3",
   "version": "3.10.4"
  },
  "vscode": {
   "interpreter": {
    "hash": "b0fa6594d8f4cbf19f97940f81e996739fb7646882a419484c72d19e05852a7e"
   }
  }
 },
 "nbformat": 4,
 "nbformat_minor": 2
}
