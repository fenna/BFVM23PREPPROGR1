{
 "cells": [
  {
   "cell_type": "markdown",
   "metadata": {},
   "source": [
    "# Week 05 water fleas exposed to microplastic and a virulent host\n",
    "\n",
    "And now for something completely different...\n",
    "\n",
    "The assignment of this week makes use of the data that is available from an experimental study using water fleas (*Daphnia galeata* × *longispina* hybrids) as a model host species, exposed simultaneously to nanoplastics (NP) and to a common virulent parasite. Individual *Daphnia* were exposed to either two different NP concentrations or a control medium, and simultaneously inoculated with spores of the parasitic yeast *Metschnikowia*.\n",
    " \n",
    "The data for this assignment can be found in the `DaMN.csv` file inside the `Data` folder. It consists of measurements on 150 individuals (rows). The columns of the dataset are:\n",
    "\n",
    "|  Column name | Description  |\n",
    "|---|---|\n",
    "| ID No | The individual code number for each animal (150 individuals) |\n",
    "| Treatment | The treatment that the animal was in (six treatments) |\n",
    "| NP_treatment | The nanoplastic treatment that the animal was in (three treatments) |\n",
    "| In_treatment | The inoculation treatment that the animal was in (two treatments) |\n",
    "| Age_death | The age that each individual died (in days) |\n",
    "| Total_juv | The total amount of offspring that each individual produced |\n",
    "| No_clutch | The total number of births that each individual had |\n",
    "| Inf_mets | Whether the individuals where actually infected or not (1: yes, 0: no) |\n",
    "| Spore_yield | The total number of spores found in the animal |\n",
    "| Age_at_Mat | The age that each individual gave their first birth |\n",
    "| H_errors | Dead individuals due to scientist handling errors (0:no,  1:yes) |\n",
    "\n",
    "\n",
    "Write a Python program that will answer the following questions:\n",
    "- What is the average offspring count, mortality, Spore yield per treatment?\n",
    "- From the inoculated treatment, what is the infection rate? (number of individuals that are in an treatment and are infected / total individuals in that treatment)\n",
    "\n",
    "> the Handling errors should be filtered out before any analysis.\n",
    "\n",
    "\n",
    "Coding requirements:\n",
    "- Structure all code in functions/methods\n",
    "- Define an Individual class that will contain the relevant information for 1 individual\n",
    "    - Place this class inside a seperate module and import it in the main program\n",
    "    - One should be able to print an individual and show meaningfull information\n",
    "- Write valid PEP8 code\n"
   ]
  }
 ],
 "metadata": {
  "kernelspec": {
   "display_name": "Python 3.9.10 64-bit",
   "language": "python",
   "name": "python3"
  },
  "language_info": {
   "codemirror_mode": {
    "name": "ipython",
    "version": 3
   },
   "file_extension": ".py",
   "mimetype": "text/x-python",
   "name": "python",
   "nbconvert_exporter": "python",
   "pygments_lexer": "ipython3",
   "version": "3.9.10"
  },
  "orig_nbformat": 4,
  "vscode": {
   "interpreter": {
    "hash": "b0fa6594d8f4cbf19f97940f81e996739fb7646882a419484c72d19e05852a7e"
   }
  }
 },
 "nbformat": 4,
 "nbformat_minor": 2
}
