{
 "cells": [
  {
   "cell_type": "markdown",
   "metadata": {},
   "source": [
    "# Week 04 Assignment genes expressed in the brain\n",
    "\n",
    "During this week, you will learn how to define your own classes and use them to create objects. In Python everything is an object and even without knowing it we have been using these\n",
    "objects. \n",
    "\n",
    "We can recognize an object by the **dot** (**.**) notation that we have to use to get access to the functions and variables of an object. In object terminology a class function is called a method and a class variable is called an attribute.\n",
    "\n",
    "For example, remember the string.upper() method? This is an example of calling the upper() method on the string object. We can see that we used the dot operator after the name of the object we want to use and that the method will work in the variables that are saved in the object (called the object state).\n",
    "\n",
    "In general we can say that objects have a **state** (variables or **attributes** called in objects) and **behavior** (functions or **methods** called in objects) that work on these variables).\n",
    "\n",
    "Objects are defined in so called **classes**, which are the blueprint of the object to be created. Object can be called into live (object instantiation) by assigning this blueprint to a variable.\n",
    "\n",
    "For the assignment of this week you wil define two class definitions and use these to bring objects of these types into life by assigning it to a variable.\n",
    "\n",
    "Files needed: `MicroarrayExpression.csv`, `Probes.csv`, `SampleAnnot.csv` and `PACall.csv`\n",
    "\n",
    "Create a program that will read all files needed and creates objects of the following types:\n",
    "\n",
    "## MicroArray class\n",
    " - should store the Structure id, Structure acronym, Structure name\n",
    " - has a list of probe objects for a given experiment\n",
    " - above information is mandatory to pass when creating a microarray object\n",
    " - should keep track of the number of created microarrays\n",
    " - when printing a microarray object it should show the Structure id, Structure acronym and Structure name nicelly formatted\n",
    " - has a method to get the probes that are above a certain expression value (cutoff) and optionally also are above the background (using a default argument set to `False`)\n",
    "\n",
    "\n",
    "## Probe class\n",
    "- should store expression value\n",
    "- should store probe_id, gene id and gene name, chromosome\n",
    "- should store if the probe is above background (see `PACall.csv` file)\n",
    "- it should be mandatory to pass all information when the probe is created\n",
    "- when a probe is printed it should show a nicelly formatted string containing the value of the attributes\n",
    "- should keep track of the number of created probes\n",
    "\n",
    "Run your program from the commandline and show the difference and intersection of two experiments (i.e. LHM and PHA), even beter would be to get two acronyms from the commandline and use these.\n",
    "\n",
    "### Learning outcomes:\n",
    "- know how to define and use classes; \n",
    "    - including the hooks `__init__` and  `__str__` \n",
    "    - know the difference between an instance attribute and class attribute\n",
    "- Can use `try except` statements correctly\n",
    "- write your own error classes\n",
    "\n",
    "\n",
    "### Coding requirements:\n",
    "- write a Python script ending on `.py` (not a notebook), that can be called from the commandline while giving it all necessary information (files and cutoff)\n",
    "- when designing classes; think of which attributes and methods belong to a certain class\n",
    "- when designing functions; keep them simple and have them (preferentially) do only one thing. What a function does should also be clear from the name. \n",
    "- Every module, class and function should have pydoc (see PEP8)\n",
    "- Your program should follow the PEP8 standard. On our system you can use the commandline tool `pylint` to check this. Run it in the terminal by typing: `pylint name_of_your_program.py`. Visual Code has extensions (pylint, Flake8) that allow you to see the PEP8 warnings inside the IDE.\n",
    "- add `try except` statements where appropriate\n",
    "    - define your own error class and `raise` it \n",
    "- Place the class definitions in a seperate module and import it.\n",
    "- define at least two additional classes (see above): `MicroArray` and `Probe`\n",
    "\n"
   ]
  }
 ],
 "metadata": {
  "kernelspec": {
   "display_name": "Python 3.9.10 64-bit",
   "language": "python",
   "name": "python3"
  },
  "language_info": {
   "name": "python",
   "version": "3.9.10"
  },
  "orig_nbformat": 4,
  "vscode": {
   "interpreter": {
    "hash": "b0fa6594d8f4cbf19f97940f81e996739fb7646882a419484c72d19e05852a7e"
   }
  }
 },
 "nbformat": 4,
 "nbformat_minor": 2
}
