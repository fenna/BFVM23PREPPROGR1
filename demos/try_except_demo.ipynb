{
 "cells": [
  {
   "cell_type": "code",
   "execution_count": null,
   "id": "4f8fca08",
   "metadata": {},
   "outputs": [],
   "source": [
    "try: \n",
    "    # some code\n",
    "    # that might throw \n",
    "except <ExceptionType1>:\n",
    "    #handler1\n",
    "except <ExceptionType2>:\n",
    "    #handler2\n",
    "except <ExceptionType3>:\n",
    "    #handler3\n",
    "else:\n",
    "    # process something else\n",
    "finally:\n",
    "    # this will always be processed"
   ]
  },
  {
   "cell_type": "code",
   "execution_count": 2,
   "id": "1ab2f24b",
   "metadata": {},
   "outputs": [
    {
     "name": "stdout",
     "output_type": "stream",
     "text": [
      "file not found\n"
     ]
    }
   ],
   "source": [
    "try: \n",
    "    with open('somefile.txt') as f:\n",
    "        for line in f:\n",
    "            print(line)\n",
    "except IOError:\n",
    "    print('file not found')"
   ]
  },
  {
   "cell_type": "code",
   "execution_count": 8,
   "id": "c14426f4",
   "metadata": {},
   "outputs": [
    {
     "name": "stdout",
     "output_type": "stream",
     "text": [
      "Enter two numbers, seperated by comma1 2\n",
      "comma is missing\n",
      "this will be always printed\n"
     ]
    }
   ],
   "source": [
    "try: \n",
    "    num1, num2 = eval(input('Enter two numbers, seperated by comma'))\n",
    "    result = num1/num2\n",
    "    print(f'result {result}')\n",
    "except ZeroDivisionError:\n",
    "    print('division by zero is error')\n",
    "except SyntaxError:\n",
    "    print('comma is missing')\n",
    "except:\n",
    "    print('wrong input')\n",
    "else:\n",
    "    print('no exceptions')    \n",
    "finally:\n",
    "    print('this will be always printed')\n",
    "    "
   ]
  },
  {
   "cell_type": "code",
   "execution_count": null,
   "id": "0a9fda5e",
   "metadata": {},
   "outputs": [],
   "source": []
  },
  {
   "cell_type": "code",
   "execution_count": null,
   "id": "a80b2516",
   "metadata": {},
   "outputs": [],
   "source": []
  }
 ],
 "metadata": {
  "kernelspec": {
   "display_name": "Python 3 (ipykernel)",
   "language": "python",
   "name": "python3"
  },
  "language_info": {
   "codemirror_mode": {
    "name": "ipython",
    "version": 3
   },
   "file_extension": ".py",
   "mimetype": "text/x-python",
   "name": "python",
   "nbconvert_exporter": "python",
   "pygments_lexer": "ipython3",
   "version": "3.11.2"
  }
 },
 "nbformat": 4,
 "nbformat_minor": 5
}
