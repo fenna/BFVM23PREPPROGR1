{
 "cells": [
  {
   "cell_type": "code",
   "execution_count": 64,
   "id": "b2b222e6",
   "metadata": {},
   "outputs": [
    {
     "name": "stdout",
     "output_type": "stream",
     "text": [
      "1058685\n",
      "1058684\n",
      "1058683\n",
      "1058682\n"
     ]
    }
   ],
   "source": [
    "path = '/homes/fennaf/Education/BFVM23PREPPROGR1/Data/normalized_microarray_donor9861/MicroarrayExpression.csv'\n",
    "\n",
    "#create a test base testing with only a few lines\n",
    "with open(path) as microarray_file:\n",
    "    count = 0\n",
    "    for line in microarray_file:\n",
    "        ellements = line.split(',')\n",
    "        count = count + 1\n",
    "        if count < 5:\n",
    "            print(ellements[0])\n",
    "        else:\n",
    "            break   "
   ]
  },
  {
   "cell_type": "markdown",
   "id": "9ed183e3",
   "metadata": {},
   "source": [
    "# Make floats\n",
    "We can convert strings into float with `map()` function, or by `float()` function. If we choose to iterate we can use for loop or a list comprehension"
   ]
  },
  {
   "cell_type": "code",
   "execution_count": 68,
   "id": "74a50b66",
   "metadata": {},
   "outputs": [
    {
     "name": "stdout",
     "output_type": "stream",
     "text": [
      "<class 'float'>\n",
      "[3.6157916807089787, 2.13807367935382, 2.4805415023588107, 2.96497183239022]\n",
      "<class 'float'>\n",
      "[1.5743803311910092, 1.68721698343853, 1.9757349645177102, 2.08947543954426]\n",
      "<class 'float'>\n",
      "[1.5964312593984673, 1.9483706064297202, 2.19191005798956, 2.22404168285157]\n",
      "<class 'float'>\n",
      "[4.482883288073512, 6.60604412492864, 5.26155872689067, 4.01327667308552]\n"
     ]
    }
   ],
   "source": [
    "#loop through file and change expressions to floats\n",
    "#use map function\n",
    "with open(path) as microarray_file:\n",
    "    count = 0\n",
    "    for line in microarray_file:\n",
    "        ellements = line.split(',')\n",
    "        probe = ellements[0]\n",
    "        expressions = ellements[1:]\n",
    "        ############################\n",
    "        #using the map function\n",
    "        ############################\n",
    "        expressions = list(map(float, expressions))\n",
    "        count = count + 1\n",
    "        if count < 5:\n",
    "            #use test to test type\n",
    "            print(type(expressions[0]))\n",
    "            print(expressions[0:4])\n",
    "        else:\n",
    "            break\n",
    "    "
   ]
  },
  {
   "cell_type": "code",
   "execution_count": null,
   "id": "7e316686",
   "metadata": {},
   "outputs": [],
   "source": [
    "#loop through file and change expressions to floats\n",
    "#using the list comprehension\n",
    "with open(path) as microarray_file:\n",
    "    count = 0\n",
    "    for line in microarray_file:\n",
    "        ellements = line.split(',')\n",
    "        probe = ellements[0]\n",
    "        expressions = ellements[1:]\n",
    "        ############################\n",
    "        #using the list comprehension\n",
    "        ############################\n",
    "        expressions = [float(expression) for expression in expressions]\n",
    "        count = count + 1\n",
    "        if count < 5:\n",
    "            #use test to test type\n",
    "            print(type(expressions[0]))\n",
    "            print(expressions[0:4])\n",
    "        else:\n",
    "            break"
   ]
  },
  {
   "cell_type": "code",
   "execution_count": 71,
   "id": "6f74d227",
   "metadata": {},
   "outputs": [
    {
     "name": "stdout",
     "output_type": "stream",
     "text": [
      "<class 'float'>\n",
      "[3.6157916807089787, 2.13807367935382, 2.4805415023588107, 2.96497183239022]\n",
      "<class 'float'>\n",
      "[1.5743803311910092, 1.68721698343853, 1.9757349645177102, 2.08947543954426]\n",
      "<class 'float'>\n",
      "[1.5964312593984673, 1.9483706064297202, 2.19191005798956, 2.22404168285157]\n",
      "<class 'float'>\n",
      "[4.482883288073512, 6.60604412492864, 5.26155872689067, 4.01327667308552]\n"
     ]
    }
   ],
   "source": [
    "#loop through file and change expressions to floats\n",
    "#using for loop\n",
    "with open(path) as microarray_file:\n",
    "    count = 0\n",
    "    for line in microarray_file:\n",
    "        ellements = line.split(',')\n",
    "        probe = ellements[0]\n",
    "        expressions = ellements[1:]\n",
    "        ############################\n",
    "        #using for loop\n",
    "        ############################\n",
    "        converted_expressions = []\n",
    "        for expression in expressions:\n",
    "            expression = float(expression)\n",
    "            converted_expressions.append(expression)\n",
    "        \n",
    "        count = count + 1\n",
    "        expressions = converted_expressions\n",
    "        if count < 5:\n",
    "            #use test to test type\n",
    "            print(type(converted_expressions[0]))\n",
    "            print(converted_expressions[0:4])\n",
    "        else:\n",
    "            break"
   ]
  },
  {
   "cell_type": "markdown",
   "id": "875a9bec",
   "metadata": {},
   "source": [
    "# Take the maximum"
   ]
  },
  {
   "cell_type": "code",
   "execution_count": 73,
   "id": "9127e007",
   "metadata": {},
   "outputs": [
    {
     "name": "stdout",
     "output_type": "stream",
     "text": [
      "9.34943014478049\n",
      "9.34943014478049\n",
      "9.34943014478049\n"
     ]
    }
   ],
   "source": [
    "#use built in max function\n",
    "max_expression = max(expressions)\n",
    "print(max_expression)\n",
    "\n",
    "# sort list and take first element from sorted list, \n",
    "# make sure to reverse (ascending is default)\n",
    "max_expression = sorted(expressions, reverse=True)[0]\n",
    "print(max_expression)\n",
    "\n",
    "#loop approach\n",
    "max_expression = 0\n",
    "for expression_value in expressions:\n",
    "    if expression_value > max_expression:\n",
    "        max_expression=expression_value\n",
    "print(max_expression)"
   ]
  },
  {
   "cell_type": "markdown",
   "id": "6a60f45b",
   "metadata": {},
   "source": [
    "# Storage strategies\n",
    "\n",
    "We need to store the probe ID, max and average expression. This can be done in all kind of collections"
   ]
  },
  {
   "cell_type": "code",
   "execution_count": 75,
   "id": "1208092b",
   "metadata": {},
   "outputs": [
    {
     "name": "stdout",
     "output_type": "stream",
     "text": [
      "{'1058685': (5.26622570249213, 3.170860604540975), '1058684': (5.98332297081074, 1.8074079866448114), '1058683': (4.56919310533608, 1.8444322246720382), '1058682': (6.72349954064204, 4.734647621437371), '1058681': (9.34943014478049, 6.8894567391463815)}\n",
      "\n",
      "\n",
      "[('1058685', 5.26622570249213, 3.170860604540975), ('1058684', 5.98332297081074, 1.8074079866448114), ('1058683', 4.56919310533608, 1.8444322246720382), ('1058682', 6.72349954064204, 4.734647621437371), ('1058681', 9.34943014478049, 6.8894567391463815)]\n"
     ]
    }
   ],
   "source": [
    "with open(path) as microarray_file:\n",
    "    count = 0\n",
    "    data_dict = {}\n",
    "    data_list = []\n",
    "    for line in microarray_file:\n",
    "        ellements = line.split(',')\n",
    "        \n",
    "        probe = ellements[0]\n",
    "        expressions = ellements[1:]\n",
    "        expressions = list(map(float, expressions))\n",
    "        max_expression = max(expressions)\n",
    "        average_expression = sum(expressions)/len(expressions)\n",
    "        ########################################################\n",
    "        #dictionary approach\n",
    "        data_dict[probe] = (max_expression, average_expression)\n",
    "        ########################################################\n",
    "        \n",
    "        ########################################################\n",
    "        #list approach\n",
    "        data_list.append((probe, max_expression, average_expression))\n",
    "        #########################################################\n",
    "        \n",
    "        count = count + 1\n",
    "        if count < 5:\n",
    "            continue\n",
    "        else:\n",
    "            break\n",
    "\n",
    "print(data_dict)\n",
    "print('\\n')\n",
    "print(data_list)"
   ]
  },
  {
   "cell_type": "code",
   "execution_count": 76,
   "id": "54fb4093",
   "metadata": {},
   "outputs": [
    {
     "data": {
      "text/plain": [
       "dict_keys(['1058685', '1058684', '1058683', '1058682', '1058681'])"
      ]
     },
     "execution_count": 76,
     "metadata": {},
     "output_type": "execute_result"
    }
   ],
   "source": [
    "data_dict.keys()"
   ]
  },
  {
   "cell_type": "code",
   "execution_count": 77,
   "id": "bf9addc8",
   "metadata": {},
   "outputs": [
    {
     "data": {
      "text/plain": [
       "dict_values([(5.26622570249213, 3.170860604540975), (5.98332297081074, 1.8074079866448114), (4.56919310533608, 1.8444322246720382), (6.72349954064204, 4.734647621437371), (9.34943014478049, 6.8894567391463815)])"
      ]
     },
     "execution_count": 77,
     "metadata": {},
     "output_type": "execute_result"
    }
   ],
   "source": [
    "data_dict.values()"
   ]
  },
  {
   "cell_type": "code",
   "execution_count": 79,
   "id": "19279cbc",
   "metadata": {},
   "outputs": [
    {
     "name": "stdout",
     "output_type": "stream",
     "text": [
      "key:1058685, value:(5.26622570249213, 3.170860604540975)\n",
      "key:1058684, value:(5.98332297081074, 1.8074079866448114)\n",
      "key:1058683, value:(4.56919310533608, 1.8444322246720382)\n",
      "key:1058682, value:(6.72349954064204, 4.734647621437371)\n",
      "key:1058681, value:(9.34943014478049, 6.8894567391463815)\n"
     ]
    }
   ],
   "source": [
    "for key, value in data_dict.items():\n",
    "    print(f'key:{key}, value:{value}')\n",
    "    "
   ]
  },
  {
   "cell_type": "code",
   "execution_count": 86,
   "id": "842efa7c",
   "metadata": {},
   "outputs": [
    {
     "name": "stdout",
     "output_type": "stream",
     "text": [
      "key:1058681, max:9.34943014478049, avg:6.8894567391463815\n",
      "key:1058682, max:6.72349954064204, avg:4.734647621437371\n",
      "key:1058684, max:5.98332297081074, avg:1.8074079866448114\n",
      "key:1058685, max:5.26622570249213, avg:3.170860604540975\n",
      "key:1058683, max:4.56919310533608, avg:1.8444322246720382\n"
     ]
    }
   ],
   "source": [
    "for key, value in sorted(data_dict.items(), key=lambda e:e[1], reverse=True):\n",
    "    print(f'key:{key}, max:{value[0]}, avg:{value[1]}')\n",
    "    "
   ]
  },
  {
   "cell_type": "code",
   "execution_count": 43,
   "id": "187c684c",
   "metadata": {},
   "outputs": [
    {
     "data": {
      "text/plain": [
       "[('1058685', 5.26622570249213, 3.170860604540975),\n",
       " ('1058684', 5.98332297081074, 1.8074079866448114),\n",
       " ('1058683', 4.56919310533608, 1.8444322246720382),\n",
       " ('1058682', 6.72349954064204, 4.734647621437371),\n",
       " ('1058681', 9.34943014478049, 6.8894567391463815)]"
      ]
     },
     "execution_count": 43,
     "metadata": {},
     "output_type": "execute_result"
    }
   ],
   "source": [
    "data_list"
   ]
  },
  {
   "cell_type": "code",
   "execution_count": 82,
   "id": "34dcaf20",
   "metadata": {},
   "outputs": [
    {
     "name": "stdout",
     "output_type": "stream",
     "text": [
      "probe:1058685, max:5.26622570249213, avg:3.170860604540975\n",
      "probe:1058684, max:5.98332297081074, avg:1.8074079866448114\n",
      "probe:1058683, max:4.56919310533608, avg:1.8444322246720382\n",
      "probe:1058682, max:6.72349954064204, avg:4.734647621437371\n",
      "probe:1058681, max:9.34943014478049, avg:6.8894567391463815\n"
     ]
    }
   ],
   "source": [
    "for probe, maximum, average  in data_list:\n",
    "    print(f'probe:{probe}, max:{maximum}, avg:{average}')"
   ]
  },
  {
   "cell_type": "code",
   "execution_count": 55,
   "id": "f1916619",
   "metadata": {},
   "outputs": [
    {
     "name": "stdout",
     "output_type": "stream",
     "text": [
      "probe: 1058681, maximum expression: 9.349, average expression: 6.889\n",
      "probe: 1058682, maximum expression: 6.723, average expression: 4.735\n",
      "probe: 1058684, maximum expression: 5.983, average expression: 1.807\n"
     ]
    }
   ],
   "source": [
    "#demo script to demonstrate the sorted function in combination with a collection of tuples \n",
    "sorted_list = sorted(data_list, key = lambda e:e[1], reverse=True)\n",
    "top3_list = sorted(data_list, key = lambda e:e[1], reverse=True)[0:3]\n",
    "top3_list\n",
    "\n",
    "for p, m, a in top3_list:\n",
    "    print(f'probe: {p}, maximum expression: {m:.3f}, average expression: {a:.3f}')"
   ]
  },
  {
   "cell_type": "code",
   "execution_count": 39,
   "id": "75edfa7a",
   "metadata": {},
   "outputs": [
    {
     "data": {
      "text/plain": [
       "['6.291312335154753',\n",
       " '8.14988954113965',\n",
       " '7.948217732453051',\n",
       " '6.964453296937231',\n",
       " '8.68215599108933',\n",
       " '7.753634258899736',\n",
       " '7.46276678618159',\n",
       " '6.99820907149784',\n",
       " '7.5654137548154']"
      ]
     },
     "execution_count": 39,
     "metadata": {},
     "output_type": "execute_result"
    }
   ],
   "source": [
    "expression_list = ellements[1:10]\n",
    "expression_list"
   ]
  },
  {
   "cell_type": "code",
   "execution_count": 58,
   "id": "1fd0ada7",
   "metadata": {},
   "outputs": [
    {
     "name": "stdout",
     "output_type": "stream",
     "text": [
      "[:-5] makes ['6.291312335154753', '8.14988954113965', '7.948217732453051', '6.964453296937231']\n"
     ]
    }
   ],
   "source": [
    "#script to demonstrate stop argument (after : in [start:stop])\n",
    "#in this case stop at -5\n",
    "print(f'[:-5] makes {expression_list[:-5]}')"
   ]
  },
  {
   "cell_type": "code",
   "execution_count": 63,
   "id": "dd87fc78",
   "metadata": {},
   "outputs": [
    {
     "name": "stdout",
     "output_type": "stream",
     "text": [
      "13:55:22\n"
     ]
    }
   ],
   "source": [
    "#script to demonstrate the printed format time variable\n",
    "import datetime\n",
    "now = datetime.datetime.now()\n",
    "print(f'{now:%H:%M:%S}')"
   ]
  },
  {
   "cell_type": "code",
   "execution_count": null,
   "id": "fdba39f9",
   "metadata": {},
   "outputs": [],
   "source": []
  }
 ],
 "metadata": {
  "kernelspec": {
   "display_name": "Python 3 (ipykernel)",
   "language": "python",
   "name": "python3"
  },
  "language_info": {
   "codemirror_mode": {
    "name": "ipython",
    "version": 3
   },
   "file_extension": ".py",
   "mimetype": "text/x-python",
   "name": "python",
   "nbconvert_exporter": "python",
   "pygments_lexer": "ipython3",
   "version": "3.11.2"
  }
 },
 "nbformat": 4,
 "nbformat_minor": 5
}
