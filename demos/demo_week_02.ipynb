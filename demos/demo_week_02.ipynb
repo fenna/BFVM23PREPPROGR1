{
 "cells": [
  {
   "cell_type": "code",
   "execution_count": null,
   "id": "575bad6d",
   "metadata": {},
   "outputs": [],
   "source": [
    "# This is how you can explain your design\n",
    "\n",
    "# in order to solve this question i need the following steps ....... \n",
    "# and the following collections .....\n",
    "# in the main function i will loop through <file> to do .....\n",
    "# I choose dictionary because .....\n",
    "\n"
   ]
  },
  {
   "cell_type": "markdown",
   "id": "102c15df",
   "metadata": {},
   "source": [
    "# List comprehensions"
   ]
  },
  {
   "cell_type": "code",
   "execution_count": 1,
   "id": "00ad3ec3",
   "metadata": {},
   "outputs": [
    {
     "name": "stdout",
     "output_type": "stream",
     "text": [
      "[0, 1, 2, 3, 4, 5]\n"
     ]
    }
   ],
   "source": [
    "# list append approach\n",
    "l1 = []\n",
    "for x in range(6):\n",
    "    l1.append(x)\n",
    "    \n",
    "print(l1)"
   ]
  },
  {
   "cell_type": "code",
   "execution_count": 2,
   "id": "f729bdc0",
   "metadata": {},
   "outputs": [
    {
     "name": "stdout",
     "output_type": "stream",
     "text": [
      "[0, 1, 2, 3, 4, 5]\n"
     ]
    }
   ],
   "source": [
    "# list comprehenion approach\n",
    "# [expression for element in iterable <optional test>]\n",
    "# x = expression, x = element, in range(6) is itterable\n",
    "\n",
    "l1 = [x for x in range(6)]\n",
    "\n",
    "print(l1)"
   ]
  },
  {
   "cell_type": "code",
   "execution_count": 3,
   "id": "15683575",
   "metadata": {},
   "outputs": [
    {
     "name": "stdout",
     "output_type": "stream",
     "text": [
      "[0, 1, 4, 9, 16, 25]\n"
     ]
    }
   ],
   "source": [
    "# can be anny expression\n",
    "l1 = [x**2 for x in range(6)]\n",
    "print(l1)"
   ]
  },
  {
   "cell_type": "code",
   "execution_count": 4,
   "id": "1818b888",
   "metadata": {},
   "outputs": [
    {
     "name": "stdout",
     "output_type": "stream",
     "text": [
      "[(0, 0), (1, 1), (4, 8), (9, 27), (16, 64), (25, 125)]\n"
     ]
    }
   ],
   "source": [
    "# can be anny expression\n",
    "l1 = [(x**2, x**3) for x in range(6)]\n",
    "print(l1)"
   ]
  },
  {
   "cell_type": "code",
   "execution_count": 6,
   "id": "00981889",
   "metadata": {},
   "outputs": [],
   "source": [
    "# i also can import functions for my expression\n",
    "import math\n",
    "l2 = [math.sqrt(x) for x in range(6)]"
   ]
  },
  {
   "cell_type": "code",
   "execution_count": 7,
   "id": "2cc5fb26",
   "metadata": {},
   "outputs": [
    {
     "data": {
      "text/plain": [
       "[0.0, 1.0, 1.4142135623730951, 1.7320508075688772, 2.0, 2.23606797749979]"
      ]
     },
     "execution_count": 7,
     "metadata": {},
     "output_type": "execute_result"
    }
   ],
   "source": [
    "l2"
   ]
  },
  {
   "cell_type": "code",
   "execution_count": 9,
   "id": "3900ac63",
   "metadata": {},
   "outputs": [
    {
     "name": "stdout",
     "output_type": "stream",
     "text": [
      "['NaN', 'NaN', 'NaN', 0.0, 1.0, 1.4142135623730951, 1.7320508075688772, 2.0]\n"
     ]
    }
   ],
   "source": [
    "# using conditions\n",
    "l3 = [math.sqrt(x) if x > -1 else 'NaN' for x in range(-3, 5)]\n",
    "print(l3)"
   ]
  },
  {
   "cell_type": "code",
   "execution_count": 13,
   "id": "dd0100fc",
   "metadata": {},
   "outputs": [
    {
     "data": {
      "text/plain": [
       "[[0, 1, 2, 3, 4, 5], [0, 1, 2, 3, 4, 5], [0, 1, 2, 3, 4, 5]]"
      ]
     },
     "execution_count": 13,
     "metadata": {},
     "output_type": "execute_result"
    }
   ],
   "source": [
    "l_nested = [[x for x in range(6)] for x in range(3)]\n",
    "l_nested"
   ]
  },
  {
   "cell_type": "code",
   "execution_count": 17,
   "id": "9b4ee8c8",
   "metadata": {},
   "outputs": [
    {
     "data": {
      "text/plain": [
       "{0: 0, 1: 1, 2: 4, 3: 9, 4: 16, 5: 25}"
      ]
     },
     "execution_count": 17,
     "metadata": {},
     "output_type": "execute_result"
    }
   ],
   "source": [
    "#mind you, the sample principle can be used to make dict comprehensions\n",
    "{x:x**2 for x in range(6)}"
   ]
  },
  {
   "cell_type": "code",
   "execution_count": null,
   "id": "a7f25d3e",
   "metadata": {},
   "outputs": [],
   "source": [
    "# or to create something like this\n",
    "{gene:get_highest_probe(gene) for gene in genes}"
   ]
  },
  {
   "cell_type": "code",
   "execution_count": null,
   "id": "00ef2a56",
   "metadata": {},
   "outputs": [],
   "source": []
  },
  {
   "cell_type": "markdown",
   "id": "32457232",
   "metadata": {},
   "source": [
    "# Lambda"
   ]
  },
  {
   "cell_type": "code",
   "execution_count": 15,
   "id": "ac2dc296",
   "metadata": {},
   "outputs": [
    {
     "data": {
      "text/plain": [
       "16"
      ]
     },
     "execution_count": 15,
     "metadata": {},
     "output_type": "execute_result"
    }
   ],
   "source": [
    "#normal function\n",
    "def square(x):\n",
    "    return x*x\n",
    "\n",
    "square(4)"
   ]
  },
  {
   "cell_type": "code",
   "execution_count": 16,
   "id": "c1e62ef2",
   "metadata": {},
   "outputs": [
    {
     "data": {
      "text/plain": [
       "16"
      ]
     },
     "execution_count": 16,
     "metadata": {},
     "output_type": "execute_result"
    }
   ],
   "source": [
    "# lambda function\n",
    "square = lambda x:x*x\n",
    "\n",
    "square(4)"
   ]
  },
  {
   "cell_type": "code",
   "execution_count": 11,
   "id": "43d89768",
   "metadata": {},
   "outputs": [
    {
     "name": "stdout",
     "output_type": "stream",
     "text": [
      "(10, 8, 25)\n"
     ]
    }
   ],
   "source": [
    "# most of the time i use lambda in combination with mapping functions\n",
    "tup = (7, 5, 22)\n",
    "\n",
    "newtuple = tuple(map(lambda x:x+3, tup))\n",
    "print(newtuple)"
   ]
  },
  {
   "cell_type": "markdown",
   "id": "8c9f1901",
   "metadata": {},
   "source": [
    "# About set"
   ]
  },
  {
   "cell_type": "code",
   "execution_count": null,
   "id": "50be3f72",
   "metadata": {},
   "outputs": [],
   "source": [
    "shared = set(lhm) & set(pha)"
   ]
  }
 ],
 "metadata": {
  "kernelspec": {
   "display_name": "Python 3 (ipykernel)",
   "language": "python",
   "name": "python3"
  },
  "language_info": {
   "codemirror_mode": {
    "name": "ipython",
    "version": 3
   },
   "file_extension": ".py",
   "mimetype": "text/x-python",
   "name": "python",
   "nbconvert_exporter": "python",
   "pygments_lexer": "ipython3",
   "version": "3.11.2"
  }
 },
 "nbformat": 4,
 "nbformat_minor": 5
}
