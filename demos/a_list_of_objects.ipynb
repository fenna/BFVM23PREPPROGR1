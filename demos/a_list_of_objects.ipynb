{
 "cells": [
  {
   "cell_type": "code",
   "execution_count": 1,
   "id": "2545181d",
   "metadata": {},
   "outputs": [],
   "source": [
    "class Probe:\n",
    "    \n",
    "    num_probes = 0\n",
    "    \n",
    "    def __init__(self, probe_id, expression):\n",
    "        self.probe_id = probe_id\n",
    "        self.expression_value = expression\n",
    "        Probe.num_probes +=1\n",
    "        \n",
    "    def __str__(self):\n",
    "        return f'{self.probe_id} {self.expression_value}'\n",
    "    "
   ]
  },
  {
   "cell_type": "code",
   "execution_count": 2,
   "id": "ca328c17",
   "metadata": {},
   "outputs": [
    {
     "name": "stdout",
     "output_type": "stream",
     "text": [
      "1\n",
      "2\n",
      "3\n",
      "4\n",
      "5\n",
      "6\n"
     ]
    }
   ],
   "source": [
    "tissue = 319\n",
    "\n",
    "path = '../Data/normalized_microarray_donor9861/MicroarrayExpression.csv'\n",
    "probes = []\n",
    "with open(path) as f:\n",
    "    for count, line in enumerate(f):\n",
    "        values = line.split(',')\n",
    "        probe_id = values[0]\n",
    "        expression = values[tissue]\n",
    "        probe = Probe(probe_id, expression)\n",
    "        probes.append(probe)\n",
    "        \n",
    "        print(probe.num_probes)\n",
    "        if count == 5:\n",
    "            break\n",
    "        \n",
    "    "
   ]
  },
  {
   "cell_type": "code",
   "execution_count": 6,
   "id": "3892d9c1",
   "metadata": {},
   "outputs": [
    {
     "name": "stdout",
     "output_type": "stream",
     "text": [
      "1058685 2.44238532147261 1058684 1.7889787634579302 1058683 1.76672456805532 1058682 2.95242155419302 1058681 5.9871538295590705 1058680 7.911235207054331\n"
     ]
    }
   ],
   "source": [
    "print(*probes)\n",
    "    "
   ]
  },
  {
   "cell_type": "code",
   "execution_count": null,
   "id": "7a542d4f",
   "metadata": {},
   "outputs": [],
   "source": []
  }
 ],
 "metadata": {
  "kernelspec": {
   "display_name": "Python 3 (ipykernel)",
   "language": "python",
   "name": "python3"
  },
  "language_info": {
   "codemirror_mode": {
    "name": "ipython",
    "version": 3
   },
   "file_extension": ".py",
   "mimetype": "text/x-python",
   "name": "python",
   "nbconvert_exporter": "python",
   "pygments_lexer": "ipython3",
   "version": "3.11.2"
  }
 },
 "nbformat": 4,
 "nbformat_minor": 5
}
